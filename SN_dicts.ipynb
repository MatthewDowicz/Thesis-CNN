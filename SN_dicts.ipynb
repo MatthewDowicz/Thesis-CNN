{
 "cells": [
  {
   "cell_type": "code",
   "execution_count": 1,
   "metadata": {},
   "outputs": [],
   "source": [
    "from __future__ import absolute_import, division, print_function, unicode_literals\n",
    "import numpy as np\n",
    "import matplotlib.pyplot as plt\n",
    "from astropy.io import fits\n",
    "from astropy.table import Table\n",
    "import numpy as np\n",
    "import os\n",
    "import shutil\n",
    "import re\n",
    "import time\n",
    "import pickle\n",
    "import pdb\n",
    "import sys\n",
    "import pandas as pd\n",
    "import seaborn as sns\n",
    "import random\n",
    "sns.set()"
   ]
  },
  {
   "cell_type": "code",
   "execution_count": 2,
   "metadata": {},
   "outputs": [],
   "source": [
    "def reading_in_data(filename):\n",
    "    \n",
    "    filename = str(filename)\n",
    "\n",
    "    infile = open(filename,'rb')\n",
    "    new_dict = pickle.load(infile)\n",
    "    infile.close()\n",
    "    \n",
    "    return new_dict\n",
    "\n",
    "\n",
    "\n",
    "def creating_SN_data(data_dict):\n",
    "    \n",
    "    high_noise = []\n",
    "    high_flux = []\n",
    "    high_wave = []\n",
    "    high_class = []\n",
    "    high_redshift = []\n",
    "    high_eboss_tgt = []\n",
    "    \n",
    "    low_noise = []\n",
    "    low_flux = []\n",
    "    low_wave = []\n",
    "    low_class = []\n",
    "    low_redshift = []\n",
    "    low_eboss_tgt = []\n",
    "    \n",
    "    for i in range(len(data_dict['CLASS'])):\n",
    "        \n",
    "        if data_dict['NOISE'][i]  >= 12.:\n",
    "            \n",
    "            high_noise.append(data_dict['NOISE'][i])\n",
    "            high_flux.append(data_dict['FLUX'][i])\n",
    "            high_wave.append(data_dict['WAVE'][i])\n",
    "            high_class.append(data_dict['CLASS'][i])\n",
    "            high_redshift.append(data_dict['REDSHIFT'][i])\n",
    "            #high_eboss_tgt.append(data_dict['EBOSS_TARGET1'][i])\n",
    "            \n",
    "        elif data_dict['NOISE'][i] <= 2.:\n",
    "            \n",
    "            low_noise.append(data_dict['NOISE'][i])\n",
    "            low_flux.append(data_dict['FLUX'][i])\n",
    "            low_wave.append(data_dict['WAVE'][i])\n",
    "            low_class.append(data_dict['CLASS'][i])\n",
    "            low_redshift.append(data_dict['REDSHIFT'][i])\n",
    "            #low_eboss_tgt.append(data_dict['EBOSS_TARGET1'][i])\n",
    "            \n",
    "    \n",
    "    high_SN_dict = {'NOISE': high_noise, 'FLUX': high_flux, 'WAVE': high_wave, 'CLASS': high_class,\\\n",
    "                   'REDSHIFT': high_redshift, 'EBOSS_TARGET1': high_eboss_tgt}\n",
    "    \n",
    "    low_SN_dict = {'NOISE': low_noise, 'FLUX': low_flux, 'WAVE': low_wave, 'CLASS': low_class,\\\n",
    "                  'REDSHIFT': low_redshift, 'EBOSS_TARGET1': low_eboss_tgt}\n",
    "    \n",
    "    SN_dict = {'HIGH': high_SN_dict, 'LOW': low_SN_dict}\n",
    "    \n",
    "    return SN_dict\n",
    "\n",
    "\n",
    "\n",
    "def binning_data(data_dict, bin_num):\n",
    "    \n",
    "    lists = [[] for i in range(bin_num*(len(data_dict.keys()) -1))]\n",
    "    \n",
    "        \n",
    "    for i in range(len(data_dict['REDSHIFT'])):\n",
    "        \n",
    "        if (data_dict['REDSHIFT'][i] >= 2.45) & (data_dict['REDSHIFT'][i] < 2.50):\n",
    "        \n",
    "            lists[0].append(data_dict['REDSHIFT'][i])\n",
    "            lists[1].append(data_dict['CLASS'][i])\n",
    "            lists[2].append(data_dict['WAVE'][i])\n",
    "            lists[3].append(data_dict['FLUX'][i])\n",
    "            lists[4].append(data_dict['NOISE'][i])\n",
    "            \n",
    "        elif (data_dict['REDSHIFT'][i] >= 2.50) & (data_dict['REDSHIFT'][i] < 2.55):\n",
    "        \n",
    "            lists[5].append(data_dict['REDSHIFT'][i])\n",
    "            lists[6].append(data_dict['CLASS'][i])\n",
    "            lists[7].append(data_dict['WAVE'][i])\n",
    "            lists[8].append(data_dict['FLUX'][i])\n",
    "            lists[9].append(data_dict['NOISE'][i])\n",
    "    \n",
    "        elif (data_dict['REDSHIFT'][i] >= 2.55) & (data_dict['REDSHIFT'][i] < 2.60):\n",
    "        \n",
    "            lists[10].append(data_dict['REDSHIFT'][i])\n",
    "            lists[11].append(data_dict['CLASS'][i])\n",
    "            lists[12].append(data_dict['WAVE'][i])\n",
    "            lists[13].append(data_dict['FLUX'][i])\n",
    "            lists[14].append(data_dict['NOISE'][i])\n",
    "        \n",
    "        elif (data_dict['REDSHIFT'][i] >= 2.60) & (data_dict['REDSHIFT'][i] < 2.65):\n",
    "        \n",
    "            lists[15].append(data_dict['REDSHIFT'][i])\n",
    "            lists[16].append(data_dict['CLASS'][i])\n",
    "            lists[17].append(data_dict['WAVE'][i])\n",
    "            lists[18].append(data_dict['FLUX'][i])\n",
    "            lists[19].append(data_dict['NOISE'][i])\n",
    "        \n",
    "        elif (data_dict['REDSHIFT'][i] >= 2.65) & (data_dict['REDSHIFT'][i] < 2.70):\n",
    "        \n",
    "            lists[20].append(data_dict['REDSHIFT'][i])\n",
    "            lists[21].append(data_dict['CLASS'][i])\n",
    "            lists[22].append(data_dict['WAVE'][i])\n",
    "            lists[23].append(data_dict['FLUX'][i])\n",
    "            lists[24].append(data_dict['NOISE'][i])\n",
    "            \n",
    "        elif (data_dict['REDSHIFT'][i] >= 2.70) & (data_dict['REDSHIFT'][i] < 2.75):\n",
    "\n",
    "            lists[25].append(data_dict['REDSHIFT'][i])\n",
    "            lists[26].append(data_dict['CLASS'][i])\n",
    "            lists[27].append(data_dict['WAVE'][i])\n",
    "            lists[28].append(data_dict['FLUX'][i])\n",
    "            lists[29].append(data_dict['NOISE'][i])\n",
    "        \n",
    "        elif (data_dict['REDSHIFT'][i] >= 2.75) & (data_dict['REDSHIFT'][i] < 2.80):\n",
    "        \n",
    "            lists[30].append(data_dict['REDSHIFT'][i])\n",
    "            lists[31].append(data_dict['CLASS'][i])\n",
    "            lists[32].append(data_dict['WAVE'][i])\n",
    "            lists[33].append(data_dict['FLUX'][i])\n",
    "            lists[34].append(data_dict['NOISE'][i])\n",
    "            \n",
    "    \n",
    "        elif (data_dict['REDSHIFT'][i] >= 2.80) & (data_dict['REDSHIFT'][i] < 2.85):\n",
    "        \n",
    "            lists[35].append(data_dict['REDSHIFT'][i])\n",
    "            lists[36].append(data_dict['CLASS'][i])\n",
    "            lists[37].append(data_dict['WAVE'][i])\n",
    "            lists[38].append(data_dict['FLUX'][i])\n",
    "            lists[39].append(data_dict['NOISE'][i])\n",
    "        \n",
    "        elif (data_dict['REDSHIFT'][i] >= 2.85) & (data_dict['REDSHIFT'][i] < 2.90):\n",
    "        \n",
    "            lists[40].append(data_dict['REDSHIFT'][i])\n",
    "            lists[41].append(data_dict['CLASS'][i])\n",
    "            lists[42].append(data_dict['WAVE'][i])\n",
    "            lists[43].append(data_dict['FLUX'][i])\n",
    "            lists[44].append(data_dict['NOISE'][i])\n",
    "        \n",
    "        elif (data_dict['REDSHIFT'][i] >= 2.90) & (data_dict['REDSHIFT'][i] < 2.95):\n",
    "        \n",
    "            lists[45].append(data_dict['REDSHIFT'][i])\n",
    "            lists[46].append(data_dict['CLASS'][i])\n",
    "            lists[47].append(data_dict['WAVE'][i])\n",
    "            lists[48].append(data_dict['FLUX'][i])\n",
    "            lists[49].append(data_dict['NOISE'][i])\n",
    "        \n",
    "        elif (data_dict['REDSHIFT'][i] >= 2.95) & (data_dict['REDSHIFT'][i] < 3.0):\n",
    "\n",
    "            lists[50].append(data_dict['REDSHIFT'][i])\n",
    "            lists[51].append(data_dict['CLASS'][i])\n",
    "            lists[52].append(data_dict['WAVE'][i])\n",
    "            lists[53].append(data_dict['FLUX'][i])\n",
    "            lists[54].append(data_dict['NOISE'][i])\n",
    "        \n",
    "        elif (data_dict['REDSHIFT'][i] >= 3.0) & (data_dict['REDSHIFT'][i] < 3.05):\n",
    "        \n",
    "            lists[55].append(data_dict['REDSHIFT'][i])\n",
    "            lists[56].append(data_dict['CLASS'][i])\n",
    "            lists[57].append(data_dict['WAVE'][i])\n",
    "            lists[58].append(data_dict['FLUX'][i])\n",
    "            lists[59].append(data_dict['NOISE'][i])\n",
    "            \n",
    "        else:\n",
    "            pass\n",
    "            \n",
    "    return lists\n",
    "\n",
    "\n",
    "def balancing_redshifts(binned_lists1, binned_lists2):\n",
    "                                                             \n",
    "    # this function is making sure there are the same number of quasars in each redshift bin\n",
    "    # it randomizes the high SN quasars bc there's more of them so that there's no redshift ordering in them\n",
    "    # binned_dict2 is the place of the high SN quasars, so its len will always be larger than the variable quasars\n",
    "     \n",
    "    redshift1 = binned_lists1[0] + binned_lists1[5] + binned_lists1[10] + binned_lists1[15] +\\\n",
    "                binned_lists1[20] + binned_lists1[25] + binned_lists1[30] + binned_lists1[35] +\\\n",
    "                binned_lists1[40] + binned_lists1[45] + binned_lists1[50] + binned_lists1[55]\n",
    "    \n",
    "    class1 = binned_lists1[1] + binned_lists1[6] + binned_lists1[11] + binned_lists1[16] +\\\n",
    "             binned_lists1[21] + binned_lists1[26] + binned_lists1[31] + binned_lists1[36] +\\\n",
    "             binned_lists1[41] + binned_lists1[46] + binned_lists1[51] + binned_lists1[56]\n",
    "    \n",
    "    wave1 = binned_lists1[2] + binned_lists1[7] + binned_lists1[12] + binned_lists1[17] +\\\n",
    "            binned_lists1[22] + binned_lists1[27] + binned_lists1[32] + binned_lists1[37] +\\\n",
    "            binned_lists1[42] + binned_lists1[47] + binned_lists1[52] + binned_lists1[57]\n",
    "    \n",
    "    flux1 = binned_lists1[3] + binned_lists1[8] + binned_lists1[13] + binned_lists1[18] +\\\n",
    "           binned_lists1[23] + binned_lists1[28] + binned_lists1[33] + binned_lists1[38] +\\\n",
    "           binned_lists1[43] + binned_lists1[48] + binned_lists1[53] + binned_lists1[58]\n",
    "    \n",
    "    noise1 = binned_lists1[4] + binned_lists1[9] + binned_lists1[14] + binned_lists1[19] +\\\n",
    "            binned_lists1[24] + binned_lists1[29] + binned_lists1[34] + binned_lists1[39] +\\\n",
    "            binned_lists1[44] + binned_lists1[49] + binned_lists1[54] + binned_lists1[59]\n",
    "    \n",
    "    dict1 = {'REDSHIFT': redshift1, 'CLASS': class1, 'WAVE': wave1,  'FLUX': flux1, 'NOISE': noise1  }\n",
    "    \n",
    "    \n",
    "    \n",
    "    permutation0 = np.random.permutation(len(binned_lists2[0])) # creates the same permutation to be done on flux & labels\n",
    "\n",
    "    bl0 = (np.asarray(binned_lists2[0])[permutation0])\n",
    "    bl1 = (np.asarray(binned_lists2[1])[permutation0])\n",
    "    bl2 = (np.asarray(binned_lists2[2])[permutation0])\n",
    "    bl3 = (np.asarray(binned_lists2[3])[permutation0])\n",
    "    bl4 = (np.asarray(binned_lists2[4])[permutation0])\n",
    "    \n",
    "    \n",
    "    permutation1 = np.random.permutation(len(var_bin[5])) # creates the same permutation to be done on flux & labels\n",
    "\n",
    "    bl5 = (np.asarray(binned_lists2[5])[permutation1])\n",
    "    bl6 = (np.asarray(binned_lists2[6])[permutation1])\n",
    "    bl7 = (np.asarray(binned_lists2[7])[permutation1])\n",
    "    bl8 = (np.asarray(binned_lists2[8])[permutation1])\n",
    "    bl9 = (np.asarray(binned_lists2[9])[permutation1])\n",
    "\n",
    "    \n",
    "    permutation2 = np.random.permutation(len(var_bin[10])) # creates the same permutation to be done on flux & labels\n",
    "\n",
    "    bl10 = (np.asarray(binned_lists2[10])[permutation2])\n",
    "    bl11 = (np.asarray(binned_lists2[11])[permutation2])\n",
    "    bl12 = (np.asarray(binned_lists2[12])[permutation2])\n",
    "    bl13 = (np.asarray(binned_lists2[13])[permutation2])\n",
    "    bl14 = (np.asarray(binned_lists2[14])[permutation2])\n",
    "    \n",
    "    \n",
    "    permutation3 = np.random.permutation(len(var_bin[15])) # creates the same permutation to be done on flux & labels\n",
    "\n",
    "    bl15 = (np.asarray(binned_lists2[15])[permutation3])\n",
    "    bl16 = (np.asarray(binned_lists2[16])[permutation3])\n",
    "    bl17 = (np.asarray(binned_lists2[17])[permutation3])\n",
    "    bl18 = (np.asarray(binned_lists2[18])[permutation3])\n",
    "    bl19 = (np.asarray(binned_lists2[19])[permutation3])\n",
    "    \n",
    "    \n",
    "    permutation4 = np.random.permutation(len(var_bin[20])) # creates the same permutation to be done on flux & labels\n",
    "\n",
    "    bl20 = (np.asarray(binned_lists2[20])[permutation4])\n",
    "    bl21 = (np.asarray(binned_lists2[21])[permutation4])\n",
    "    bl22 = (np.asarray(binned_lists2[22])[permutation4])\n",
    "    bl23 = (np.asarray(binned_lists2[23])[permutation4])\n",
    "    bl24 = (np.asarray(binned_lists2[24])[permutation4])\n",
    "    \n",
    "    \n",
    "    permutation5 = np.random.permutation(len(var_bin[25])) # creates the same permutation to be done on flux & labels\n",
    "\n",
    "    bl25 = (np.asarray(binned_lists2[25])[permutation5])\n",
    "    bl26 = (np.asarray(binned_lists2[26])[permutation5])\n",
    "    bl27 = (np.asarray(binned_lists2[27])[permutation5])\n",
    "    bl28 = (np.asarray(binned_lists2[28])[permutation5])\n",
    "    bl29 = (np.asarray(binned_lists2[29])[permutation5])\n",
    "    \n",
    "    \n",
    "    permutation6 = np.random.permutation(len(var_bin[30])) # creates the same permutation to be done on flux & labels\n",
    "\n",
    "    bl30 = (np.asarray(binned_lists2[30])[permutation6])\n",
    "    bl31 = (np.asarray(binned_lists2[31])[permutation6])\n",
    "    bl32 = (np.asarray(binned_lists2[32])[permutation6])\n",
    "    bl33 = (np.asarray(binned_lists2[33])[permutation6])\n",
    "    bl34 = (np.asarray(binned_lists2[34])[permutation6])\n",
    "\n",
    "    \n",
    "    permutation7 = np.random.permutation(len(var_bin[35])) # creates the same permutation to be done on flux & labels\n",
    "\n",
    "    bl35 = (np.asarray(binned_lists2[35])[permutation7])\n",
    "    bl36 = (np.asarray(binned_lists2[36])[permutation7])\n",
    "    bl37 = (np.asarray(binned_lists2[37])[permutation7])\n",
    "    bl38 = (np.asarray(binned_lists2[38])[permutation7])\n",
    "    bl39 = (np.asarray(binned_lists2[39])[permutation7])\n",
    "\n",
    "    \n",
    "    permutation8 = np.random.permutation(len(var_bin[40])) # creates the same permutation to be done on flux & labels\n",
    "\n",
    "    bl40 = (np.asarray(binned_lists2[40])[permutation8])\n",
    "    bl41 = (np.asarray(binned_lists2[41])[permutation8])\n",
    "    bl42 = (np.asarray(binned_lists2[42])[permutation8])\n",
    "    bl43 = (np.asarray(binned_lists2[43])[permutation8])\n",
    "    bl44 = (np.asarray(binned_lists2[44])[permutation8])\n",
    "\n",
    "    \n",
    "    permutation9 = np.random.permutation(len(var_bin[45])) # creates the same permutation to be done on flux & labels\n",
    "\n",
    "    bl45 = (np.asarray(binned_lists2[45])[permutation9])\n",
    "    bl46 = (np.asarray(binned_lists2[46])[permutation9])\n",
    "    bl47 = (np.asarray(binned_lists2[47])[permutation9])\n",
    "    bl48 = (np.asarray(binned_lists2[48])[permutation9])\n",
    "    bl49 = (np.asarray(binned_lists2[49])[permutation9])\n",
    "    \n",
    "    \n",
    "    permutation10 = np.random.permutation(len(var_bin[50])) # creates the same permutation to be done on flux & labels\n",
    "\n",
    "    bl50 = (np.asarray(binned_lists2[50])[permutation10])\n",
    "    bl51 = (np.asarray(binned_lists2[51])[permutation10])\n",
    "    bl52 = (np.asarray(binned_lists2[52])[permutation10])\n",
    "    bl53 = (np.asarray(binned_lists2[53])[permutation10])\n",
    "    bl54 = (np.asarray(binned_lists2[54])[permutation10])\n",
    "    \n",
    "    \n",
    "    permutation11 = np.random.permutation(len(var_bin[55])) # creates the same permutation to be done on flux & labels\n",
    "\n",
    "    bl55 = (np.asarray(binned_lists2[55])[permutation11])\n",
    "    bl56 = (np.asarray(binned_lists2[56])[permutation11])\n",
    "    bl57 = (np.asarray(binned_lists2[57])[permutation11])\n",
    "    bl58 = (np.asarray(binned_lists2[58])[permutation11])\n",
    "    bl59 = (np.asarray(binned_lists2[59])[permutation11])\n",
    "    \n",
    "    \n",
    "    \n",
    "    redshift2 = np.concatenate((bl0[:len(binned_lists1[0])], bl5[:len(binned_lists1[5])],\\\n",
    "                bl10[:len(binned_lists1[10])], bl15[:len(binned_lists1[15])], \\\n",
    "                bl20[:len(binned_lists1[20])], bl25[:len(binned_lists1[25])], \\\n",
    "                bl30[:len(binned_lists1[30])], bl35[:len(binned_lists1[35])], \\\n",
    "                bl40[:len(binned_lists1[40])], bl45[:len(binned_lists1[45])], \\\n",
    "                bl50[:len(binned_lists1[50])], bl55[:len(binned_lists1[55])])) \n",
    "\n",
    "\n",
    "    \n",
    "    class2 =    np.concatenate((bl1[:len(binned_lists1[1])], bl6[:len(binned_lists1[6])],\\\n",
    "                bl11[:len(binned_lists1[11])], bl16[:len(binned_lists1[16])], \\\n",
    "                bl21[:len(binned_lists1[21])], bl26[:len(binned_lists1[26])], \\\n",
    "                bl31[:len(binned_lists1[31])], bl36[:len(binned_lists1[36])], \\\n",
    "                bl41[:len(binned_lists1[41])], bl46[:len(binned_lists1[46])], \\\n",
    "                bl51[:len(binned_lists1[51])], bl56[:len(binned_lists1[56])])) \n",
    "    \n",
    "    \n",
    "  \n",
    "    wave2 =     np.concatenate((bl2[:len(binned_lists1[2])], bl7[:len(binned_lists1[7])], \\\n",
    "                bl12[:len(binned_lists1[12])], bl17[:len(binned_lists1[17])], \\\n",
    "                bl22[:len(binned_lists1[22])], bl27[:len(binned_lists1[27])], \\\n",
    "                bl32[:len(binned_lists1[32])], bl37[:len(binned_lists1[37])], \\\n",
    "                bl42[:len(binned_lists1[42])], bl47[:len(binned_lists1[47])], \\\n",
    "                bl52[:len(binned_lists1[52])], bl57[:len(binned_lists1[57])])) \n",
    "    \n",
    "\n",
    "    \n",
    "    flux2 =     np.concatenate((bl3[:len(binned_lists1[3])], bl8[:len(binned_lists1[8])],\\\n",
    "                bl13[:len(binned_lists1[13])], bl18[:len(binned_lists1[18])], \\\n",
    "                bl23[:len(binned_lists1[23])], bl28[:len(binned_lists1[28])], \\\n",
    "                bl33[:len(binned_lists1[33])], bl38[:len(binned_lists1[38])], \\\n",
    "                bl43[:len(binned_lists1[43])], bl48[:len(binned_lists1[48])], \\\n",
    "                bl53[:len(binned_lists1[53])], bl58[:len(binned_lists1[58])])) \n",
    "    \n",
    "    \n",
    "    \n",
    "    noise2 =    np.concatenate((bl4[:len(binned_lists1[4])], bl9[:len(binned_lists1[9])],\\\n",
    "                bl14[:len(binned_lists1[14])], bl19[:len(binned_lists1[19])], \\\n",
    "                bl24[:len(binned_lists1[24])], bl29[:len(binned_lists1[29])], \\\n",
    "                bl34[:len(binned_lists1[34])], bl39[:len(binned_lists1[39])], \\\n",
    "                bl44[:len(binned_lists1[44])], bl49[:len(binned_lists1[49])], \\\n",
    "                bl54[:len(binned_lists1[54])], bl59[:len(binned_lists1[59])])) \n",
    "    \n",
    "    dict2 = {'REDSHIFT': redshift2, 'CLASS': class2, 'WAVE': wave2, 'FLUX': flux2, 'NOISE': noise2}\n",
    "    \n",
    "    dict_dict = {'VAR': dict1, 'HIGH': dict2}\n",
    "    \n",
    "    \n",
    "    return dict_dict\n",
    "\n",
    "\n",
    "\n",
    "def SN_data_selection(data_dict1, data_dict2):\n",
    "    \n",
    "    dict1 = creating_SN_data(data_dict1)\n",
    "    dict2 = creating_SN_data(data_dict2)\n",
    "    \n",
    "    high_SN1 = dict1['HIGH']\n",
    "    low_SN1 = dict1['LOW']\n",
    "    \n",
    "    high_SN2 = dict2['HIGH']\n",
    "    low_SN2 = dict2['LOW']\n",
    "    \n",
    "\n",
    "    \n",
    "    if (len(high_SN1['CLASS'])) > (len(high_SN2['CLASS'])):\n",
    "        \n",
    "        cut_high_SN1_class = high_SN1['CLASS'][:len(high_SN2['CLASS'])]\n",
    "        cut_high_SN1_wave = high_SN1['WAVE'][:len(high_SN2['WAVE'])]\n",
    "        cut_high_SN1_flux = high_SN1['FLUX'][:len(high_SN2['FLUX'])]\n",
    "        cut_high_SN1_noise = high_SN1['NOISE'][:len(high_SN2['NOISE'])]\n",
    "        cut_high_SN1_redshift = high_SN1['REDSHIFT'][:len(high_SN2['REDSHIFT'])]\n",
    "        \n",
    "        cut_high_SN2_class = high_SN2['CLASS']\n",
    "        cut_high_SN2_wave = high_SN2['WAVE']\n",
    "        cut_high_SN2_flux = high_SN2['FLUX']\n",
    "        cut_high_SN2_noise = high_SN2['NOISE']\n",
    "        cut_high_SN2_redshift = high_SN2['REDSHIFT']\n",
    "        \n",
    "        \n",
    "    elif (len(high_SN1['CLASS'])) < (len(high_SN2['CLASS'])): \n",
    "        \n",
    "        cut_high_SN1_class = high_SN1['CLASS']\n",
    "        cut_high_SN1_wave = high_SN1['WAVE']\n",
    "        cut_high_SN1_flux = high_SN1['FLUX']\n",
    "        cut_high_SN1_noise = high_SN1['NOISE']\n",
    "        cut_high_SN1_redshift = high_SN1['REDSHIFT']\n",
    "        \n",
    "        cut_high_SN2_class = high_SN2['CLASS'][:len(high_SN1['CLASS'])]\n",
    "        cut_high_SN2_wave = high_SN2['WAVE'][:len(high_SN1['WAVE'])]\n",
    "        cut_high_SN2_flux = high_SN2['FLUX'][:len(high_SN1['FLUX'])]\n",
    "        cut_high_SN2_noise = high_SN2['NOISE'][:len(high_SN1['NOISE'])]\n",
    "        cut_high_SN2_redshift = high_SN2['REDSHIFT'][:len(high_SN1['REDSHIFT'])]\n",
    "        \n",
    "        \n",
    "\n",
    "    if (len(low_SN1['CLASS'])) > (len(low_SN2['CLASS'])):\n",
    "        \n",
    "        cut_low_SN1_class = low_SN1['CLASS'][:len(low_SN2['CLASS'])]\n",
    "        cut_low_SN1_wave = low_SN1['WAVE'][:len(low_SN2['WAVE'])]\n",
    "        cut_low_SN1_flux = low_SN1['FLUX'][:len(low_SN2['FLUX'])]\n",
    "        cut_low_SN1_noise = low_SN1['NOISE'][:len(low_SN2['NOISE'])]\n",
    "        cut_low_SN1_redshift = low_SN1['REDSHIFT'][:len(low_SN2['REDSHIFT'])]\n",
    "        \n",
    "        cut_low_SN2_class = low_SN2['CLASS']\n",
    "        cut_low_SN2_wave = low_SN2['WAVE']\n",
    "        cut_low_SN2_flux = low_SN2['FLUX']\n",
    "        cut_low_SN2_noise = low_SN2['NOISE']\n",
    "        cut_low_SN2_redshift = low_SN2['REDSHIFT']\n",
    "        \n",
    "        \n",
    "    elif (len(low_SN1['CLASS'])) < (len(low_SN2['CLASS'])): \n",
    "        \n",
    "        cut_low_SN1_class = low_SN1['CLASS']\n",
    "        cut_low_SN1_wave = low_SN1['WAVE']\n",
    "        cut_low_SN1_flux = low_SN1['FLUX']\n",
    "        cut_low_SN1_noise = low_SN1['NOISE']\n",
    "        cut_low_SN1_redshift = low_SN1['REDSHIFT']\n",
    "        \n",
    "        cut_low_SN2_class = low_SN2['CLASS'][:len(low_SN1['CLASS'])]\n",
    "        cut_low_SN2_wave = low_SN2['WAVE'][:len(low_SN1['WAVE'])]\n",
    "        cut_low_SN2_flux = low_SN2['FLUX'][:len(low_SN1['FLUX'])]\n",
    "        cut_low_SN2_noise = low_SN2['NOISE'][:len(low_SN1['NOISE'])]\n",
    "        cut_low_SN2_redshift = low_SN2['REDSHIFT'][:len(low_SN1['REDSHIFT'])]\n",
    "        \n",
    "        \n",
    "        \n",
    "    high_SN_class = cut_high_SN1_class + cut_high_SN2_class\n",
    "    high_SN_wave = cut_high_SN1_wave + cut_high_SN2_wave\n",
    "    high_SN_flux = cut_high_SN1_flux + cut_high_SN2_flux\n",
    "    high_SN_noise = cut_high_SN1_noise + cut_high_SN2_noise\n",
    "    high_SN_redshift = cut_high_SN1_redshift + cut_high_SN2_redshift\n",
    "    \n",
    "    \n",
    "    low_SN_class = cut_low_SN1_class + cut_low_SN2_class\n",
    "    low_SN_wave = cut_low_SN1_wave + cut_low_SN2_wave\n",
    "    low_SN_flux = cut_low_SN1_flux + cut_low_SN2_flux\n",
    "    low_SN_noise = cut_low_SN1_noise + cut_low_SN2_noise\n",
    "    \n",
    "    \n",
    "    low_SN_redshift = cut_low_SN1_redshift + cut_low_SN2_redshift\n",
    "    \n",
    "    high_SN_dict = {'CLASS': high_SN_class, 'WAVE': high_SN_wave, 'FLUX': high_SN_flux,\\\n",
    "                   'NOISE': high_SN_noise, 'REDSHIFT': high_SN_redshift}\n",
    "    \n",
    "    \n",
    "    \n",
    "    low_SN_dict = {'CLASS': low_SN_class, 'WAVE': low_SN_wave, 'FLUX': low_SN_flux,\\\n",
    "                   'NOISE': low_SN_noise, 'REDSHIFT': low_SN_redshift}\n",
    "\n",
    "    SN_dicts = {'HIGH': high_SN_dict, 'LOW': low_SN_dict}\n",
    "    \n",
    "    return SN_dicts\n",
    "\n",
    "\n",
    "def save_as_pickled_object(obj, filepath):\n",
    "    \"\"\"\n",
    "    This is a defensive way to write pickle.write, allowing for very large files on all platforms\n",
    "    \"\"\"\n",
    "    max_bytes = 2**31 - 1\n",
    "    bytes_out = pickle.dumps(obj)\n",
    "    n_bytes = sys.getsizeof(bytes_out)\n",
    "    with open(filepath, 'wb') as f_out:\n",
    "        for idx in range(0, n_bytes, max_bytes):\n",
    "            f_out.write(bytes_out[idx:idx+max_bytes])"
   ]
  },
  {
   "cell_type": "code",
   "execution_count": 3,
   "metadata": {},
   "outputs": [],
   "source": [
    "star_dict = pd.read_pickle(\"/Users/matt/Desktop/DESI_Research/DESI_ML/var_CNN/Dictionaries/object_dict/star_dict\")\n",
    "fake_dict = pd.read_pickle(\"/Users/matt/Desktop/DESI_Research/DESI_ML/var_CNN/Dictionaries/object_dict/fake_dict\")\n",
    "var_dict = pd.read_pickle(\"/Users/matt/Desktop/DESI_Research/DESI_ML/var_CNN/Dictionaries/object_dict/varqso_dict\")\n",
    "high_SN_quasar_dict = pd.read_pickle(\"/Users/matt/Desktop/DESI_Research/DESI_ML/var_CNN/Dictionaries/object_dict/high_SN_quasar_dict\")"
   ]
  },
  {
   "cell_type": "code",
   "execution_count": 4,
   "metadata": {},
   "outputs": [
    {
     "data": {
      "text/plain": [
       "dict_keys(['FAKE_NOISE', 'NOISE', 'WAVE', 'REDSHIFT', 'FLUX', 'CLASS'])"
      ]
     },
     "execution_count": 4,
     "metadata": {},
     "output_type": "execute_result"
    }
   ],
   "source": [
    "fake_dict.keys()"
   ]
  },
  {
   "cell_type": "code",
   "execution_count": 5,
   "metadata": {},
   "outputs": [],
   "source": [
    "varSN_dict = creating_SN_data(var_dict)\n",
    "star_SN_dict = creating_SN_data(star_dict)\n",
    "high_SN_quasar_SN_dict = creating_SN_data(high_SN_quasar_dict)"
   ]
  },
  {
   "cell_type": "code",
   "execution_count": 6,
   "metadata": {},
   "outputs": [],
   "source": [
    "var_bin = binning_data(varSN_dict['LOW'], 12)\n",
    "high_bin = binning_data(high_SN_quasar_SN_dict['HIGH'], 12)"
   ]
  },
  {
   "cell_type": "code",
   "execution_count": 7,
   "metadata": {},
   "outputs": [],
   "source": [
    "bal_qso_dict = balancing_redshifts(var_bin, high_bin)"
   ]
  },
  {
   "cell_type": "code",
   "execution_count": 8,
   "metadata": {},
   "outputs": [],
   "source": [
    "var_dict_bal = bal_qso_dict['VAR']\n",
    "high_dict_bal = bal_qso_dict['HIGH']"
   ]
  },
  {
   "cell_type": "code",
   "execution_count": 9,
   "metadata": {},
   "outputs": [],
   "source": [
    "var_star_dict = SN_data_selection(var_dict_bal, star_dict)\n",
    "\n",
    "high_SN_quasar_star_dict = SN_data_selection(high_dict_bal, star_dict)"
   ]
  },
  {
   "cell_type": "code",
   "execution_count": 10,
   "metadata": {},
   "outputs": [
    {
     "data": {
      "image/png": "[encoded data removed]",
      "text/plain": [
       "<Figure size 432x288 with 1 Axes>"
      ]
     },
     "metadata": {
      "needs_background": "light"
     },
     "output_type": "display_data"
    }
   ],
   "source": [
    "a,b,c = plt.hist(np.asarray(var_star_dict['LOW']['CLASS']), bins = 50)"
   ]
  },
  {
   "cell_type": "code",
   "execution_count": 11,
   "metadata": {},
   "outputs": [],
   "source": [
    "save_as_pickled_object(var_star_dict,'varstar_dict' )\n",
    "\n",
    "save_as_pickled_object(high_SN_quasar_star_dict, 'high_SN_quasarstar_dict')"
   ]
  },
  {
   "cell_type": "code",
   "execution_count": 12,
   "metadata": {},
   "outputs": [
    {
     "data": {
      "text/plain": [
       "dict_keys(['CLASS', 'WAVE', 'FLUX', 'NOISE', 'REDSHIFT'])"
      ]
     },
     "execution_count": 12,
     "metadata": {},
     "output_type": "execute_result"
    }
   ],
   "source": [
    "var_star_dict['LOW'].keys()"
   ]
  },
  {
   "cell_type": "code",
   "execution_count": 13,
   "metadata": {},
   "outputs": [
    {
     "name": "stdout",
     "output_type": "stream",
     "text": [
      "4918\n",
      "4576\n",
      "4576\n",
      "4918\n",
      "4630\n",
      "4630\n"
     ]
    }
   ],
   "source": [
    "print(len(var_star_dict['LOW']['CLASS']))\n",
    "print(len(var_star_dict['LOW']['WAVE'][0]))\n",
    "print(len(var_star_dict['LOW']['FLUX'][0]))\n",
    "\n",
    "\n",
    "print(len(high_SN_quasar_star_dict['HIGH']['CLASS']))\n",
    "print(len(high_SN_quasar_star_dict['HIGH']['WAVE'][0]))\n",
    "print(len(high_SN_quasar_star_dict['HIGH']['FLUX'][0]))"
   ]
  },
  {
   "cell_type": "code",
   "execution_count": 14,
   "metadata": {},
   "outputs": [
    {
     "data": {
      "text/plain": [
       "dict_keys(['CLASS', 'WAVE', 'FLUX', 'NOISE', 'REDSHIFT'])"
      ]
     },
     "execution_count": 14,
     "metadata": {},
     "output_type": "execute_result"
    }
   ],
   "source": [
    "high_SN_quasar_star_dict['HIGH'].keys()"
   ]
  },
  {
   "cell_type": "code",
   "execution_count": 15,
   "metadata": {},
   "outputs": [],
   "source": [
    "var_qso_z = []\n",
    "\n",
    "for i in range(len(var_star_dict['LOW']['CLASS'])):\n",
    "    \n",
    "    if var_star_dict['LOW']['CLASS'][i] == 'QSO':\n",
    "        var_qso_z.append(var_star_dict['LOW']['REDSHIFT'][i])\n",
    "        \n",
    "high_qso_z = []\n",
    "\n",
    "for i in range(len(high_SN_quasar_star_dict['HIGH']['CLASS'])):\n",
    "    \n",
    "    if high_SN_quasar_star_dict['HIGH']['CLASS'][i] == 'QSO':\n",
    "        high_qso_z.append(high_SN_quasar_star_dict['HIGH']['REDSHIFT'][i])"
   ]
  },
  {
   "cell_type": "code",
   "execution_count": 16,
   "metadata": {},
   "outputs": [
    {
     "data": {
      "text/plain": [
       "Text(0, 0.5, 'Frequency')"
      ]
     },
     "execution_count": 16,
     "metadata": {},
     "output_type": "execute_result"
    },
    {
     "data": {
      "image/png": "[encoded data removed]",
      "text/plain": [
       "<Figure size 432x288 with 1 Axes>"
      ]
     },
     "metadata": {
      "needs_background": "light"
     },
     "output_type": "display_data"
    }
   ],
   "source": [
    "a,b,c = plt.hist(np.asarray(var_qso_z), bins = 12)\n",
    "plt.title('Histogram of Variable QSO Redshift Distribution')\n",
    "plt.xlabel('Redshift')\n",
    "plt.ylabel('Frequency')"
   ]
  },
  {
   "cell_type": "code",
   "execution_count": 17,
   "metadata": {},
   "outputs": [
    {
     "data": {
      "text/plain": [
       "Text(0, 0.5, 'Frequency')"
      ]
     },
     "execution_count": 17,
     "metadata": {},
     "output_type": "execute_result"
    },
    {
     "data": {
      "image/png": "[encoded data removed]",
      "text/plain": [
       "<Figure size 432x288 with 1 Axes>"
      ]
     },
     "metadata": {
      "needs_background": "light"
     },
     "output_type": "display_data"
    }
   ],
   "source": [
    "a,b,c = plt.hist(np.asarray(high_qso_z), bins = 12)\n",
    "plt.title('Histogram of High SN QSO Redshift Distribution')\n",
    "plt.xlabel('Redshift')\n",
    "plt.ylabel('Frequency')"
   ]
  },
  {
   "cell_type": "code",
   "execution_count": 18,
   "metadata": {},
   "outputs": [
    {
     "data": {
      "text/plain": [
       "Text(0.5, 0, 'Redshift')"
      ]
     },
     "execution_count": 18,
     "metadata": {},
     "output_type": "execute_result"
    },
    {
     "data": {
      "image/png": "[encoded data removed]",
      "text/plain": [
       "<Figure size 432x288 with 2 Axes>"
      ]
     },
     "metadata": {
      "needs_background": "light"
     },
     "output_type": "display_data"
    }
   ],
   "source": [
    "fig, (ax1, ax2) = plt.subplots(1, 2)\n",
    "fig.suptitle('Redshift hist for High SN QSO & Var QSO')\n",
    "\n",
    "ax1.hist(np.asarray(high_qso_z), bins = 12)\n",
    "ax1.set_xlim(2.44,3.06)\n",
    "#ax1.set_ylim(0,185)\n",
    "ax1.set_title(' HIGH SN QSO')\n",
    "\n",
    "ax2.hist(np.asarray(var_qso_z), bins = 12)\n",
    "#ax2.set_xlim(2.44,3.06)\n",
    "#ax2.set_ylim(0,185)\n",
    "ax2.set_title('Variable QSO Redshift Distribution')\n",
    "ax2.set_xlabel('Redshift')"
   ]
  },
  {
   "cell_type": "code",
   "execution_count": 19,
   "metadata": {},
   "outputs": [
    {
     "data": {
      "text/plain": [
       "2459"
      ]
     },
     "execution_count": 19,
     "metadata": {},
     "output_type": "execute_result"
    }
   ],
   "source": [
    "len(high_qso_z)"
   ]
  },
  {
   "cell_type": "code",
   "execution_count": 20,
   "metadata": {},
   "outputs": [
    {
     "data": {
      "text/plain": [
       "2459"
      ]
     },
     "execution_count": 20,
     "metadata": {},
     "output_type": "execute_result"
    }
   ],
   "source": [
    "len(var_qso_z)"
   ]
  },
  {
   "cell_type": "markdown",
   "metadata": {},
   "source": [
    "## Below this line is making SN dicts for the fake dict"
   ]
  },
  {
   "cell_type": "code",
   "execution_count": 21,
   "metadata": {},
   "outputs": [],
   "source": [
    "def star_SN_data(data_dict):\n",
    "    \n",
    "    high_noise = []\n",
    "    high_flux = []\n",
    "    high_wave = []\n",
    "    high_class = []\n",
    "    high_redshift = []\n",
    "    high_eboss_tgt = []\n",
    "    \n",
    "    low_noise = []\n",
    "    low_flux = []\n",
    "    low_wave = []\n",
    "    low_class = []\n",
    "    low_redshift = []\n",
    "    low_eboss_tgt = []\n",
    "    low_fake_noise = []\n",
    "    \n",
    "    for i in range(len(data_dict['CLASS'])):\n",
    "        \n",
    "        if data_dict['FAKE_NOISE'][i]  >= 12.:\n",
    "            \n",
    "            high_noise.append(data_dict['NOISE'][i])\n",
    "            high_flux.append(data_dict['FLUX'][i])\n",
    "            high_wave.append(data_dict['WAVE'][i])\n",
    "            high_class.append(data_dict['CLASS'][i])\n",
    "            high_redshift.append(data_dict['REDSHIFT'][i])\n",
    "            #high_eboss_tgt.append(data_dict['EBOSS_TARGET1'][i])\n",
    "            \n",
    "        elif data_dict['FAKE_NOISE'][i] <= 2.:\n",
    "            \n",
    "            low_noise.append(data_dict['NOISE'][i])\n",
    "            low_flux.append(data_dict['FLUX'][i])\n",
    "            low_wave.append(data_dict['WAVE'][i])\n",
    "            low_class.append(data_dict['CLASS'][i])\n",
    "            low_redshift.append(data_dict['REDSHIFT'][i])\n",
    "            low_fake_noise.append(data_dict['FAKE_NOISE'][i])\n",
    "            #low_eboss_tgt.append(data_dict['EBOSS_TARGET1'][i])\n",
    "            \n",
    "    \n",
    "    high_SN_dict = {'NOISE': high_noise, 'FLUX': high_flux, 'WAVE': high_wave, 'CLASS': high_class,\\\n",
    "                   'REDSHIFT': high_redshift, 'EBOSS_TARGET1': high_eboss_tgt}\n",
    "    \n",
    "    low_SN_dict = {'NOISE': low_noise, 'FLUX': low_flux, 'WAVE': low_wave, 'CLASS': low_class,\\\n",
    "                  'REDSHIFT': low_redshift, 'EBOSS_TARGET1': low_eboss_tgt, 'FAKE_NOISE': low_fake_noise}\n",
    "    \n",
    "    SN_dict = {'HIGH': high_SN_dict, 'LOW': low_SN_dict}\n",
    "    \n",
    "    return SN_dict\n",
    "\n",
    "\n",
    "\n",
    "\n",
    "def star_SN_fake_sel(data_dict1, data_dict2):\n",
    "    \n",
    "    dict1 = data_dict1\n",
    "    dict2 = star_SN_data(data_dict2)\n",
    "\n",
    "    \n",
    "    high_SN2 = dict2['HIGH']\n",
    "    low_SN2 = dict2['LOW']\n",
    "    \n",
    "        \n",
    "\n",
    "    if (len(dict1['CLASS'])) > (len(low_SN2['CLASS'])):\n",
    "        \n",
    "        cut_low_SN1_class = np.asarray(dict1['CLASS'][:len(low_SN2['CLASS'])])\n",
    "        cut_low_SN1_wave = np.asarray(dict1['WAVE'][:len(low_SN2['WAVE'])])\n",
    "        cut_low_SN1_flux = np.asarray(dict1['FLUX'][:len(low_SN2['FLUX'])])\n",
    "        cut_low_SN1_noise = np.asarray(dict1['NOISE'][:len(low_SN2['NOISE'])])\n",
    "        cut_low_SN1_redshift = np.asarray(dict1['REDSHIFT'][:len(low_SN2['REDSHIFT'])])\n",
    "        cut_low_SN1_fake_noise = np.asarray(dict1['FAKE_NOISE'][:len(low_SN2['FAKE_NOISE'])])\n",
    "        \n",
    "        cut_low_SN2_class = np.asarray(low_SN2['CLASS'])\n",
    "        cut_low_SN2_wave = np.asarray(low_SN2['WAVE'])\n",
    "        cut_low_SN2_flux = np.asarray(low_SN2['FLUX'])\n",
    "        cut_low_SN2_noise = np.asarray(low_SN2['NOISE'])\n",
    "        cut_low_SN2_redshift = np.asarray(low_SN2['REDSHIFT'])\n",
    "        cut_low_SN2_fake_noise = np.asarray(low_SN2['FAKE_NOISE'])\n",
    "        \n",
    "        \n",
    "    elif (len(dict1['CLASS'])) < (len(low_SN2['CLASS'])): \n",
    "        \n",
    "        cut_low_SN1_class = dict1['CLASS']\n",
    "        cut_low_SN1_wave = dict1['WAVE']\n",
    "        cut_low_SN1_flux = dict1['FLUX']\n",
    "        cut_low_SN1_noise = dict1['NOISE']\n",
    "        cut_low_SN1_redshift = dict1['REDSHIFT']\n",
    "        cut_low_SN1_fake_noise = dict1['FAKE_NOISE']\n",
    "        \n",
    "        cut_low_SN2_class = np.asarray(low_SN2['CLASS'][:len(dict1['CLASS'])])\n",
    "        cut_low_SN2_wave = np.asarray(low_SN2['WAVE'][:len(dict1['WAVE'])])\n",
    "        cut_low_SN2_flux = np.asarray(low_SN2['FLUX'][:len(dict1['FLUX'])])\n",
    "        cut_low_SN2_noise = np.asarray(low_SN2['NOISE'][:len(dict1['NOISE'])])\n",
    "        cut_low_SN2_redshift = np.asarray(low_SN2['REDSHIFT'][:len(dict1['REDSHIFT'])])\n",
    "        cut_low_SN2_fake_noise = np.asarray(low_SN2['FAKE_NOISE'][:len(dict1['FAKE_NOISE'])])\n",
    "        \n",
    "    \n",
    "    \n",
    "    low_SN_class = np.concatenate((cut_low_SN1_class, cut_low_SN2_class))\n",
    "    low_SN_wave = np.concatenate((cut_low_SN1_wave, cut_low_SN2_wave))\n",
    "    low_SN_flux = np.concatenate((cut_low_SN1_flux, cut_low_SN2_flux))\n",
    "    low_SN_noise = np.concatenate((cut_low_SN1_noise, cut_low_SN2_noise))\n",
    "    low_SN_redshift = np.concatenate((cut_low_SN1_redshift, cut_low_SN2_redshift))\n",
    "    low_SN_fake_noise = np.concatenate((cut_low_SN1_fake_noise, cut_low_SN2_fake_noise))\n",
    "    \n",
    "    \n",
    "    low_SN_dict = {'CLASS': low_SN_class, 'WAVE': low_SN_wave, 'FLUX': low_SN_flux,\\\n",
    "                   'NOISE': low_SN_noise, 'REDSHIFT': low_SN_redshift, 'FAKE_NOISE': low_SN_fake_noise}\n",
    "\n",
    "    SN_dicts = {'LOW': low_SN_dict}\n",
    "    \n",
    "    return SN_dicts\n"
   ]
  },
  {
   "cell_type": "code",
   "execution_count": 22,
   "metadata": {},
   "outputs": [],
   "source": [
    "fake_dict = pd.read_pickle(\"/Users/matt/Desktop/DESI_Research/DESI_ML/var_CNN/Dictionaries/object_dict/fake_dict\")\n",
    "star_fake_dict = pd.read_pickle(\"/Users/matt/Desktop/DESI_Research/DESI_ML/var_CNN/Dictionaries/object_dict/fake_star_dict\")"
   ]
  },
  {
   "cell_type": "code",
   "execution_count": 23,
   "metadata": {},
   "outputs": [
    {
     "name": "stdout",
     "output_type": "stream",
     "text": [
      "dict_keys(['FAKE_NOISE', 'NOISE', 'WAVE', 'REDSHIFT', 'FLUX', 'CLASS'])\n",
      "dict_keys(['NOISE', 'WAVE', 'FLUX', 'CLASS', 'REDSHIFT', 'FAKE_NOISE'])\n"
     ]
    }
   ],
   "source": [
    "print(fake_dict.keys())\n",
    "print(star_fake_dict.keys())"
   ]
  },
  {
   "cell_type": "code",
   "execution_count": 24,
   "metadata": {},
   "outputs": [],
   "source": [
    "fake_star_dict = star_SN_fake_sel(fake_dict, star_fake_dict)"
   ]
  },
  {
   "cell_type": "code",
   "execution_count": 26,
   "metadata": {},
   "outputs": [],
   "source": [
    "#pdb.pm()"
   ]
  },
  {
   "cell_type": "code",
   "execution_count": 27,
   "metadata": {},
   "outputs": [],
   "source": [
    "save_as_pickled_object(fake_star_dict, \"/Users/matt/Desktop/DESI_Research/DESI_ML/var_CNN/Dictionaries/joined_obj_dicts/fake_data_dict\")"
   ]
  },
  {
   "cell_type": "code",
   "execution_count": null,
   "metadata": {},
   "outputs": [],
   "source": [
    "len(fake_star_dict['LOW']['WAVE'][2])"
   ]
  },
  {
   "cell_type": "code",
   "execution_count": null,
   "metadata": {},
   "outputs": [],
   "source": [
    "a,b,c = plt.hist(np.asarray(fake_star_dict['LOW']['CLASS']), bins = 10)"
   ]
  },
  {
   "cell_type": "code",
   "execution_count": null,
   "metadata": {},
   "outputs": [],
   "source": [
    "len(var_star_dict['LOW']['WAVE'][6])"
   ]
  },
  {
   "cell_type": "code",
   "execution_count": null,
   "metadata": {},
   "outputs": [],
   "source": [
    "fake_star_dict.keys()"
   ]
  },
  {
   "cell_type": "code",
   "execution_count": null,
   "metadata": {},
   "outputs": [],
   "source": [
    "fig, (ax1, ax2) = plt.subplots(1, 2, sharex=True, figsize=(18, 4))\n",
    "ax1.hist(quasar_noise[arr_indx], bins = bin_list);\n",
    "ax1.set_title('Low SN Variable QSO Noise Distribution', fontsize=18);\n",
    "ax1.set_xlabel('Noise')\n",
    "ax1.set_ylabel('Number per bin')\n",
    "#ax1.set_xlim(0,2)\n",
    "\n",
    "ax2.hist(np.asarray(new_noise), bins = bin_list)\n",
    "ax2.set_title('Fake low SN Noise Model Noise Distributtion', fontsize=18);\n",
    "ax2.set_xlabel('Noise')\n",
    "ax2.set_ylabel('Number per bin')\n",
    "ax2.set_ylim(0,400)"
   ]
  },
  {
   "cell_type": "code",
   "execution_count": null,
   "metadata": {},
   "outputs": [],
   "source": [
    "class_labels = np.asarray(var_star_dict['LOW']['CLASS'])\n",
    "quasar_noise = np.asarray(var_star_dict['LOW']['NOISE'])\n",
    "arr_indx = np.where(class_labels == 'QSO')\n",
    "\n",
    "\n",
    "\n",
    "fake_labels = bal_fake_dict['LOW']['CLASS']\n",
    "new_noise = []\n",
    "\n",
    "for i in range(len(fake_labels)):\n",
    "    \n",
    "    if fake_labels[i] == 'QSO':\n",
    "        \n",
    "        new_noise.append(np.mean(bal_fake_dict['LOW']['FLUX'][i])\\\n",
    "                     /(np.std(bal_fake_dict['LOW']['FLUX'][i])))"
   ]
  },
  {
   "cell_type": "code",
   "execution_count": null,
   "metadata": {},
   "outputs": [],
   "source": [
    "bin_list = [0, .2, .4, .6, .8, 1.0, 1.2, 1.4, 1.6, 1.8, 2.]"
   ]
  },
  {
   "cell_type": "code",
   "execution_count": null,
   "metadata": {},
   "outputs": [],
   "source": []
  },
  {
   "cell_type": "code",
   "execution_count": null,
   "metadata": {},
   "outputs": [],
   "source": []
  }
 ],
 "metadata": {
  "kernelspec": {
   "display_name": "Python 3",
   "language": "python",
   "name": "python3"
  },
  "language_info": {
   "codemirror_mode": {
    "name": "ipython",
    "version": 3
   },
   "file_extension": ".py",
   "mimetype": "text/x-python",
   "name": "python",
   "nbconvert_exporter": "python",
   "pygments_lexer": "ipython3",
   "version": "3.6.7"
  }
 },
 "nbformat": 4,
 "nbformat_minor": 2
}
