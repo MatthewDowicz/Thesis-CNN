{
 "cells": [
  {
   "cell_type": "code",
   "execution_count": 1,
   "metadata": {},
   "outputs": [
    {
     "name": "stderr",
     "output_type": "stream",
     "text": [
      "Using TensorFlow backend.\n"
     ]
    }
   ],
   "source": [
    "from __future__ import absolute_import, division, print_function, unicode_literals\n",
    "import keras\n",
    "from keras import regularizers\n",
    "import numpy as np\n",
    "import matplotlib.pyplot as plt\n",
    "from astropy.io import fits\n",
    "from astropy.table import Table\n",
    "import numpy as np\n",
    "import seaborn as sns\n",
    "import os\n",
    "import re\n",
    "import time\n",
    "import pickle\n",
    "import pdb\n",
    "import pandas as pd\n",
    "\n",
    "sns.set()"
   ]
  },
  {
   "cell_type": "markdown",
   "metadata": {},
   "source": [
    "# Loading in data"
   ]
  },
  {
   "cell_type": "code",
   "execution_count": 2,
   "metadata": {},
   "outputs": [],
   "source": [
    "input_data_quasar_high = \\\n",
    "pd.read_pickle(\"/Users/matt/Desktop/DESI_Research/DESI_ML/var_CNN/Dictionaries/corrected_preprocessed_joined_obj_dict/quasar_star_preprocessed_data_high\")\n",
    "\n",
    "\n",
    "# input_data_quasar_low = \\\n",
    "# pd.read_pickle(\"/Users/matt/Desktop/DESI_Research/DESI_ML/var_CNN/Dictionaries/corrected_preprocessed_joined_obj_dict/var_star_preprocessed_data_low\")\n",
    "\n",
    "\n",
    "input_data_var = \\\n",
    "pd.read_pickle(\"/Users/matt/Desktop/DESI_Research/DESI_ML/var_CNN/Dictionaries/corrected_preprocessed_joined_obj_dict/var_star_preprocessed_data_low\")"
   ]
  },
  {
   "cell_type": "code",
   "execution_count": 3,
   "metadata": {},
   "outputs": [
    {
     "data": {
      "text/plain": [
       "dict_keys(['IMAGES', 'LABELS', 'NOISE', 'FLUX', 'WAVE', 'REDSHIFT'])"
      ]
     },
     "execution_count": 3,
     "metadata": {},
     "output_type": "execute_result"
    }
   ],
   "source": [
    "input_data_var.keys()"
   ]
  },
  {
   "cell_type": "code",
   "execution_count": 4,
   "metadata": {},
   "outputs": [],
   "source": [
    "# high_redshift = input_data_quasar_high['REDSHIFT']\n",
    "\n",
    "# low_redshift = input_data_quasar_low['REDSHIFT']\n",
    "\n",
    "# var_redshift = input_data_var['REDSHIFT']"
   ]
  },
  {
   "cell_type": "code",
   "execution_count": 5,
   "metadata": {},
   "outputs": [],
   "source": [
    "var_redshift = []\n",
    "for i in range(len(input_data_var['LABELS'])):\n",
    "    \n",
    "    if input_data_var['LABELS'][i] == 0.0 :\n",
    "        \n",
    "        var_redshift.append(input_data_var['REDSHIFT'][i])\n",
    "        \n",
    "    else:\n",
    "        pass\n",
    "        \n",
    "\n",
    "high_redshift = []\n",
    "high_s_redshift = []\n",
    "        \n",
    "for i in range(len(input_data_quasar_high['LABELS'])):\n",
    "    \n",
    "    if input_data_quasar_high['LABELS'][i] == 0.0 :\n",
    "        \n",
    "        high_redshift.append(input_data_quasar_high['REDSHIFT'][i])\n",
    "        \n",
    "    else:\n",
    "        high_s_redshift.append(input_data_quasar_high['REDSHIFT'][i])"
   ]
  },
  {
   "cell_type": "code",
   "execution_count": 6,
   "metadata": {},
   "outputs": [
    {
     "name": "stdout",
     "output_type": "stream",
     "text": [
      "[3.0496426]\n",
      "2455\n",
      "<class 'list'>\n"
     ]
    }
   ],
   "source": [
    "print(max(high_redshift))\n",
    "print(len(var_redshift))\n",
    "print(type(high_s_redshift))"
   ]
  },
  {
   "cell_type": "code",
   "execution_count": 7,
   "metadata": {},
   "outputs": [],
   "source": [
    "s = np.random.uniform(2.45,3.05, 658) "
   ]
  },
  {
   "cell_type": "code",
   "execution_count": 8,
   "metadata": {},
   "outputs": [
    {
     "ename": "TypeError",
     "evalue": "list indices must be integers or slices, not tuple",
     "output_type": "error",
     "traceback": [
      "\u001b[0;31m---------------------------------------------------------------------------\u001b[0m",
      "\u001b[0;31mTypeError\u001b[0m                                 Traceback (most recent call last)",
      "\u001b[0;32m<ipython-input-8-a1b8318594d1>\u001b[0m in \u001b[0;36m<module>\u001b[0;34m\u001b[0m\n\u001b[0;32m----> 1\u001b[0;31m \u001b[0mvar_redshift\u001b[0m \u001b[0;34m=\u001b[0m \u001b[0mnp\u001b[0m\u001b[0;34m.\u001b[0m\u001b[0masarray\u001b[0m\u001b[0;34m(\u001b[0m\u001b[0mvar_redshift\u001b[0m\u001b[0;34m[\u001b[0m\u001b[0;34m:\u001b[0m\u001b[0;34m,\u001b[0m\u001b[0;36m0\u001b[0m\u001b[0;34m]\u001b[0m\u001b[0;34m)\u001b[0m\u001b[0;34m\u001b[0m\u001b[0;34m\u001b[0m\u001b[0m\n\u001b[0m\u001b[1;32m      2\u001b[0m \u001b[0mhigh_redshift\u001b[0m \u001b[0;34m=\u001b[0m \u001b[0mnp\u001b[0m\u001b[0;34m.\u001b[0m\u001b[0masarray\u001b[0m\u001b[0;34m(\u001b[0m\u001b[0mhigh_redshift\u001b[0m\u001b[0;34m[\u001b[0m\u001b[0;34m:\u001b[0m\u001b[0;34m,\u001b[0m\u001b[0;36m0\u001b[0m\u001b[0;34m]\u001b[0m\u001b[0;34m)\u001b[0m\u001b[0;34m\u001b[0m\u001b[0;34m\u001b[0m\u001b[0m\n",
      "\u001b[0;31mTypeError\u001b[0m: list indices must be integers or slices, not tuple"
     ]
    }
   ],
   "source": [
    "var_redshift = np.asarray(var_redshift[:,0])\n",
    "high_redshift = np.asarray(high_redshift[:,0])"
   ]
  },
  {
   "cell_type": "code",
   "execution_count": 9,
   "metadata": {},
   "outputs": [
    {
     "data": {
      "text/plain": [
       "Text(0.5, 1.0, 'Variable QSO')"
      ]
     },
     "execution_count": 9,
     "metadata": {},
     "output_type": "execute_result"
    },
    {
     "data": {
      "image/png": "[encoded data removed]",
      "text/plain": [
       "<Figure size 432x288 with 2 Axes>"
      ]
     },
     "metadata": {
      "needs_background": "light"
     },
     "output_type": "display_data"
    }
   ],
   "source": [
    "fig, (ax1, ax2) = plt.subplots(1, 2)\n",
    "fig.suptitle('Redshift hist for High SN QSO & Var QSO')\n",
    "\n",
    "ax1.hist(high_redshift, bins = 6)\n",
    "ax1.set_xlim(2.44,3.06)\n",
    "#ax1.set_ylim(0,185)\n",
    "ax1.set_title(' HIGH SN QSO')\n",
    "\n",
    "ax2.hist(var_redshift , bins = 6)\n",
    "ax2.set_xlim(2.44,3.06)\n",
    "#ax2.set_ylim(0,185)\n",
    "ax2.set_title('Variable QSO')"
   ]
  },
  {
   "cell_type": "code",
   "execution_count": 10,
   "metadata": {},
   "outputs": [],
   "source": [
    "sorted_var = sorted(var_redshift)"
   ]
  },
  {
   "cell_type": "code",
   "execution_count": 11,
   "metadata": {},
   "outputs": [],
   "source": [
    "lists = [[] for _ in range(6)]\n",
    "\n"
   ]
  },
  {
   "cell_type": "code",
   "execution_count": 12,
   "metadata": {},
   "outputs": [],
   "source": [
    "def binning_data(sorted_redshifts, bin_num):\n",
    "    \n",
    "    bins = [[] for _ in range(bin_num)]\n",
    "    \n",
    "    for i in range(len(sorted_redshifts)):\n",
    "        \n",
    "        if (sorted_redshifts[i] >= start) & (sorted_redshifts[i] < 2.55):\n",
    "        \n",
    "            bins[0].append(sorted_redshifts[i])\n",
    "    \n",
    "        elif (sorted_redshifts[i] >= 2.55) & (sorted_redshifts[i] < 2.65):\n",
    "        \n",
    "            bins[1].append(sorted_redshifts[i])\n",
    "        \n",
    "        elif (sorted_redshifts[i] >= 2.65) & (sorted_redshifts[i] < 2.75):\n",
    "        \n",
    "            bins[2].append(sorted_redshifts[i])\n",
    "        \n",
    "        elif (sorted_redshifts[i] >= 2.75) & (sorted_redshifts[i] < 2.85):\n",
    "        \n",
    "            bins[3].append(sorted_redshifts[i])\n",
    "        \n",
    "        elif (sorted_redshifts[i] >= 2.85) & (sorted_redshifts[i] < 2.95):\n",
    "\n",
    "            bins[4].append(sorted_redshifts[i])\n",
    "        \n",
    "        elif (sorted_redshifts[i] >= 2.95) & (sorted_redshifts[i] < end ):\n",
    "        \n",
    "            bins[5].append(sorted_redshifts[i])\n",
    "            \n",
    "    return bins"
   ]
  },
  {
   "cell_type": "code",
   "execution_count": 13,
   "metadata": {},
   "outputs": [],
   "source": [
    "def binning_data(sorted_redshifts, bin_num):\n",
    "    \n",
    "    bins = [[] for _ in range(bin_num)]\n",
    "    \n",
    "    for i in range(len(sorted_redshifts)):\n",
    "        \n",
    "        if (sorted_redshifts[i] >= 2.45) & (sorted_redshifts[i] < 2.50):\n",
    "        \n",
    "            bins[0].append(sorted_redshifts[i])\n",
    "            \n",
    "        elif (sorted_redshifts[i] >= 2.50) & (sorted_redshifts[i] < 2.55):\n",
    "        \n",
    "            bins[1].append(sorted_redshifts[i])\n",
    "    \n",
    "        elif (sorted_redshifts[i] >= 2.55) & (sorted_redshifts[i] < 2.60):\n",
    "        \n",
    "            bins[2].append(sorted_redshifts[i])\n",
    "        \n",
    "        elif (sorted_redshifts[i] >= 2.60) & (sorted_redshifts[i] < 2.65):\n",
    "        \n",
    "            bins[3].append(sorted_redshifts[i])\n",
    "        \n",
    "        elif (sorted_redshifts[i] >= 2.65) & (sorted_redshifts[i] < 2.70):\n",
    "        \n",
    "            bins[4].append(sorted_redshifts[i])\n",
    "        \n",
    "        elif (sorted_redshifts[i] >= 2.70) & (sorted_redshifts[i] < 2.75):\n",
    "\n",
    "            bins[5].append(sorted_redshifts[i])\n",
    "        \n",
    "        elif (sorted_redshifts[i] >= 2.75) & (sorted_redshifts[i] < 2.80):\n",
    "        \n",
    "            bins[6].append(sorted_redshifts[i])\n",
    "            \n",
    "    \n",
    "        elif (sorted_redshifts[i] >= 2.80) & (sorted_redshifts[i] < 2.85):\n",
    "        \n",
    "            bins[7].append(sorted_redshifts[i])\n",
    "        \n",
    "        elif (sorted_redshifts[i] >= 2.85) & (sorted_redshifts[i] < 2.90):\n",
    "        \n",
    "            bins[8].append(sorted_redshifts[i])\n",
    "        \n",
    "        elif (sorted_redshifts[i] >= 2.90) & (sorted_redshifts[i] < 2.95):\n",
    "        \n",
    "            bins[9].append(sorted_redshifts[i])\n",
    "        \n",
    "        elif (sorted_redshifts[i] >= 2.95) & (sorted_redshifts[i] < 3.0):\n",
    "\n",
    "            bins[10].append(sorted_redshifts[i])\n",
    "        \n",
    "        elif (sorted_redshifts[i] >= 3.0) & (sorted_redshifts[i] < 3.05):\n",
    "        \n",
    "            bins[11].append(sorted_redshifts[i])\n",
    "            \n",
    "    return bins"
   ]
  },
  {
   "cell_type": "code",
   "execution_count": 14,
   "metadata": {},
   "outputs": [
    {
     "ename": "IndexError",
     "evalue": "list index out of range",
     "output_type": "error",
     "traceback": [
      "\u001b[0;31m---------------------------------------------------------------------------\u001b[0m",
      "\u001b[0;31mIndexError\u001b[0m                                Traceback (most recent call last)",
      "\u001b[0;32m<ipython-input-14-ac0b5d3fda90>\u001b[0m in \u001b[0;36m<module>\u001b[0;34m\u001b[0m\n\u001b[0;32m----> 1\u001b[0;31m \u001b[0mvar_binned\u001b[0m \u001b[0;34m=\u001b[0m \u001b[0mbinning_data\u001b[0m\u001b[0;34m(\u001b[0m\u001b[0mvar_redshift\u001b[0m\u001b[0;34m,\u001b[0m \u001b[0;36m6\u001b[0m\u001b[0;34m)\u001b[0m\u001b[0;34m\u001b[0m\u001b[0;34m\u001b[0m\u001b[0m\n\u001b[0m\u001b[1;32m      2\u001b[0m \u001b[0;34m\u001b[0m\u001b[0m\n\u001b[1;32m      3\u001b[0m \u001b[0mhigh_binned\u001b[0m \u001b[0;34m=\u001b[0m \u001b[0mbinning_data\u001b[0m\u001b[0;34m(\u001b[0m\u001b[0mhigh_redshift\u001b[0m\u001b[0;34m,\u001b[0m \u001b[0;36m6\u001b[0m\u001b[0;34m)\u001b[0m\u001b[0;34m\u001b[0m\u001b[0;34m\u001b[0m\u001b[0m\n",
      "\u001b[0;32m<ipython-input-13-3fd0401624c1>\u001b[0m in \u001b[0;36mbinning_data\u001b[0;34m(sorted_redshifts, bin_num)\u001b[0m\n\u001b[1;32m     31\u001b[0m         \u001b[0;32melif\u001b[0m \u001b[0;34m(\u001b[0m\u001b[0msorted_redshifts\u001b[0m\u001b[0;34m[\u001b[0m\u001b[0mi\u001b[0m\u001b[0;34m]\u001b[0m \u001b[0;34m>=\u001b[0m \u001b[0;36m2.75\u001b[0m\u001b[0;34m)\u001b[0m \u001b[0;34m&\u001b[0m \u001b[0;34m(\u001b[0m\u001b[0msorted_redshifts\u001b[0m\u001b[0;34m[\u001b[0m\u001b[0mi\u001b[0m\u001b[0;34m]\u001b[0m \u001b[0;34m<\u001b[0m \u001b[0;36m2.80\u001b[0m\u001b[0;34m)\u001b[0m\u001b[0;34m:\u001b[0m\u001b[0;34m\u001b[0m\u001b[0;34m\u001b[0m\u001b[0m\n\u001b[1;32m     32\u001b[0m \u001b[0;34m\u001b[0m\u001b[0m\n\u001b[0;32m---> 33\u001b[0;31m             \u001b[0mbins\u001b[0m\u001b[0;34m[\u001b[0m\u001b[0;36m6\u001b[0m\u001b[0;34m]\u001b[0m\u001b[0;34m.\u001b[0m\u001b[0mappend\u001b[0m\u001b[0;34m(\u001b[0m\u001b[0msorted_redshifts\u001b[0m\u001b[0;34m[\u001b[0m\u001b[0mi\u001b[0m\u001b[0;34m]\u001b[0m\u001b[0;34m)\u001b[0m\u001b[0;34m\u001b[0m\u001b[0;34m\u001b[0m\u001b[0m\n\u001b[0m\u001b[1;32m     34\u001b[0m \u001b[0;34m\u001b[0m\u001b[0m\n\u001b[1;32m     35\u001b[0m \u001b[0;34m\u001b[0m\u001b[0m\n",
      "\u001b[0;31mIndexError\u001b[0m: list index out of range"
     ]
    }
   ],
   "source": [
    "var_binned = binning_data(var_redshift, 6)\n",
    "\n",
    "high_binned = binning_data(high_redshift, 6)"
   ]
  },
  {
   "cell_type": "code",
   "execution_count": null,
   "metadata": {},
   "outputs": [],
   "source": [
    "print(len(var_binned[0]))\n",
    "print(len(var_binned[1]))\n",
    "print(len(var_binned[2]))\n",
    "print(len(var_binned[3]))\n",
    "print(len(var_binned[4]))\n",
    "print(len(var_binned[5]))\n",
    "\n",
    "print('------')\n",
    "\n",
    "print(len(high_binned[0]))\n",
    "print(len(high_binned[1]))\n",
    "print(len(high_binned[2]))\n",
    "print(len(high_binned[3]))\n",
    "print(len(high_binned[4]))\n",
    "print(len(high_binned[5]))"
   ]
  },
  {
   "cell_type": "code",
   "execution_count": null,
   "metadata": {},
   "outputs": [],
   "source": [
    "var_dist = np.asarray(var_binned[0] + var_binned[1][:384] + var_binned[2][:319] + var_binned[3][:248] +\\\n",
    "           var_binned[4][:202] + var_binned[5][:176])\n",
    "\n"
   ]
  },
  {
   "cell_type": "code",
   "execution_count": null,
   "metadata": {},
   "outputs": [],
   "source": [
    "fig, (ax1, ax2) = plt.subplots(1, 2)\n",
    "fig.suptitle('Redshift hist for High SN QSO & Var QSO')\n",
    "\n",
    "ax1.hist(np.asarray(high_redshift), bins = 6)\n",
    "ax1.set_xlim(2.44,3.06)\n",
    "#ax1.set_ylim(0,185)\n",
    "ax1.set_title(' HIGH SN QSO')\n",
    "\n",
    "ax2.hist(var_dist , bins = 6)\n",
    "ax2.set_xlim(2.44,3.06)\n",
    "#ax2.set_ylim(0,185)\n",
    "ax2.set_title('Variable QSO')"
   ]
  },
  {
   "cell_type": "code",
   "execution_count": null,
   "metadata": {},
   "outputs": [],
   "source": [
    "bin0 = []\n",
    "bin1 = []\n",
    "bin2 = []\n",
    "bin3 = []\n",
    "bin4 = []\n",
    "bin5 = []\n",
    "\n",
    "\n",
    "for i in range(len(sorted_var)):\n",
    "    \n",
    "    if (sorted_var[i] >= 2.45) & (sorted_var[i] < 2.55):\n",
    "        \n",
    "        bin0.append(sorted_var[i])\n",
    "    \n",
    "    elif (sorted_var[i] >= 2.55) & (sorted_var[i] < 2.65):\n",
    "        \n",
    "        bin1.append(sorted_var[i])\n",
    "        \n",
    "    elif (sorted_var[i] >= 2.65) & (sorted_var[i] < 2.75):\n",
    "        \n",
    "        bin2.append(sorted_var[i])\n",
    "        \n",
    "    elif (sorted_var[i] >= 2.75) & (sorted_var[i] < 2.85):\n",
    "        \n",
    "        bin3.append(sorted_var[i])\n",
    "        \n",
    "    elif (sorted_var[i] >= 2.85) & (sorted_var[i] < 2.95):\n",
    "        \n",
    "        bin4.append(sorted_var[i])\n",
    "        \n",
    "    elif (sorted_var[i] >= 2.95) & (sorted_var[i] < 3.05):\n",
    "        \n",
    "        bin5.append(sorted_var[i])\n",
    "        \n",
    "        "
   ]
  },
  {
   "cell_type": "code",
   "execution_count": null,
   "metadata": {},
   "outputs": [],
   "source": [
    "print(len(bin0))\n",
    "print(len(bin1))\n",
    "print(len(bin2))\n",
    "print(len(bin3))\n",
    "print(len(bin4))\n",
    "print(len(bin5))"
   ]
  },
  {
   "cell_type": "code",
   "execution_count": null,
   "metadata": {},
   "outputs": [],
   "source": [
    "s = np.random.choice(sorted_var, 658)"
   ]
  },
  {
   "cell_type": "code",
   "execution_count": null,
   "metadata": {},
   "outputs": [],
   "source": [
    "fig, (ax1, ax2) = plt.subplots(1, 2)\n",
    "fig.suptitle('Redshift hist for High SN QSO & Var QSO')\n",
    "\n",
    "ax1.hist(np.asarray(high_redshift), bins = 6)\n",
    "ax1.set_xlim(2.44,3.06)\n",
    "#ax1.set_ylim(0,185)\n",
    "ax1.set_title(' HIGH SN QSO')\n",
    "\n",
    "ax2.hist(np.asarray(var_redshift), bins = 6)\n",
    "ax2.set_xlim(2.44,3.06)\n",
    "#ax2.set_ylim(0,185)\n",
    "ax2.set_title('Variable QSO')"
   ]
  },
  {
   "cell_type": "code",
   "execution_count": null,
   "metadata": {},
   "outputs": [],
   "source": [
    "print(len(input_data_quasar_low['LABELS']))\n",
    "print(len(input_data_var['LABELS']))"
   ]
  },
  {
   "cell_type": "markdown",
   "metadata": {},
   "source": [
    "## Var Split"
   ]
  },
  {
   "cell_type": "code",
   "execution_count": null,
   "metadata": {
    "scrolled": true
   },
   "outputs": [],
   "source": [
    "train_images = input_data_var['IMAGES'][:3072, :, :, :]\n",
    "print(np.shape(train_images))\n",
    "train_labels = input_data_var['LABELS'][:3072]\n",
    "print(np.shape(train_labels))\n",
    "\n",
    "val_images = input_data_var['IMAGES'][3072:3730, :, :, :]\n",
    "print(np.shape(val_images))\n",
    "val_labels = input_data_var['LABELS'][3072:3730]\n",
    "print(np.shape(val_labels))\n",
    "\n",
    "test_images = input_data_var['IMAGES'][3730:4388, :, :, :]\n",
    "print(np.shape(test_images))\n",
    "test_labels = input_data_var['LABELS'][3730:4388]\n",
    "print(np.shape(test_labels))"
   ]
  },
  {
   "cell_type": "code",
   "execution_count": null,
   "metadata": {},
   "outputs": [],
   "source": []
  },
  {
   "cell_type": "markdown",
   "metadata": {},
   "source": [
    "## High Split"
   ]
  },
  {
   "cell_type": "code",
   "execution_count": null,
   "metadata": {},
   "outputs": [],
   "source": [
    "train_images = input_data_quasar_high['IMAGES'][:3072, :, :, :]\n",
    "print(np.shape(train_images))\n",
    "train_labels = input_data_quasar_high['LABELS'][:3072]\n",
    "print(np.shape(train_labels))\n",
    "\n",
    "val_images = input_data_quasar_high['IMAGES'][3072:3730, :, :, :]\n",
    "print(np.shape(val_images))\n",
    "val_labels = input_data_quasar_high['LABELS'][3072:3730]\n",
    "print(np.shape(val_labels))\n",
    "\n",
    "test_images = input_data_quasar_low['IMAGES'][3730:4388, :, :, :]\n",
    "print(np.shape(test_images))\n",
    "test_labels = input_data_quasar_low['LABELS'][3730:4388]\n",
    "print(np.shape(test_labels))"
   ]
  },
  {
   "cell_type": "code",
   "execution_count": null,
   "metadata": {},
   "outputs": [],
   "source": [
    "s = np.random.uniform(2.45,3.05, 658)"
   ]
  },
  {
   "cell_type": "code",
   "execution_count": null,
   "metadata": {},
   "outputs": [],
   "source": [
    "a,b,c = plt.hist(s, bins=10)"
   ]
  },
  {
   "cell_type": "code",
   "execution_count": null,
   "metadata": {},
   "outputs": [],
   "source": [
    "plt.hist(input_data_var['REDSHIFT'][3730:4388], bins = 50)\n",
    "plt.xlim(2.45,3.05)\n",
    "plt.ylim(0,60)\n",
    "plt.title('Test variable')\n"
   ]
  },
  {
   "cell_type": "markdown",
   "metadata": {},
   "source": [
    "## Hist of test sets for variable & high"
   ]
  },
  {
   "cell_type": "code",
   "execution_count": null,
   "metadata": {
    "scrolled": true
   },
   "outputs": [],
   "source": [
    "fig, (ax1, ax2) = plt.subplots(1, 2)\n",
    "fig.suptitle('Horizontally stacked subplots')\n",
    "\n",
    "ax1.hist(input_data_var['REDSHIFT'][3730:4388], bins = 50)\n",
    "ax1.set_xlim(2.45,3.05)\n",
    "ax1.set_ylim(0,60)\n",
    "ax1.set_title('Test variable')\n",
    "\n",
    "ax2.hist(input_data_var['REDSHIFT'][3730:4388], bins = 50)\n",
    "ax2.set_xlim(2.45,3.05)\n",
    "ax2.set_ylim(0,60)\n",
    "ax2.set_title('Test high')"
   ]
  },
  {
   "cell_type": "code",
   "execution_count": null,
   "metadata": {},
   "outputs": [],
   "source": [
    "len(input_data_var['LABELS'][3730:4388])"
   ]
  },
  {
   "cell_type": "markdown",
   "metadata": {},
   "source": [
    "## Hist of training sets for variable & high"
   ]
  },
  {
   "cell_type": "code",
   "execution_count": null,
   "metadata": {},
   "outputs": [],
   "source": [
    "fig, (ax1, ax2) = plt.subplots(1, 2)\n",
    "fig.suptitle('Hist of TRAINING SETS')\n",
    "\n",
    "ax1.hist(input_data_var['REDSHIFT'][:3072], bins = 50)\n",
    "ax1.set_xlim(2.45,3.05)\n",
    "ax1.set_ylim(0,200)\n",
    "ax1.set_title('Train VARIABLE')\n",
    "\n",
    "ax2.hist(input_data_quasar_high['REDSHIFT'][:3072], bins = 50)\n",
    "ax2.set_xlim(2.45,3.05)\n",
    "ax2.set_ylim(0,300)\n",
    "ax2.set_title('Train HIGH')"
   ]
  },
  {
   "cell_type": "code",
   "execution_count": null,
   "metadata": {},
   "outputs": [],
   "source": [
    "fig, (ax1, ax2) = plt.subplots(1, 2)\n",
    "fig.suptitle('Hist of TEST sets')\n",
    "\n",
    "ax1.hist(input_data_var['REDSHIFT'][3730:4388], bins = 50)\n",
    "ax1.set_xlim(2.45,3.05)\n",
    "ax1.set_ylim(0,60)\n",
    "ax1.set_title('Test VARIABLE')\n",
    "\n",
    "ax2.hist(input_data_var['REDSHIFT'][3730:4388], bins = 50)\n",
    "ax2.set_xlim(2.45,3.05)\n",
    "ax2.set_ylim(0,60)\n",
    "ax2.set_title('Test HIGH')"
   ]
  },
  {
   "cell_type": "code",
   "execution_count": null,
   "metadata": {},
   "outputs": [],
   "source": [
    "def binning_data(data_dict, bin_num):\n",
    "    \n",
    "    bins = [{} for _ in range(bin_num)]\n",
    "    \n",
    "    for i in range(len(data_dict['REDSHIFT'])):\n",
    "        \n",
    "        if (data_dict['REDSHIFT'][i] >= 2.45) & (data_dict['REDSHIFT'][i] < 2.50):\n",
    "        \n",
    "            bins[0] = {'REDSHIFT': data_dict['REDSHIFT'][i], 'CLASS': data_dict['CLASS'][i],\\\n",
    "                    'WAVE': data_dict['WAVE'][i], 'FLUX': data_dict['FLUX'][i], 'NOISE': data_dict['NOISE'][i]} \n",
    "            \n",
    "        elif (data_dict['REDSHIFT'][i] >= 2.50) & (data_dict['REDSHIFT'][i] < 2.55):\n",
    "        \n",
    "            bins[1].append(data_dict['REDSHIFT'][i])\n",
    "    \n",
    "        elif (data_dict['REDSHIFT'][i] >= 2.55) & (data_dict['REDSHIFT'][i] < 2.60):\n",
    "        \n",
    "            bins[2].append(data_dict['REDSHIFT'][i])\n",
    "        \n",
    "        elif (data_dict['REDSHIFT'][i] >= 2.60) & (data_dict['REDSHIFT'][i] < 2.65):\n",
    "        \n",
    "            bins[3].append(data_dict['REDSHIFT'][i])\n",
    "        \n",
    "        elif (data_dict['REDSHIFT'][i] >= 2.65) & (data_dict['REDSHIFT'][i] < 2.70):\n",
    "        \n",
    "            bins[4].append(data_dict['REDSHIFT'][i])\n",
    "        \n",
    "        elif (data_dict['REDSHIFT'][i] >= 2.70) & (data_dict['REDSHIFT'][i] < 2.75):\n",
    "\n",
    "            bins[5].append(data_dict['REDSHIFT'][i])\n",
    "        \n",
    "        elif (data_dict['REDSHIFT'][i] >= 2.75) & (data_dict['REDSHIFT'][i] < 2.80):\n",
    "        \n",
    "            bins[6].append(data_dict['REDSHIFT'][i])\n",
    "            \n",
    "    \n",
    "        elif (data_dict['REDSHIFT'][i] >= 2.80) & (data_dict['REDSHIFT'][i] < 2.85):\n",
    "        \n",
    "            bins[7].append(data_dict['REDSHIFT'][i])\n",
    "        \n",
    "        elif (data_dict['REDSHIFT'][i] >= 2.85) & (data_dict['REDSHIFT'][i] < 2.90):\n",
    "        \n",
    "            bins[8].append(data_dict['REDSHIFT'][i])\n",
    "        \n",
    "        elif (data_dict['REDSHIFT'][i] >= 2.90) & (data_dict['REDSHIFT'][i] < 2.95):\n",
    "        \n",
    "            bins[9].append(data_dict['REDSHIFT'][i])\n",
    "        \n",
    "        elif (data_dict['REDSHIFT'][i] >= 2.95) & (data_dict['REDSHIFT'][i] < 3.0):\n",
    "\n",
    "            bins[10].append(data_dict['REDSHIFT'][i])\n",
    "        \n",
    "        elif (data_dict['REDSHIFT'][i] >= 3.0) & (data_dict['REDSHIFT'][i] < 3.05):\n",
    "        \n",
    "            bins[11].append(data_dict['REDSHIFT'][i])\n",
    "            \n",
    "    return bins"
   ]
  }
 ],
 "metadata": {
  "kernelspec": {
   "display_name": "Python 3",
   "language": "python",
   "name": "python3"
  },
  "language_info": {
   "codemirror_mode": {
    "name": "ipython",
    "version": 3
   },
   "file_extension": ".py",
   "mimetype": "text/x-python",
   "name": "python",
   "nbconvert_exporter": "python",
   "pygments_lexer": "ipython3",
   "version": "3.6.7"
  }
 },
 "nbformat": 4,
 "nbformat_minor": 2
}
