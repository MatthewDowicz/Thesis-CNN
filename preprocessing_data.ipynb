{
 "cells": [
  {
   "cell_type": "code",
   "execution_count": 3,
   "metadata": {},
   "outputs": [],
   "source": [
    "from __future__ import absolute_import, division, print_function, unicode_literals\n",
    "import numpy as np\n",
    "import matplotlib.pyplot as plt\n",
    "from astropy.io import fits\n",
    "from astropy.table import Table\n",
    "import numpy as np\n",
    "import os\n",
    "import shutil\n",
    "import re\n",
    "import time\n",
    "import pickle\n",
    "import pdb\n",
    "import sys"
   ]
  },
  {
   "cell_type": "code",
   "execution_count": 4,
   "metadata": {},
   "outputs": [],
   "source": [
    "def reading_in_data(filename):\n",
    "    \n",
    "    filename = str(filename)\n",
    "\n",
    "    infile = open(filename,'rb')\n",
    "    new_dict = pickle.load(infile)\n",
    "    infile.close()\n",
    "    \n",
    "    return new_dict\n",
    "\n",
    "def eboss_cut(data_dict):\n",
    "    \n",
    "    # initial data arrays of the different classifying criteria for the QSO\n",
    "    init_redshift = data_dict['REDSHIFT']\n",
    "    init_flux = data_dict['FLUX']\n",
    "    init_class = data_dict['CLASS']\n",
    "    init_noise = data_dict['NOISE']\n",
    "    init_wave = data_dict['WAVE']\n",
    "    init_psfmag = data_dict['PSFMAG']\n",
    "    init_r = data_dict['R']\n",
    "    init_eboss = data_dict['EBOSS_TARGET1']\n",
    "    init_plate = data_dict['PLATE']\n",
    "    init_mjd = data_dict['MJD']\n",
    "    init_fiber = data_dict['FIBER']\n",
    "    \n",
    "    # create empty lists of all the above parameters that have been updated, so that all the saved QSO's have\n",
    "    # variability data that satisfy the bitmask range\n",
    "    \n",
    "    var_redshift = []\n",
    "    var_flux = []\n",
    "    var_class = []\n",
    "    var_noise = []\n",
    "    var_wave = []\n",
    "    var_psfmag = []\n",
    "    var_r = []\n",
    "    var_eboss = []\n",
    "    var_plate = []\n",
    "    var_mjd = []\n",
    "    var_fiber = []\n",
    "    \n",
    "# For the astrophysical problem we want quasars that are within 2.5 - 3 redshift, but we're not able to get a large\n",
    "# enough dataset with this redshift cut so our redshifts peak around 1.5 - 2 instead of 2.5 - 3. See the \n",
    "#\n",
    "\n",
    "\n",
    "# now to cut if the quasars are within the correct range for variability, which is encoded in EBOSS_TARGET1 via\n",
    "# bitmask values of 2^9 = 512 and 2^11 = 2048\n",
    "\n",
    "    for i in range(len(data_dict['EBOSS_TARGET1'])):\n",
    "        \n",
    "        # this is doing a bitwise AND where 2048 is represented as 100000000000 in binary and to get 2048\n",
    "        # you raise 2^11 because SDSS goes by 2's complement binary\n",
    "        \n",
    "        # this bitwise AND checks to see if each number in the eboss target selection has the PTF Imaging flag\n",
    "        # toggled on. By having the 11th bit a 1 (the 12th number from the right is 1) shows that the number has\n",
    "        # this flag toggled on even if there are many other flags on\n",
    "        if (init_eboss[i] & 2048):\n",
    "            \n",
    "            var_redshift.append(init_redshift[i])\n",
    "            var_flux.append(init_flux[i])\n",
    "            var_class.append(init_class[i])\n",
    "            var_noise.append(init_noise[i])\n",
    "            var_wave.append(init_wave[i])\n",
    "            var_psfmag.append(init_psfmag[i])\n",
    "            var_r.append(init_r[i])\n",
    "            var_eboss.append(init_eboss[i])\n",
    "            var_plate.append(init_plate[i])\n",
    "            var_mjd.append(init_mjd[i])\n",
    "            var_fiber.append(init_fiber[i])\n",
    "            \n",
    "        if (init_eboss[i] & 512):\n",
    "            \n",
    "            var_redshift.append(init_redshift[i])\n",
    "            var_flux.append(init_flux[i])\n",
    "            var_class.append(init_class[i])\n",
    "            var_noise.append(init_noise[i])\n",
    "            var_wave.append(init_wave[i])\n",
    "            var_psfmag.append(init_psfmag[i])\n",
    "            var_r.append(init_r[i])\n",
    "            var_eboss.append(init_eboss[i])\n",
    "            var_plate.append(init_plate[i])\n",
    "            var_mjd.append(init_mjd[i])\n",
    "            var_fiber.append(init_fiber[i])\n",
    "    \n",
    "    var_dict = {'REDSHIFT': var_redshift, 'FLUX': var_flux, 'CLASS': var_class, 'NOISE': var_noise,\\\n",
    "               'WAVE': var_wave, 'PSFMAG': var_psfmag, 'R': var_r, 'PLATE': var_plate, 'MJD': var_mjd,\\\n",
    "               'EBOSS_TARGET1': var_eboss, 'FIBER': var_fiber}\n",
    "    \n",
    "    return var_dict"
   ]
  },
  {
   "cell_type": "code",
   "execution_count": 5,
   "metadata": {},
   "outputs": [],
   "source": [
    "varqso = reading_in_data(\"varqso_dict\")\n",
    "qso = reading_in_data(\"quasar_dict\")"
   ]
  },
  {
   "cell_type": "code",
   "execution_count": 6,
   "metadata": {},
   "outputs": [
    {
     "name": "stdout",
     "output_type": "stream",
     "text": [
      "dict_keys(['FLUX', 'CLASS', 'NOISE', 'WAVE', 'REDSHIFT', 'PLATE', 'MJD', 'FIBER', 'PSFMAG', 'R', 'G', 'EBOSS_TARGET1', 'RA', 'DEC'])\n",
      "dict_keys(['FLUX', 'CLASS', 'NOISE', 'WAVE', 'REDSHIFT', 'PLATE', 'MJD', 'FIBER', 'PSFMAG', 'R', 'G', 'EBOSS_TARGET1', 'RA', 'DEC'])\n"
     ]
    }
   ],
   "source": [
    "print(varqso.keys())\n",
    "print(qso.keys())"
   ]
  },
  {
   "cell_type": "code",
   "execution_count": 7,
   "metadata": {
    "scrolled": true
   },
   "outputs": [
    {
     "name": "stdout",
     "output_type": "stream",
     "text": [
      "30471\n",
      "73086\n"
     ]
    }
   ],
   "source": [
    "print(len(varqso['CLASS']))\n",
    "print(len(qso['CLASS']))"
   ]
  },
  {
   "cell_type": "code",
   "execution_count": 8,
   "metadata": {},
   "outputs": [],
   "source": [
    "#plt.hist(varqso['NOISE'],len(varqso['NOISE']))"
   ]
  },
  {
   "cell_type": "code",
   "execution_count": 9,
   "metadata": {},
   "outputs": [],
   "source": [
    "var_dict = eboss_cut(varqso)"
   ]
  },
  {
   "cell_type": "code",
   "execution_count": 10,
   "metadata": {},
   "outputs": [
    {
     "name": "stdout",
     "output_type": "stream",
     "text": [
      "30471\n",
      "30471\n"
     ]
    }
   ],
   "source": [
    "print(len(var_dict['NOISE']))\n",
    "print(len(varqso['NOISE']))"
   ]
  },
  {
   "cell_type": "code",
   "execution_count": null,
   "metadata": {},
   "outputs": [],
   "source": [
    "plt.hist?"
   ]
  },
  {
   "cell_type": "code",
   "execution_count": null,
   "metadata": {},
   "outputs": [],
   "source": []
  }
 ],
 "metadata": {
  "kernelspec": {
   "display_name": "Python 3",
   "language": "python",
   "name": "python3"
  },
  "language_info": {
   "codemirror_mode": {
    "name": "ipython",
    "version": 3
   },
   "file_extension": ".py",
   "mimetype": "text/x-python",
   "name": "python",
   "nbconvert_exporter": "python",
   "pygments_lexer": "ipython3",
   "version": "3.7.1"
  }
 },
 "nbformat": 4,
 "nbformat_minor": 2
}
