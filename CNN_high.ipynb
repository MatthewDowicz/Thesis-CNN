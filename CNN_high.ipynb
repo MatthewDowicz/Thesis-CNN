{
 "cells": [
  {
   "cell_type": "code",
   "execution_count": 1,
   "metadata": {},
   "outputs": [
    {
     "name": "stderr",
     "output_type": "stream",
     "text": [
      "Using TensorFlow backend.\n",
      "/Users/matt/anaconda3/envs/ML/lib/python3.6/site-packages/tensorflow/python/framework/dtypes.py:526: FutureWarning: Passing (type, 1) or '1type' as a synonym of type is deprecated; in a future version of numpy, it will be understood as (type, (1,)) / '(1,)type'.\n",
      "  _np_qint8 = np.dtype([(\"qint8\", np.int8, 1)])\n",
      "/Users/matt/anaconda3/envs/ML/lib/python3.6/site-packages/tensorflow/python/framework/dtypes.py:527: FutureWarning: Passing (type, 1) or '1type' as a synonym of type is deprecated; in a future version of numpy, it will be understood as (type, (1,)) / '(1,)type'.\n",
      "  _np_quint8 = np.dtype([(\"quint8\", np.uint8, 1)])\n",
      "/Users/matt/anaconda3/envs/ML/lib/python3.6/site-packages/tensorflow/python/framework/dtypes.py:528: FutureWarning: Passing (type, 1) or '1type' as a synonym of type is deprecated; in a future version of numpy, it will be understood as (type, (1,)) / '(1,)type'.\n",
      "  _np_qint16 = np.dtype([(\"qint16\", np.int16, 1)])\n",
      "/Users/matt/anaconda3/envs/ML/lib/python3.6/site-packages/tensorflow/python/framework/dtypes.py:529: FutureWarning: Passing (type, 1) or '1type' as a synonym of type is deprecated; in a future version of numpy, it will be understood as (type, (1,)) / '(1,)type'.\n",
      "  _np_quint16 = np.dtype([(\"quint16\", np.uint16, 1)])\n",
      "/Users/matt/anaconda3/envs/ML/lib/python3.6/site-packages/tensorflow/python/framework/dtypes.py:530: FutureWarning: Passing (type, 1) or '1type' as a synonym of type is deprecated; in a future version of numpy, it will be understood as (type, (1,)) / '(1,)type'.\n",
      "  _np_qint32 = np.dtype([(\"qint32\", np.int32, 1)])\n",
      "/Users/matt/anaconda3/envs/ML/lib/python3.6/site-packages/tensorflow/python/framework/dtypes.py:535: FutureWarning: Passing (type, 1) or '1type' as a synonym of type is deprecated; in a future version of numpy, it will be understood as (type, (1,)) / '(1,)type'.\n",
      "  np_resource = np.dtype([(\"resource\", np.ubyte, 1)])\n"
     ]
    }
   ],
   "source": [
    "from __future__ import absolute_import, division, print_function, unicode_literals\n",
    "import keras\n",
    "from keras import regularizers\n",
    "import numpy as np\n",
    "import matplotlib.pyplot as plt\n",
    "from astropy.io import fits\n",
    "from astropy.table import Table\n",
    "import numpy as np\n",
    "import seaborn as sns\n",
    "import os\n",
    "import re\n",
    "import time\n",
    "import pickle\n",
    "import pandas as pd\n",
    "import sklearn\n",
    "from sklearn.metrics import roc_curve\n",
    "from sklearn.metrics import auc\n",
    "\n",
    "sns.set()"
   ]
  },
  {
   "cell_type": "code",
   "execution_count": 2,
   "metadata": {},
   "outputs": [],
   "source": [
    "def reading_in_data(filename):\n",
    "    \n",
    "    filename = str(filename)\n",
    "\n",
    "    infile = open(filename,'rb')\n",
    "    new_dict = pickle.load(infile)\n",
    "    infile.close()\n",
    "    \n",
    "    return new_dict\n"
   ]
  },
  {
   "cell_type": "code",
   "execution_count": 3,
   "metadata": {},
   "outputs": [],
   "source": [
    "input_data_quasar_high = \\\n",
    "pd.read_pickle(\"/Users/matt/Desktop/DESI_Research/DESI_ML/var_CNN/Dictionaries/corrected_preprocessed_joined_obj_dict/quasar_star_preprocessed_data_high\")\n",
    "\n",
    "\n",
    "input_data_quasar_low = \\\n",
    "pd.read_pickle(\"/Users/matt/Desktop/DESI_Research/DESI_ML/var_CNN/Dictionaries/corrected_preprocessed_joined_obj_dict/var_star_preprocessed_data_low\")\n",
    "\n",
    "\n",
    "\n",
    "\n"
   ]
  },
  {
   "cell_type": "code",
   "execution_count": 4,
   "metadata": {},
   "outputs": [],
   "source": [
    "# input_data_quasar_high = reading_in_data(\"quasar_star_preprocessed_data_high\")\n",
    "\n",
    "# input_data_quasar_low = reading_in_data(\"quasar_star_preprocessed_data_low\")"
   ]
  },
  {
   "cell_type": "code",
   "execution_count": 5,
   "metadata": {},
   "outputs": [
    {
     "name": "stdout",
     "output_type": "stream",
     "text": [
      "4910\n",
      "4910\n"
     ]
    }
   ],
   "source": [
    "print(len(input_data_quasar_high['LABELS']))\n",
    "print(len(input_data_quasar_low['LABELS']))"
   ]
  },
  {
   "cell_type": "code",
   "execution_count": 6,
   "metadata": {},
   "outputs": [
    {
     "data": {
      "text/plain": [
       "dict_keys(['IMAGES', 'LABELS', 'NOISE', 'FLUX', 'WAVE', 'REDSHIFT'])"
      ]
     },
     "execution_count": 6,
     "metadata": {},
     "output_type": "execute_result"
    }
   ],
   "source": [
    "input_data_quasar_high.keys()"
   ]
  },
  {
   "cell_type": "code",
   "execution_count": 7,
   "metadata": {},
   "outputs": [
    {
     "data": {
      "image/png": "[encoded data removed]",
      "text/plain": [
       "<Figure size 432x288 with 1 Axes>"
      ]
     },
     "metadata": {
      "needs_background": "light"
     },
     "output_type": "display_data"
    }
   ],
   "source": [
    "a,b,c = plt.hist(input_data_quasar_high['NOISE'][:10035], bins = 50)"
   ]
  },
  {
   "cell_type": "code",
   "execution_count": 8,
   "metadata": {},
   "outputs": [
    {
     "data": {
      "image/png": "[encoded data removed]",
      "text/plain": [
       "<Figure size 432x288 with 1 Axes>"
      ]
     },
     "metadata": {
      "needs_background": "light"
     },
     "output_type": "display_data"
    }
   ],
   "source": [
    "a,b,c = plt.hist(input_data_quasar_high['LABELS'], bins = 50)"
   ]
  },
  {
   "cell_type": "code",
   "execution_count": 9,
   "metadata": {},
   "outputs": [
    {
     "data": {
      "image/png": "[encoded data removed]",
      "text/plain": [
       "<Figure size 432x288 with 1 Axes>"
      ]
     },
     "metadata": {
      "needs_background": "light"
     },
     "output_type": "display_data"
    }
   ],
   "source": [
    "a,b,c = plt.hist(input_data_quasar_low['LABELS'], bins = 50)"
   ]
  },
  {
   "cell_type": "code",
   "execution_count": 10,
   "metadata": {},
   "outputs": [
    {
     "data": {
      "image/png": "[encoded data removed]",
      "text/plain": [
       "<Figure size 432x288 with 1 Axes>"
      ]
     },
     "metadata": {
      "needs_background": "light"
     },
     "output_type": "display_data"
    }
   ],
   "source": [
    "a,b,c = plt.hist(input_data_quasar_low['NOISE'][10035:11806], bins = 50)"
   ]
  },
  {
   "cell_type": "code",
   "execution_count": 11,
   "metadata": {},
   "outputs": [],
   "source": [
    "# train_images = input_data_quasar_high['IMAGES'][:1000, :, :, :]\n",
    "# print(np.shape(train_images))\n",
    "# train_labels = input_data_quasar_high['LABELS'][:1000]\n",
    "# print(np.shape(train_labels))\n",
    "\n",
    "# val_images = input_data_quasar_high['IMAGES'][8265:10035, :, :, :]\n",
    "# print(np.shape(val_images))\n",
    "# val_labels = input_data_quasar_high['LABELS'][8265:10035]\n",
    "# print(np.shape(val_labels))\n",
    "\n",
    "# test_images = input_data_quasar_low['IMAGES'][:15806, :, :, :]\n",
    "# print(np.shape(test_images))\n",
    "# test_labels = input_data_quasar_low['LABELS'][:15806]\n",
    "# print(np.shape(test_labels))"
   ]
  },
  {
   "cell_type": "code",
   "execution_count": 12,
   "metadata": {},
   "outputs": [],
   "source": [
    "# labels = train_labels\n",
    "\n",
    "# a,b,c = plt.hist(labels, bins =50)"
   ]
  },
  {
   "cell_type": "code",
   "execution_count": 13,
   "metadata": {},
   "outputs": [],
   "source": [
    "# train_images = input_data_quasar_high['IMAGES'][:8265, :, :, :]\n",
    "# print(np.shape(train_images))\n",
    "# train_labels = input_data_quasar_high['LABELS'][:8265]\n",
    "# print(np.shape(train_labels))\n",
    "\n",
    "# val_images = input_data_quasar_high['IMAGES'][8265:10035, :, :, :]\n",
    "# print(np.shape(val_images))\n",
    "# val_labels = input_data_quasar_high['LABELS'][8265:10035]\n",
    "# print(np.shape(val_labels))\n",
    "\n",
    "# test_images = input_data_quasar_low['IMAGES'][10035:11806, :, :, :]\n",
    "# print(np.shape(test_images))\n",
    "# test_labels = input_data_quasar_low['LABELS'][10035:11806]\n",
    "# print(np.shape(test_labels))"
   ]
  },
  {
   "cell_type": "code",
   "execution_count": 14,
   "metadata": {},
   "outputs": [
    {
     "name": "stdout",
     "output_type": "stream",
     "text": [
      "(4174, 1, 3681, 1)\n",
      "(4174,)\n",
      "(736, 1, 3681, 1)\n",
      "(736,)\n",
      "(736, 1, 3681, 1)\n",
      "(736,)\n"
     ]
    }
   ],
   "source": [
    "train_images = input_data_quasar_high['IMAGES'][:4174, :, :, :]\n",
    "print(np.shape(train_images))\n",
    "train_labels = input_data_quasar_high['LABELS'][:4174]\n",
    "print(np.shape(train_labels))\n",
    "\n",
    "val_images = input_data_quasar_high['IMAGES'][4174:4910, :, :, :]\n",
    "print(np.shape(val_images))\n",
    "val_labels = input_data_quasar_high['LABELS'][4174:4910]\n",
    "print(np.shape(val_labels))\n",
    "\n",
    "test_images = input_data_quasar_low['IMAGES'][4174:4910, :, :, :]\n",
    "print(np.shape(test_images))\n",
    "test_labels = input_data_quasar_low['LABELS'][4174:4910]\n",
    "print(np.shape(test_labels))"
   ]
  },
  {
   "cell_type": "code",
   "execution_count": 15,
   "metadata": {},
   "outputs": [
    {
     "data": {
      "image/png": "[encoded data removed]",
      "text/plain": [
       "<Figure size 432x288 with 1 Axes>"
      ]
     },
     "metadata": {
      "needs_background": "light"
     },
     "output_type": "display_data"
    }
   ],
   "source": [
    "a,b,c = plt.hist(train_labels, bins=50 )"
   ]
  },
  {
   "cell_type": "code",
   "execution_count": 16,
   "metadata": {},
   "outputs": [
    {
     "data": {
      "image/png": "[encoded data removed]",
      "text/plain": [
       "<Figure size 432x288 with 1 Axes>"
      ]
     },
     "metadata": {
      "needs_background": "light"
     },
     "output_type": "display_data"
    }
   ],
   "source": [
    "a,b,c = plt.hist(val_labels, bins=50 )"
   ]
  },
  {
   "cell_type": "code",
   "execution_count": 17,
   "metadata": {},
   "outputs": [
    {
     "data": {
      "image/png": "[encoded data removed]",
      "text/plain": [
       "<Figure size 432x288 with 1 Axes>"
      ]
     },
     "metadata": {
      "needs_background": "light"
     },
     "output_type": "display_data"
    }
   ],
   "source": [
    "a,b,c = plt.hist(test_labels, bins=50 )"
   ]
  },
  {
   "cell_type": "code",
   "execution_count": 18,
   "metadata": {},
   "outputs": [],
   "source": [
    "# len(train_labels)\n",
    "# print(train_labels[8264])"
   ]
  },
  {
   "cell_type": "code",
   "execution_count": 19,
   "metadata": {},
   "outputs": [
    {
     "name": "stdout",
     "output_type": "stream",
     "text": [
      "WARNING:tensorflow:From /Users/matt/anaconda3/envs/ML/lib/python3.6/site-packages/tensorflow/python/framework/op_def_library.py:263: colocate_with (from tensorflow.python.framework.ops) is deprecated and will be removed in a future version.\n",
      "Instructions for updating:\n",
      "Colocations handled automatically by placer.\n",
      "_________________________________________________________________\n",
      "Layer (type)                 Output Shape              Param #   \n",
      "=================================================================\n",
      "conv2d_1 (Conv2D)            (None, 1, 3670, 12)       156       \n",
      "_________________________________________________________________\n",
      "max_pooling2d_1 (MaxPooling2 (None, 1, 917, 12)        0         \n",
      "_________________________________________________________________\n",
      "conv2d_2 (Conv2D)            (None, 1, 912, 18)        1314      \n",
      "_________________________________________________________________\n",
      "max_pooling2d_2 (MaxPooling2 (None, 1, 228, 18)        0         \n",
      "_________________________________________________________________\n",
      "conv2d_3 (Conv2D)            (None, 1, 223, 24)        2616      \n",
      "_________________________________________________________________\n",
      "max_pooling2d_3 (MaxPooling2 (None, 1, 55, 24)         0         \n",
      "_________________________________________________________________\n",
      "flatten_1 (Flatten)          (None, 1320)              0         \n",
      "_________________________________________________________________\n",
      "dense_1 (Dense)              (None, 256)               338176    \n",
      "_________________________________________________________________\n",
      "dense_2 (Dense)              (None, 1)                 257       \n",
      "=================================================================\n",
      "Total params: 342,519\n",
      "Trainable params: 342,519\n",
      "Non-trainable params: 0\n",
      "_________________________________________________________________\n"
     ]
    }
   ],
   "source": [
    "model = keras.Sequential()\n",
    "model.add(keras.layers.Conv2D(12, (1, 12), activation='relu', input_shape=(1, 3681, 1), data_format='channels_last'))\n",
    "model.add(keras.layers.MaxPooling2D( (1, 4)))\n",
    "\n",
    "model.add(keras.layers.Conv2D(18, (1, 6), activation='relu', data_format='channels_last'))\n",
    "model.add(keras.layers.MaxPooling2D((1, 4)))\n",
    "\n",
    "model.add(keras.layers.Conv2D(24, (1, 6), activation='relu', data_format='channels_last'))\n",
    "model.add(keras.layers.MaxPooling2D((1, 4)))\n",
    "\n",
    "model.add(keras.layers.Flatten())\n",
    "model.add(keras.layers.Dense(units = 256, activation = 'relu'))\n",
    "model.add(keras.layers.Dense(units = 1, activation = 'sigmoid'))\n",
    "\n",
    "\n",
    "opt = keras.optimizers.SGD(lr = 5e-3, momentum = 0.25, decay = 1e-5)\n",
    "model.compile(loss='binary_crossentropy', optimizer = opt  , metrics = ['accuracy'])\n",
    "\n",
    "model.summary()"
   ]
  },
  {
   "cell_type": "code",
   "execution_count": 20,
   "metadata": {
    "scrolled": false
   },
   "outputs": [
    {
     "name": "stdout",
     "output_type": "stream",
     "text": [
      "WARNING:tensorflow:From /Users/matt/anaconda3/envs/ML/lib/python3.6/site-packages/tensorflow/python/ops/math_ops.py:3066: to_int32 (from tensorflow.python.ops.math_ops) is deprecated and will be removed in a future version.\n",
      "Instructions for updating:\n",
      "Use tf.cast instead.\n",
      "Train on 4174 samples, validate on 736 samples\n",
      "Epoch 1/80\n",
      "4174/4174 [==============================] - 5s 1ms/step - loss: 0.6839 - acc: 0.6308 - val_loss: 0.6727 - val_acc: 0.6128\n",
      "Epoch 2/80\n",
      "4174/4174 [==============================] - 4s 1ms/step - loss: 0.6483 - acc: 0.6339 - val_loss: 0.6250 - val_acc: 0.6155\n",
      "Epoch 3/80\n",
      "4174/4174 [==============================] - 5s 1ms/step - loss: 0.5858 - acc: 0.7010 - val_loss: 0.5612 - val_acc: 0.7133\n",
      "Epoch 4/80\n",
      "4174/4174 [==============================] - 5s 1ms/step - loss: 0.5163 - acc: 0.7544 - val_loss: 0.5016 - val_acc: 0.7391\n",
      "Epoch 5/80\n",
      "4174/4174 [==============================] - 6s 1ms/step - loss: 0.4453 - acc: 0.7782 - val_loss: 0.4203 - val_acc: 0.7853\n",
      "Epoch 6/80\n",
      "4174/4174 [==============================] - 4s 1ms/step - loss: 0.3592 - acc: 0.8316 - val_loss: 0.3202 - val_acc: 0.8261\n",
      "Epoch 7/80\n",
      "4174/4174 [==============================] - 5s 1ms/step - loss: 0.2708 - acc: 0.8694 - val_loss: 0.2382 - val_acc: 0.8709\n",
      "Epoch 8/80\n",
      "4174/4174 [==============================] - 5s 1ms/step - loss: 0.2130 - acc: 0.9018 - val_loss: 0.1842 - val_acc: 0.9158\n",
      "Epoch 9/80\n",
      "4174/4174 [==============================] - 4s 1ms/step - loss: 0.1803 - acc: 0.9236 - val_loss: 0.1519 - val_acc: 0.9361\n",
      "Epoch 10/80\n",
      "4174/4174 [==============================] - 5s 1ms/step - loss: 0.1534 - acc: 0.9430 - val_loss: 0.1288 - val_acc: 0.9620\n",
      "Epoch 11/80\n",
      "4174/4174 [==============================] - 5s 1ms/step - loss: 0.1457 - acc: 0.9574 - val_loss: 0.1191 - val_acc: 0.9796\n",
      "Epoch 12/80\n",
      "4174/4174 [==============================] - 5s 1ms/step - loss: 0.1329 - acc: 0.9662 - val_loss: 0.1839 - val_acc: 0.9742\n",
      "Epoch 13/80\n",
      "4174/4174 [==============================] - 5s 1ms/step - loss: 0.1272 - acc: 0.9667 - val_loss: 0.0893 - val_acc: 0.9810\n",
      "Epoch 14/80\n",
      "4174/4174 [==============================] - 5s 1ms/step - loss: 0.1023 - acc: 0.9780 - val_loss: 0.1000 - val_acc: 0.9674\n",
      "Epoch 15/80\n",
      "4174/4174 [==============================] - 4s 1ms/step - loss: 0.1257 - acc: 0.9657 - val_loss: 0.0919 - val_acc: 0.9783\n",
      "Epoch 16/80\n",
      "4174/4174 [==============================] - 4s 1ms/step - loss: 0.0997 - acc: 0.9751 - val_loss: 0.0755 - val_acc: 0.9864\n",
      "Epoch 17/80\n",
      "4174/4174 [==============================] - 4s 1ms/step - loss: 0.0831 - acc: 0.9792 - val_loss: 0.0764 - val_acc: 0.9837\n",
      "Epoch 18/80\n",
      "4174/4174 [==============================] - 4s 1ms/step - loss: 0.1981 - acc: 0.9590 - val_loss: 0.0945 - val_acc: 0.9688\n",
      "Epoch 19/80\n",
      "4174/4174 [==============================] - 4s 1ms/step - loss: 0.0891 - acc: 0.9775 - val_loss: 0.0750 - val_acc: 0.9796\n",
      "Epoch 20/80\n",
      "4174/4174 [==============================] - 5s 1ms/step - loss: 0.0753 - acc: 0.9823 - val_loss: 0.0718 - val_acc: 0.9823\n",
      "Epoch 21/80\n",
      "4174/4174 [==============================] - 5s 1ms/step - loss: 0.0874 - acc: 0.9763 - val_loss: 0.0685 - val_acc: 0.9837\n",
      "Epoch 22/80\n",
      "4174/4174 [==============================] - 5s 1ms/step - loss: 0.0642 - acc: 0.9820 - val_loss: 0.0675 - val_acc: 0.9823\n",
      "Epoch 23/80\n",
      "4174/4174 [==============================] - 5s 1ms/step - loss: 0.0618 - acc: 0.9839 - val_loss: 0.0651 - val_acc: 0.9905\n",
      "Epoch 24/80\n",
      "4174/4174 [==============================] - 4s 1ms/step - loss: 0.0859 - acc: 0.9763 - val_loss: 0.0643 - val_acc: 0.9823\n",
      "Epoch 25/80\n",
      "4174/4174 [==============================] - 5s 1ms/step - loss: 0.0586 - acc: 0.9842 - val_loss: 0.1033 - val_acc: 0.9783\n",
      "Epoch 26/80\n",
      "4174/4174 [==============================] - 4s 1ms/step - loss: 0.0584 - acc: 0.9835 - val_loss: 0.0693 - val_acc: 0.9823\n",
      "Epoch 27/80\n",
      "4174/4174 [==============================] - 5s 1ms/step - loss: 0.0691 - acc: 0.9825 - val_loss: 0.0793 - val_acc: 0.9755\n",
      "Epoch 28/80\n",
      "4174/4174 [==============================] - 4s 1ms/step - loss: 0.0708 - acc: 0.9789 - val_loss: 0.0617 - val_acc: 0.9851\n",
      "Epoch 29/80\n",
      "4174/4174 [==============================] - 4s 1ms/step - loss: 0.0689 - acc: 0.9811 - val_loss: 0.0585 - val_acc: 0.9891\n",
      "Epoch 30/80\n",
      "4174/4174 [==============================] - 5s 1ms/step - loss: 0.0524 - acc: 0.9856 - val_loss: 0.0558 - val_acc: 0.9905\n",
      "Epoch 31/80\n",
      "4174/4174 [==============================] - 5s 1ms/step - loss: 0.0788 - acc: 0.9770 - val_loss: 0.0610 - val_acc: 0.9851\n",
      "Epoch 32/80\n",
      "4174/4174 [==============================] - 5s 1ms/step - loss: 0.0448 - acc: 0.9875 - val_loss: 0.1014 - val_acc: 0.9796\n",
      "Epoch 33/80\n",
      "4174/4174 [==============================] - 5s 1ms/step - loss: 0.0430 - acc: 0.9892 - val_loss: 0.0518 - val_acc: 0.9891\n",
      "Epoch 34/80\n",
      "4174/4174 [==============================] - 5s 1ms/step - loss: 0.0544 - acc: 0.9856 - val_loss: 0.0602 - val_acc: 0.9878\n",
      "Epoch 35/80\n",
      "4174/4174 [==============================] - 5s 1ms/step - loss: 0.0411 - acc: 0.9880 - val_loss: 0.0528 - val_acc: 0.9891\n",
      "Epoch 36/80\n",
      "4174/4174 [==============================] - 5s 1ms/step - loss: 0.0373 - acc: 0.9897 - val_loss: 0.0596 - val_acc: 0.9851\n",
      "Epoch 37/80\n",
      "4174/4174 [==============================] - 5s 1ms/step - loss: 0.0591 - acc: 0.9832 - val_loss: 0.0488 - val_acc: 0.9905\n",
      "Epoch 38/80\n",
      "4174/4174 [==============================] - 5s 1ms/step - loss: 0.1466 - acc: 0.9701 - val_loss: 0.0656 - val_acc: 0.9905\n",
      "Epoch 39/80\n",
      "4174/4174 [==============================] - 5s 1ms/step - loss: 0.0520 - acc: 0.9839 - val_loss: 0.0538 - val_acc: 0.9891\n",
      "Epoch 40/80\n",
      "4174/4174 [==============================] - 4s 1ms/step - loss: 0.0627 - acc: 0.9806 - val_loss: 0.0552 - val_acc: 0.9918\n",
      "Epoch 41/80\n",
      "4174/4174 [==============================] - 4s 1ms/step - loss: 0.0487 - acc: 0.9859 - val_loss: 0.0508 - val_acc: 0.9918\n",
      "Epoch 42/80\n",
      "4174/4174 [==============================] - 5s 1ms/step - loss: 0.0466 - acc: 0.9849 - val_loss: 0.0532 - val_acc: 0.9905\n",
      "Epoch 43/80\n",
      "4174/4174 [==============================] - 5s 1ms/step - loss: 0.0393 - acc: 0.9863 - val_loss: 0.0484 - val_acc: 0.9918\n",
      "Epoch 44/80\n",
      "4174/4174 [==============================] - 5s 1ms/step - loss: 0.0363 - acc: 0.9895 - val_loss: 0.0476 - val_acc: 0.9905\n",
      "Epoch 45/80\n",
      "4174/4174 [==============================] - 5s 1ms/step - loss: 0.0313 - acc: 0.9887 - val_loss: 0.0553 - val_acc: 0.9864\n",
      "Epoch 46/80\n",
      "4174/4174 [==============================] - 5s 1ms/step - loss: 0.1021 - acc: 0.9741 - val_loss: 0.0498 - val_acc: 0.9918\n",
      "Epoch 47/80\n",
      "4174/4174 [==============================] - 5s 1ms/step - loss: 0.0377 - acc: 0.9883 - val_loss: 0.0456 - val_acc: 0.9932\n",
      "Epoch 48/80\n",
      "4174/4174 [==============================] - 5s 1ms/step - loss: 0.0322 - acc: 0.9902 - val_loss: 0.0445 - val_acc: 0.9932\n",
      "Epoch 49/80\n",
      "4174/4174 [==============================] - 5s 1ms/step - loss: 0.0282 - acc: 0.9911 - val_loss: 0.0407 - val_acc: 0.9932\n",
      "Epoch 50/80\n",
      "4174/4174 [==============================] - 5s 1ms/step - loss: 0.0549 - acc: 0.9839 - val_loss: 0.0447 - val_acc: 0.9905\n",
      "Epoch 51/80\n",
      "4174/4174 [==============================] - 5s 1ms/step - loss: 0.0292 - acc: 0.9911 - val_loss: 0.0443 - val_acc: 0.9918\n",
      "Epoch 52/80\n",
      "4174/4174 [==============================] - 5s 1ms/step - loss: 0.0266 - acc: 0.9914 - val_loss: 0.0419 - val_acc: 0.9932\n",
      "Epoch 53/80\n",
      "4174/4174 [==============================] - 5s 1ms/step - loss: 0.0267 - acc: 0.9921 - val_loss: 0.0413 - val_acc: 0.9918\n",
      "Epoch 54/80\n",
      "4174/4174 [==============================] - 5s 1ms/step - loss: 0.0259 - acc: 0.9923 - val_loss: 0.0381 - val_acc: 0.9946\n",
      "Epoch 55/80\n",
      "4174/4174 [==============================] - 5s 1ms/step - loss: 0.0277 - acc: 0.9919 - val_loss: 0.0390 - val_acc: 0.9946\n",
      "Epoch 56/80\n",
      "4174/4174 [==============================] - 5s 1ms/step - loss: 0.0364 - acc: 0.9897 - val_loss: 0.2436 - val_acc: 0.9198\n",
      "Epoch 57/80\n",
      "4174/4174 [==============================] - 5s 1ms/step - loss: 0.0386 - acc: 0.9914 - val_loss: 0.0394 - val_acc: 0.9946\n",
      "Epoch 58/80\n",
      "4174/4174 [==============================] - 5s 1ms/step - loss: 0.0674 - acc: 0.9859 - val_loss: 0.0428 - val_acc: 0.9918\n",
      "Epoch 59/80\n"
     ]
    },
    {
     "name": "stdout",
     "output_type": "stream",
     "text": [
      "4174/4174 [==============================] - 5s 1ms/step - loss: 0.0418 - acc: 0.9883 - val_loss: 0.0418 - val_acc: 0.9946\n",
      "Epoch 60/80\n",
      "4174/4174 [==============================] - 4s 1ms/step - loss: 0.0333 - acc: 0.9892 - val_loss: 0.0390 - val_acc: 0.9946\n",
      "Epoch 61/80\n",
      "4174/4174 [==============================] - 5s 1ms/step - loss: 0.0312 - acc: 0.9916 - val_loss: 0.0387 - val_acc: 0.9932\n",
      "Epoch 62/80\n",
      "4174/4174 [==============================] - 5s 1ms/step - loss: 0.0384 - acc: 0.9892 - val_loss: 0.0431 - val_acc: 0.9932\n",
      "Epoch 63/80\n",
      "4174/4174 [==============================] - 5s 1ms/step - loss: 0.0290 - acc: 0.9916 - val_loss: 0.0509 - val_acc: 0.9891\n",
      "Epoch 64/80\n",
      "4174/4174 [==============================] - 5s 1ms/step - loss: 0.0440 - acc: 0.9880 - val_loss: 0.0404 - val_acc: 0.9946\n",
      "Epoch 65/80\n",
      "4174/4174 [==============================] - 4s 1ms/step - loss: 0.0442 - acc: 0.9871 - val_loss: 0.0457 - val_acc: 0.9932\n",
      "Epoch 66/80\n",
      "4174/4174 [==============================] - 5s 1ms/step - loss: 0.0276 - acc: 0.9911 - val_loss: 0.0385 - val_acc: 0.9932\n",
      "Epoch 67/80\n",
      "4174/4174 [==============================] - 5s 1ms/step - loss: 0.0222 - acc: 0.9933 - val_loss: 0.0370 - val_acc: 0.9932\n",
      "Epoch 68/80\n",
      "4174/4174 [==============================] - 5s 1ms/step - loss: 0.0258 - acc: 0.9923 - val_loss: 0.0377 - val_acc: 0.9959\n",
      "Epoch 69/80\n",
      "4174/4174 [==============================] - 4s 1ms/step - loss: 0.0223 - acc: 0.9928 - val_loss: 0.0353 - val_acc: 0.9946\n",
      "Epoch 70/80\n",
      "4174/4174 [==============================] - 4s 1ms/step - loss: 0.0690 - acc: 0.9830 - val_loss: 0.0425 - val_acc: 0.9905\n",
      "Epoch 71/80\n",
      "4174/4174 [==============================] - 4s 1ms/step - loss: 0.0247 - acc: 0.9926 - val_loss: 0.0386 - val_acc: 0.9932\n",
      "Epoch 72/80\n",
      "4174/4174 [==============================] - 4s 1ms/step - loss: 0.0215 - acc: 0.9933 - val_loss: 0.0407 - val_acc: 0.9932\n",
      "Epoch 73/80\n",
      "4174/4174 [==============================] - 5s 1ms/step - loss: 0.0223 - acc: 0.9943 - val_loss: 0.0345 - val_acc: 0.9946\n",
      "Epoch 74/80\n",
      "4174/4174 [==============================] - 5s 1ms/step - loss: 0.0237 - acc: 0.9931 - val_loss: 0.0373 - val_acc: 0.9946\n",
      "Epoch 75/80\n",
      "4174/4174 [==============================] - 4s 1ms/step - loss: 0.0207 - acc: 0.9938 - val_loss: 0.0367 - val_acc: 0.9946\n",
      "Epoch 76/80\n",
      "4174/4174 [==============================] - 5s 1ms/step - loss: 0.0165 - acc: 0.9938 - val_loss: 0.0346 - val_acc: 0.9959\n",
      "Epoch 77/80\n",
      "4174/4174 [==============================] - 7s 2ms/step - loss: 0.0164 - acc: 0.9954 - val_loss: 0.0344 - val_acc: 0.9946\n",
      "Epoch 78/80\n",
      "4174/4174 [==============================] - 7s 2ms/step - loss: 0.0363 - acc: 0.9897 - val_loss: 0.0363 - val_acc: 0.9973\n",
      "Epoch 79/80\n",
      "4174/4174 [==============================] - 6s 1ms/step - loss: 0.0203 - acc: 0.9943 - val_loss: 0.0387 - val_acc: 0.9946\n",
      "Epoch 80/80\n",
      "4174/4174 [==============================] - 7s 2ms/step - loss: 0.0182 - acc: 0.9945 - val_loss: 0.0343 - val_acc: 0.9973\n"
     ]
    }
   ],
   "source": [
    "history = model.fit(train_images,\n",
    "train_labels,\n",
    "epochs= 80,\n",
    "batch_size= 32,\n",
    "validation_data=(val_images, val_labels))"
   ]
  },
  {
   "cell_type": "code",
   "execution_count": 21,
   "metadata": {},
   "outputs": [
    {
     "name": "stdout",
     "output_type": "stream",
     "text": [
      "736/736 [==============================] - 0s 655us/step\n",
      "Test loss = 0.23591209883275238\n",
      "Test accuracy = 0.9035326086956522\n"
     ]
    },
    {
     "data": {
      "image/png": "[encoded data removed]",
      "text/plain": [
       "<Figure size 432x288 with 1 Axes>"
      ]
     },
     "metadata": {
      "needs_background": "light"
     },
     "output_type": "display_data"
    }
   ],
   "source": [
    "test_loss, test_acc = model.evaluate(test_images, test_labels)\n",
    "\n",
    "print('Test loss = ' +str(test_loss))\n",
    "print('Test accuracy = ' +str(test_acc))\n",
    "\n",
    "y_pred_keras = model.predict(test_images).ravel()\n",
    "fpr_keras, tpr_keras, thresholds_keras = roc_curve(test_labels, y_pred_keras)\n",
    "\n",
    "auc_keras = auc(fpr_keras, tpr_keras)\n",
    "\n",
    "\n",
    "plt.figure(1)\n",
    "plt.plot([0, 1], [0, 1], 'k--')\n",
    "plt.plot(fpr_keras, tpr_keras, label='Keras (area = {:.3f})'.format(auc_keras))\n",
    "plt.xlabel('False positive rate')\n",
    "plt.ylabel('True positive rate')\n",
    "plt.title('ROC curve of the Test Set of the High S/N CNN')\n",
    "plt.legend(loc='best')\n",
    "plt.show()"
   ]
  },
  {
   "cell_type": "code",
   "execution_count": 22,
   "metadata": {},
   "outputs": [
    {
     "data": {
      "image/png": "[encoded data removed]",
      "text/plain": [
       "<Figure size 432x288 with 1 Axes>"
      ]
     },
     "metadata": {
      "needs_background": "light"
     },
     "output_type": "display_data"
    },
    {
     "data": {
      "image/png": "[encoded data removed]",
      "text/plain": [
       "<Figure size 432x288 with 1 Axes>"
      ]
     },
     "metadata": {
      "needs_background": "light"
     },
     "output_type": "display_data"
    }
   ],
   "source": [
    "acc = history.history['acc']\n",
    "val_acc = history.history['val_acc']\n",
    "loss = history.history['loss']\n",
    "val_loss = history.history['val_loss']\n",
    "\n",
    "epochs = range(1, len(acc) + 1)\n",
    "\n",
    "\n",
    "plt.plot(epochs, acc, 'bo', label='Training acc')\n",
    "plt.plot(epochs, val_acc, 'b', label='Validation acc')\n",
    "plt.xlabel('Epochs')\n",
    "plt.ylabel('Accuracy')\n",
    "plt.title('Training and validation accuracy for High S/N')\n",
    "plt.legend()\n",
    "\n",
    "plt.figure()\n",
    "plt.plot(epochs, loss, 'bo', label='Training loss')\n",
    "plt.plot(epochs, val_loss, 'b', label='Validation loss')\n",
    "plt.title('Training and validation loss for High S/N')\n",
    "plt.xlabel('Epochs')\n",
    "plt.ylabel('Loss')\n",
    "plt.legend()\n",
    "plt.show()"
   ]
  },
  {
   "cell_type": "code",
   "execution_count": 23,
   "metadata": {},
   "outputs": [],
   "source": [
    "model.save('high_trained_CNN.h5')\n"
   ]
  },
  {
   "cell_type": "code",
   "execution_count": null,
   "metadata": {},
   "outputs": [],
   "source": []
  }
 ],
 "metadata": {
  "kernelspec": {
   "display_name": "Python 3",
   "language": "python",
   "name": "python3"
  },
  "language_info": {
   "codemirror_mode": {
    "name": "ipython",
    "version": 3
   },
   "file_extension": ".py",
   "mimetype": "text/x-python",
   "name": "python",
   "nbconvert_exporter": "python",
   "pygments_lexer": "ipython3",
   "version": "3.6.7"
  }
 },
 "nbformat": 4,
 "nbformat_minor": 2
}
