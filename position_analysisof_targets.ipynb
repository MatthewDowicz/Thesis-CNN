{
 "cells": [
  {
   "cell_type": "code",
   "execution_count": null,
   "metadata": {},
   "outputs": [],
   "source": [
    "import numpy as np\n",
    "import matplotlib.pyplot as plt\n",
    "from astropy.io import fits\n",
    "from astropy.table import Table\n",
    "import numpy as np\n",
    "import seaborn as sns\n",
    "import os\n",
    "import shutil\n",
    "import pickle\n",
    "import re\n",
    "import time\n",
    "import sys\n",
    "import pdb\n",
    "sns.set()"
   ]
  },
  {
   "cell_type": "code",
   "execution_count": null,
   "metadata": {},
   "outputs": [],
   "source": [
    "def reading_in_data(filename):\n",
    "    \n",
    "    filename = str(filename)\n",
    "\n",
    "    infile = open(filename,'rb')\n",
    "    new_dict = pickle.load(infile)\n",
    "    infile.close()\n",
    "    \n",
    "    return new_dict"
   ]
  },
  {
   "cell_type": "code",
   "execution_count": null,
   "metadata": {},
   "outputs": [],
   "source": [
    "star_dict = reading_in_data('star_dict')\n",
    "quasar_dict = reading_in_data('quasar_dict')\n",
    "varqso_dict = reading_in_data('varqso_dict')"
   ]
  },
  {
   "cell_type": "code",
   "execution_count": null,
   "metadata": {},
   "outputs": [],
   "source": [
    "star_dict.keys()"
   ]
  },
  {
   "cell_type": "code",
   "execution_count": null,
   "metadata": {},
   "outputs": [],
   "source": [
    "quasar_dict.keys()"
   ]
  },
  {
   "cell_type": "code",
   "execution_count": null,
   "metadata": {},
   "outputs": [],
   "source": [
    "varqso_dict.keys()"
   ]
  },
  {
   "cell_type": "code",
   "execution_count": null,
   "metadata": {},
   "outputs": [],
   "source": [
    "plt.scatter(varqso_dict['RA'], varqso_dict['DEC'], alpha = 0.1)\n",
    "plt.xlabel(\"RA\")\n",
    "plt.ylabel('DEC')\n",
    "plt.title('Positions of Variability Quasars')"
   ]
  },
  {
   "cell_type": "code",
   "execution_count": null,
   "metadata": {},
   "outputs": [],
   "source": [
    "var_noise = np.asarray(varqso_dict['NOISE'])\n",
    "\n",
    "# a,b,c = plt.hist(var_noise, bins = 100)\n",
    "# plt.xlabel('S/N')\n",
    "# plt.ylabel('Frequency')\n",
    "# plt.title('Histogram of S/N for Variable Quasars')"
   ]
  },
  {
   "cell_type": "code",
   "execution_count": null,
   "metadata": {},
   "outputs": [],
   "source": [
    "var_noise = np.asarray(varqso_dict['WAVE'])\n",
    "\n",
    "# a,b,c = plt.hist(var_noise, bins = 100)\n",
    "# plt.xlabel('S/N')\n",
    "# plt.ylabel('Frequency')\n",
    "# plt.title('Histogram of Wavelength for Variable Quasars')"
   ]
  },
  {
   "cell_type": "markdown",
   "metadata": {},
   "source": [
    "Write up a short description of the different datasets:\n",
    "    - What they are\n",
    "    - where they come from\n",
    "    - what they have\n",
    "    \n",
    "Plot in RA,DEC & hist of S/N"
   ]
  },
  {
   "cell_type": "code",
   "execution_count": null,
   "metadata": {},
   "outputs": [],
   "source": [
    "plt.scatter(quasar_dict['RA'], quasar_dict['DEC'], alpha = 0.1)\n",
    "plt.xlabel(\"RA\")\n",
    "plt.ylabel('DEC')\n",
    "plt.title('Positions of Normal Quasars')"
   ]
  },
  {
   "cell_type": "code",
   "execution_count": null,
   "metadata": {},
   "outputs": [],
   "source": [
    "quasar_noise = np.asarray(quasar_dict['NOISE'])\n",
    "\n",
    "# a,b,c = plt.hist(quasar_noise, bins = 100)\n",
    "# plt.xlabel('S/N')\n",
    "# plt.ylabel('Frequency')\n",
    "# plt.title('Histogram of S/N for Normal Quasars')\n",
    "# plt.xlim(0,60)"
   ]
  },
  {
   "cell_type": "code",
   "execution_count": null,
   "metadata": {},
   "outputs": [],
   "source": [
    "plt.scatter(star_dict['RA'], star_dict['DEC'], alpha = 0.1)\n",
    "plt.xlabel(\"RA\")\n",
    "plt.ylabel('DEC')\n",
    "plt.title('Positions of Starrs')"
   ]
  },
  {
   "cell_type": "code",
   "execution_count": null,
   "metadata": {},
   "outputs": [],
   "source": [
    "star_noise = np.asarray(star_dict['NOISE'])\n",
    "\n",
    "# a,b,c = plt.hist(star_noise, bins = 100)\n",
    "# plt.xlabel('S/N')\n",
    "# plt.ylabel('Frequency')\n",
    "# plt.title('Histogram of S/N for Stars')\n",
    "# plt.xlim(0,60)"
   ]
  },
  {
   "cell_type": "code",
   "execution_count": null,
   "metadata": {},
   "outputs": [],
   "source": [
    "x = []\n",
    "for i in range(len(star_noise)):\n",
    "    if star_noise[i] < 5:\n",
    "        x.append(star_noise[i])\n",
    "    else:\n",
    "        pass"
   ]
  },
  {
   "cell_type": "code",
   "execution_count": null,
   "metadata": {
    "scrolled": true
   },
   "outputs": [],
   "source": [
    "plt.plot(np.log10(varqso_dict['WAVE'][0]), np.log10(varqso_dict['FLUX'][0]))"
   ]
  },
  {
   "cell_type": "code",
   "execution_count": null,
   "metadata": {},
   "outputs": [],
   "source": [
    "plt.plot( 10 ** (varqso_dict['WAVE'][0]), 10 **(varqso_dict['FLUX'][0]))"
   ]
  },
  {
   "cell_type": "code",
   "execution_count": null,
   "metadata": {},
   "outputs": [],
   "source": [
    "var_flux = []\n",
    "var_wave = []\n",
    "star_flux = []\n",
    "star_wave = []\n",
    "\n",
    "for i in range(len(star_dict['CLASS'])):\n",
    "        \n",
    "        if star_dict['NOISE'][i] <= 3.:\n",
    "            \n",
    "            star_flux.append(star_dict['FLUX'][i])\n",
    "            star_wave.append(star_dict['WAVE'][i])\n",
    "            \n",
    "for i in range(len(varqso_dict['CLASS'])):\n",
    "        \n",
    "        if varqso_dict['NOISE'][i] <= 3.:\n",
    "            \n",
    "            var_flux.append(varqso_dict['FLUX'][i])\n",
    "            var_wave.append(varqso_dict['WAVE'][i])"
   ]
  },
  {
   "cell_type": "code",
   "execution_count": null,
   "metadata": {},
   "outputs": [],
   "source": [
    "plt.plot(10 ** (var_wave[3]), var_flux[3]/np.max(var_flux[3]))\n",
    "plt.title('Low S/N Quasar Spectral Data')\n",
    "plt.ylabel('Normalized Flux')\n",
    "plt.xlabel('$\\lambda$ ($\\AA$)')"
   ]
  },
  {
   "cell_type": "code",
   "execution_count": null,
   "metadata": {},
   "outputs": [],
   "source": [
    "plt.plot(10**(star_wave[2]), star_flux[2]/np.max(star_flux[2]))\n",
    "plt.title('Low S/N Stellar Spectral Data')\n",
    "plt.ylabel('Normalized Flux')\n",
    "plt.xlabel('$\\lambda$ ($\\AA$)')"
   ]
  },
  {
   "cell_type": "code",
   "execution_count": null,
   "metadata": {},
   "outputs": [],
   "source": []
  }
 ],
 "metadata": {
  "kernelspec": {
   "display_name": "Python 3",
   "language": "python",
   "name": "python3"
  },
  "language_info": {
   "codemirror_mode": {
    "name": "ipython",
    "version": 3
   },
   "file_extension": ".py",
   "mimetype": "text/x-python",
   "name": "python",
   "nbconvert_exporter": "python",
   "pygments_lexer": "ipython3",
   "version": "3.7.1"
  }
 },
 "nbformat": 4,
 "nbformat_minor": 2
}
