{
 "cells": [
  {
   "cell_type": "code",
   "execution_count": 1,
   "metadata": {},
   "outputs": [
    {
     "name": "stderr",
     "output_type": "stream",
     "text": [
      "Using TensorFlow backend.\n",
      "/Users/matt/anaconda3/envs/ML/lib/python3.6/site-packages/tensorflow/python/framework/dtypes.py:526: FutureWarning: Passing (type, 1) or '1type' as a synonym of type is deprecated; in a future version of numpy, it will be understood as (type, (1,)) / '(1,)type'.\n",
      "  _np_qint8 = np.dtype([(\"qint8\", np.int8, 1)])\n",
      "/Users/matt/anaconda3/envs/ML/lib/python3.6/site-packages/tensorflow/python/framework/dtypes.py:527: FutureWarning: Passing (type, 1) or '1type' as a synonym of type is deprecated; in a future version of numpy, it will be understood as (type, (1,)) / '(1,)type'.\n",
      "  _np_quint8 = np.dtype([(\"quint8\", np.uint8, 1)])\n",
      "/Users/matt/anaconda3/envs/ML/lib/python3.6/site-packages/tensorflow/python/framework/dtypes.py:528: FutureWarning: Passing (type, 1) or '1type' as a synonym of type is deprecated; in a future version of numpy, it will be understood as (type, (1,)) / '(1,)type'.\n",
      "  _np_qint16 = np.dtype([(\"qint16\", np.int16, 1)])\n",
      "/Users/matt/anaconda3/envs/ML/lib/python3.6/site-packages/tensorflow/python/framework/dtypes.py:529: FutureWarning: Passing (type, 1) or '1type' as a synonym of type is deprecated; in a future version of numpy, it will be understood as (type, (1,)) / '(1,)type'.\n",
      "  _np_quint16 = np.dtype([(\"quint16\", np.uint16, 1)])\n",
      "/Users/matt/anaconda3/envs/ML/lib/python3.6/site-packages/tensorflow/python/framework/dtypes.py:530: FutureWarning: Passing (type, 1) or '1type' as a synonym of type is deprecated; in a future version of numpy, it will be understood as (type, (1,)) / '(1,)type'.\n",
      "  _np_qint32 = np.dtype([(\"qint32\", np.int32, 1)])\n",
      "/Users/matt/anaconda3/envs/ML/lib/python3.6/site-packages/tensorflow/python/framework/dtypes.py:535: FutureWarning: Passing (type, 1) or '1type' as a synonym of type is deprecated; in a future version of numpy, it will be understood as (type, (1,)) / '(1,)type'.\n",
      "  np_resource = np.dtype([(\"resource\", np.ubyte, 1)])\n"
     ]
    }
   ],
   "source": [
    "from __future__ import absolute_import, division, print_function, unicode_literals\n",
    "import keras\n",
    "from keras import regularizers\n",
    "import numpy as np\n",
    "import matplotlib.pyplot as plt\n",
    "from astropy.io import fits\n",
    "from astropy.table import Table\n",
    "import numpy as np\n",
    "import seaborn as sns\n",
    "import os\n",
    "import re\n",
    "import time\n",
    "import pickle\n",
    "import pdb\n",
    "import pandas as pd\n",
    "import sys\n",
    "\n",
    "\n",
    "sns.set()"
   ]
  },
  {
   "cell_type": "code",
   "execution_count": 2,
   "metadata": {},
   "outputs": [],
   "source": [
    "def reading_in_data(filename):\n",
    "\n",
    "    filename = str(filename)\n",
    "\n",
    "    infile = open(filename,'rb')\n",
    "    new_dict = pickle.load(infile)\n",
    "    infile.close()\n",
    "    \n",
    "    return new_dict\n",
    "\n",
    "def low_sifting_data_dicts(input_dict, min_cut, max_cut):\n",
    "    \n",
    "    input_dict_low = input_dict['LOW']\n",
    "    \n",
    "    # initial flux, label, wavelength, redshift, and noise for the stars and quasars\n",
    "    init_flux = input_dict_low['FLUX']\n",
    "    init_labels = input_dict_low['CLASS']\n",
    "    init_wave = input_dict_low['WAVE']\n",
    "    init_redshift = input_dict_low['REDSHIFT']\n",
    "    init_noise = input_dict_low['NOISE']\n",
    "    \n",
    "    \n",
    "    # empty lists to store the flux,labels, wavelength, redshift, and noise for the quasars & stars\n",
    "    quasar_labels = []\n",
    "    quasar_flux = []\n",
    "    quasar_wave = []\n",
    "    quasar_redshift = []\n",
    "    quasar_noise = []\n",
    "    \n",
    "    star_labels = []\n",
    "    star_flux = []\n",
    "    star_wave = []\n",
    "    star_redshift = []\n",
    "    star_noise = []\n",
    "\n",
    "    # check if the classifier actually came back as QSO and if so append to empty list\n",
    "    for i in range(len(init_labels)):\n",
    "        if (init_labels[i] == 'QSO')  & (min(init_wave[i]) <= min_cut) & \\\n",
    "        (max(init_wave[i]) >= max_cut) & (init_noise[i] <= 2.):\n",
    "            \n",
    "            quasar_labels.append(init_labels[i])\n",
    "            quasar_flux.append(init_flux[i])\n",
    "            quasar_wave.append(init_wave[i])\n",
    "            quasar_redshift.append(init_redshift[i])\n",
    "            quasar_noise.append(init_noise[i])\n",
    "            \n",
    "        else:\n",
    "            pass\n",
    "        \n",
    "    \n",
    "    # check if the classifier actually came back as star and if so append to empty list\n",
    "    for i in range(len(init_labels)):\n",
    "        if (init_labels[i] == 'STAR') & (min(init_wave[i]) <= min_cut) & \\\n",
    "        (max(init_wave[i]) >= max_cut) & (init_noise[i] <= 2.):\n",
    "            \n",
    "            star_labels.append(init_labels[i])\n",
    "            star_flux.append(init_flux[i])\n",
    "            star_wave.append(init_wave[i])\n",
    "            star_redshift.append(init_redshift[i])\n",
    "            star_noise.append(init_noise[i])\n",
    "        else:\n",
    "            pass\n",
    "        \n",
    "    data_dict = {'STAR_FLUX':star_flux, 'STAR_LABELS': star_labels, 'STAR_WAVE':star_wave, 'STAR_NOISE': star_noise,\\\n",
    "                 'STAR_REDSHIFT':star_redshift, 'QUASAR_FLUX':quasar_flux, 'QUASAR_LABELS':quasar_labels, \\\n",
    "                 'QUASAR_WAVE': quasar_wave, 'QUASAR_NOISE': quasar_noise, 'QUASAR_REDSHIFT': quasar_redshift}\n",
    "    \n",
    "    return data_dict\n",
    "\n",
    "def high_sifting_data_dicts(input_dict, min_cut, max_cut):\n",
    "    \n",
    "    input_dict_high = input_dict['HIGH']\n",
    "    \n",
    "    # initial flux, label, wavelength, redshift, and noise for the stars and quasars\n",
    "    init_flux = input_dict_high['FLUX']\n",
    "    init_labels = input_dict_high['CLASS']\n",
    "    init_wave = input_dict_high['WAVE']\n",
    "    init_redshift = input_dict_high['REDSHIFT']\n",
    "    init_noise = input_dict_high['NOISE']\n",
    "    \n",
    "    \n",
    "    # empty lists to store the flux,labels, wavelength, redshift, and noise for the quasars & stars\n",
    "    quasar_labels = []\n",
    "    quasar_flux = []\n",
    "    quasar_wave = []\n",
    "    quasar_redshift = []\n",
    "    quasar_noise = []\n",
    "    \n",
    "    star_labels = []\n",
    "    star_flux = []\n",
    "    star_wave = []\n",
    "    star_redshift = []\n",
    "    star_noise = []\n",
    "\n",
    "    # check if the classifier actually came back as QSO and if so append to empty list\n",
    "    for i in range(len(init_labels)):\n",
    "        if (init_labels[i] == 'QSO')  & (min(init_wave[i]) <= min_cut) & \\\n",
    "        (max(init_wave[i]) >= max_cut) & (init_noise[i] >= 12.):\n",
    "            \n",
    "            quasar_labels.append(init_labels[i])\n",
    "            quasar_flux.append(init_flux[i])\n",
    "            quasar_wave.append(init_wave[i])\n",
    "            quasar_redshift.append(init_redshift[i])\n",
    "            quasar_noise.append(init_noise[i])\n",
    "            \n",
    "        else:\n",
    "            pass\n",
    "        \n",
    "    \n",
    "    # check if the classifier actually came back as star and if so append to empty list\n",
    "    for i in range(len(init_labels)):\n",
    "        if (init_labels[i] == 'STAR') & (min(init_wave[i]) <= min_cut) & \\\n",
    "        (max(init_wave[i]) >= max_cut) & (init_noise[i] >= 12.):\n",
    "            \n",
    "            star_labels.append(init_labels[i])\n",
    "            star_flux.append(init_flux[i])\n",
    "            star_wave.append(init_wave[i])\n",
    "            star_redshift.append(init_redshift[i])\n",
    "            star_noise.append(init_noise[i])\n",
    "        else:\n",
    "            pass\n",
    "        \n",
    "    data_dict = {'STAR_FLUX':star_flux, 'STAR_LABELS': star_labels, 'STAR_WAVE':star_wave, 'STAR_NOISE': star_noise,\\\n",
    "                 'STAR_REDSHIFT':star_redshift, 'QUASAR_FLUX':quasar_flux, 'QUASAR_LABELS':quasar_labels, \\\n",
    "                 'QUASAR_WAVE': quasar_wave, 'QUASAR_NOISE': quasar_noise, 'QUASAR_REDSHIFT': quasar_redshift}\n",
    "    \n",
    "    return data_dict    \n",
    "    \n",
    "    \n",
    "def balancing_data(data_dict):\n",
    "    \n",
    "    q_flux = data_dict['QUASAR_FLUX']\n",
    "    q_wave = data_dict['QUASAR_WAVE']\n",
    "    q_labels = data_dict['QUASAR_LABELS']\n",
    "    q_noise = data_dict['QUASAR_NOISE']\n",
    "    q_redshift = data_dict['QUASAR_REDSHIFT']\n",
    "    \n",
    "    s_flux = data_dict['STAR_FLUX']\n",
    "    s_wave = data_dict['STAR_WAVE']\n",
    "    s_labels = data_dict['STAR_LABELS']\n",
    "    s_noise = data_dict['STAR_NOISE']\n",
    "    s_redshift = data_dict['STAR_REDSHIFT']\n",
    "    \n",
    "    if (len(s_labels)) > (len(q_labels)):\n",
    "        \n",
    "        cut_s_flux = s_flux[:len(q_labels)]\n",
    "        cut_s_wave = s_wave[:len(q_labels)]\n",
    "        cut_s_labels = s_labels[:len(q_labels)]\n",
    "        cut_s_noise = s_noise[:len(q_labels)]\n",
    "        cut_s_redshift = s_redshift[:len(q_labels)]\n",
    "        \n",
    "        cut_q_flux = q_flux\n",
    "        cut_q_wave = q_wave\n",
    "        cut_q_labels = q_labels\n",
    "        cut_q_noise = q_noise\n",
    "        cut_q_redshift = q_redshift\n",
    "        \n",
    "    elif (len(s_labels)) < (len(q_labels)):\n",
    "        \n",
    "        cut_q_flux = q_flux[:len(s_labels)]\n",
    "        cut_q_wave = q_wave[:len(s_labels)]\n",
    "        cut_q_labels = q_labels[:len(s_labels)]\n",
    "        cut_q_noise = q_noise[:len(s_labels)]\n",
    "        cut_q_redshift = q_redshift[:len(s_labels)]\n",
    "        \n",
    "        cut_s_flux = s_flux\n",
    "        cut_s_wave = s_wave\n",
    "        cut_s_labels = s_labels\n",
    "        cut_s_noise = s_noise\n",
    "        cut_s_redshift = s_redshift\n",
    "        \n",
    "    cut_data_dict = {'STAR_FLUX': cut_s_flux, 'STAR_LABELS': cut_s_labels, 'STAR_WAVE':cut_s_wave,\\\n",
    "                     'STAR_NOISE': cut_s_noise,'STAR_REDSHIFT':cut_s_redshift, 'QUASAR_FLUX':cut_q_flux,\\\n",
    "                     'QUASAR_LABELS':cut_q_labels, 'QUASAR_WAVE':cut_q_wave, 'QUASAR_NOISE': cut_q_noise,\\\n",
    "                     'QUASAR_REDSHIFT': cut_q_redshift}\n",
    "    \n",
    "    return cut_data_dict\n",
    "        \n",
    "        \n",
    "def randomizing_data(data_dict, cut_len):\n",
    "    \n",
    "    quasar_flux = data_dict['QUASAR_FLUX'][:cut_len]\n",
    "    quasar_labels = data_dict['QUASAR_LABELS'][:cut_len]\n",
    "    quasar_wave = data_dict['QUASAR_WAVE'][:cut_len]\n",
    "    quasar_noise = data_dict['QUASAR_NOISE'][:cut_len]\n",
    "    quasar_redshift = data_dict['QUASAR_REDSHIFT'][:cut_len]\n",
    "    \n",
    "    star_flux = data_dict['STAR_FLUX'][:cut_len]\n",
    "    star_labels = data_dict['STAR_LABELS'][:cut_len] \n",
    "    star_wave = data_dict['STAR_WAVE'][:cut_len]\n",
    "    star_noise = data_dict['STAR_NOISE'][:cut_len]\n",
    "    star_redshift = data_dict['STAR_REDSHIFT'][:cut_len]\n",
    "\n",
    "    star_labels = np.ones(len(star_labels))   # STARS = 1\n",
    "    quasar_labels = np.zeros(len(quasar_labels)) # QUASARS = 0\n",
    "    \n",
    "    input_flux = star_flux + quasar_flux\n",
    "    input_flux = np.asarray(input_flux)\n",
    "    \n",
    "    input_labels = np.concatenate((star_labels,quasar_labels), axis = 0)\n",
    "    \n",
    "    input_wave = star_wave + quasar_wave\n",
    "    input_wave = np.asarray(input_wave)\n",
    "    \n",
    "    input_noise = star_noise + quasar_noise\n",
    "    input_noise = np.asarray(input_noise)\n",
    "    \n",
    "    input_redshift = star_redshift+ quasar_redshift\n",
    "    input_redshift = np.asarray(input_redshift)\n",
    "    \n",
    "    permutation = np.random.permutation(len(input_flux)) # creates the same permutation to be done on flux & labels\n",
    "    \n",
    "    # needs to be array to permute for classification\n",
    "    randomized_flux = input_flux[permutation] \n",
    "    randomized_labels = input_labels[permutation]\n",
    "    randomized_wave = input_wave[permutation]\n",
    "    randomized_noise = input_noise[permutation]\n",
    "    randomized_redshift = input_redshift[permutation]\n",
    "\n",
    "    randomized_flux = randomized_flux.tolist() # needs to be a list to be used in creating tensor function\n",
    "    \n",
    "    randomized_data = {'FLUX': randomized_flux, 'LABELS': randomized_labels, 'WAVE': randomized_wave,\\\n",
    "                      'NOISE': randomized_noise, 'REDSHIFT': randomized_redshift, 'PERMUTATION': permutation}\n",
    "    \n",
    "    return randomized_data\n",
    "\n",
    "\n",
    "def normalizing_data(data_dict):\n",
    "    \n",
    "    flux = data_dict['FLUX']\n",
    "    labels = data_dict['LABELS']\n",
    "    wave = data_dict['WAVE']\n",
    "    redshift = data_dict['REDSHIFT']\n",
    "    noise = data_dict['NOISE']\n",
    "    \n",
    "    max_flux = []\n",
    "    normalized_flux = []\n",
    "\n",
    "    for i in range(len(flux)):\n",
    "    \n",
    "        max_flux.append(max(flux[i]))\n",
    "        \n",
    "        edited_flux = flux[i]/max_flux[i]\n",
    "    \n",
    "        normalized_flux.append(edited_flux)\n",
    "        \n",
    "    data = {'FLUX': normalized_flux, 'LABELS': labels, 'WAVE': wave, 'REDSHIFT': redshift, 'NOISE': noise}\n",
    "    \n",
    "    return data\n",
    "\n",
    "def creating_image_dims(data_dict):\n",
    "    \n",
    "    flux = data_dict['FLUX']\n",
    "    wave = data_dict['WAVE']\n",
    "    labels = data_dict['LABELS']\n",
    "    redshift = data_dict['REDSHIFT']\n",
    "    noise = data_dict['NOISE']\n",
    "    cut_spec = []\n",
    "    cut_wave = []\n",
    "    \n",
    "    for i in range(len(flux)): # 3.5817\n",
    "        spec = flux[i]\n",
    "        wavelength = wave[i]\n",
    "        keepidx, = np.where((wave[i] > 3.5818) & (wave[i] < 3.95))\n",
    "        cut_spec.append(spec[keepidx])\n",
    "        cut_wave.append(wavelength[keepidx])\n",
    "    \n",
    "    data = {'FLUX': cut_spec, 'LABELS': labels, 'WAVE': cut_wave, 'REDSHIFT': redshift, 'NOISE': noise} #'FLUX': speclen_same\n",
    "    \n",
    "    return data\n",
    "\n",
    "\n",
    "\n",
    "def creating_input_tensor(samples, height , width , channels , data_dict):\n",
    "    \n",
    "    # creates input tensor of correct dimensions\n",
    "    input_tensor = np.ones((samples, height, width, channels))\n",
    "    \n",
    "    # brings in preprocessed data to input into the dimensions of the tensor\n",
    "    processed_data = creating_image_dims(data_dict)\n",
    "    \n",
    "    # creating the list of the same length fluxs\n",
    "    fluxlen_same = processed_data['FLUX']\n",
    "    \n",
    "    # putting the length of the fluxs lists into the first axis of the tensor, while filling the 3rd axis\n",
    "    # with that specific samples flux array\n",
    "    for i in range(samples):\n",
    "        spec = fluxlen_same[i]\n",
    "        input_tensor[i,0,:,0] = spec[:]\n",
    "        \n",
    "        \n",
    "    data = {'IMAGES': input_tensor, 'LABELS': processed_data['LABELS'], 'NOISE': processed_data['NOISE'],\\\n",
    "           'FLUX': data_dict['FLUX'], 'WAVE': data_dict['WAVE'], 'REDSHIFT': data_dict['REDSHIFT']}\n",
    "        \n",
    "    return data\n",
    "\n",
    "\n",
    "def save_as_pickled_object(obj, filepath):\n",
    "    \"\"\"\n",
    "    This is a defensive way to write pickle.write, allowing for very large files on all platforms\n",
    "    \"\"\"\n",
    "    max_bytes = 2**31 - 1\n",
    "    bytes_out = pickle.dumps(obj)\n",
    "    n_bytes = sys.getsizeof(bytes_out)\n",
    "    with open(filepath, 'wb') as f_out:\n",
    "        for idx in range(0, n_bytes, max_bytes):\n",
    "            f_out.write(bytes_out[idx:idx+max_bytes])"
   ]
  },
  {
   "cell_type": "code",
   "execution_count": 3,
   "metadata": {},
   "outputs": [],
   "source": [
    "var_star_dict = pd.read_pickle(\"/Users/matt/Desktop/DESI_Research/DESI_ML/var_CNN/Dictionaries/joined_obj_dicts/varstar_dict\")\n",
    "\n",
    "high_quasar_star_dict = pd.read_pickle(\"/Users/matt/Desktop/DESI_Research/DESI_ML/var_CNN/Dictionaries/joined_obj_dicts/high_SN_quasarstar_dict\")\n"
   ]
  },
  {
   "cell_type": "code",
   "execution_count": 4,
   "metadata": {},
   "outputs": [
    {
     "data": {
      "text/plain": [
       "dict_keys(['HIGH', 'LOW'])"
      ]
     },
     "execution_count": 4,
     "metadata": {},
     "output_type": "execute_result"
    }
   ],
   "source": [
    "high_quasar_star_dict.keys()"
   ]
  },
  {
   "cell_type": "code",
   "execution_count": 5,
   "metadata": {},
   "outputs": [
    {
     "data": {
      "text/plain": [
       "4918"
      ]
     },
     "execution_count": 5,
     "metadata": {},
     "output_type": "execute_result"
    }
   ],
   "source": [
    "len(high_quasar_star_dict['HIGH']['CLASS'])"
   ]
  },
  {
   "cell_type": "code",
   "execution_count": 6,
   "metadata": {},
   "outputs": [],
   "source": [
    "#print(len(quasar_dict['NOISE']))"
   ]
  },
  {
   "cell_type": "code",
   "execution_count": 7,
   "metadata": {},
   "outputs": [],
   "source": [
    "# noise = []\n",
    "\n",
    "# for i in range(len(quasar_dict['NOISE'])):\n",
    "    \n",
    "#     if quasar_dict['NOISE'][i] >= 10.5:\n",
    "#         noise.append(quasar_dict['NOISE'][i])\n",
    "        \n",
    "#     else:\n",
    "#         pass\n",
    "    \n",
    "# print(len(noise))"
   ]
  },
  {
   "cell_type": "code",
   "execution_count": 8,
   "metadata": {},
   "outputs": [],
   "source": [
    "#a,b,c = plt.hist(quasar_dict['NOISE'][:15000], bins = 50)"
   ]
  },
  {
   "cell_type": "code",
   "execution_count": 9,
   "metadata": {},
   "outputs": [],
   "source": [
    "# high_sifted_quasar_star_dict = high_sifting_data_dicts(quasar_star_dict,\\\n",
    "#                                              3.5818, 3.95) \n",
    "\n",
    "high_sifted_quasar_star_dict = high_sifting_data_dicts(high_quasar_star_dict,\\\n",
    "                                                      3.5818, 3.95)\n",
    "\n",
    "#low_sifted_quasar_star_dict = low_sifting_data_dicts(quasar_star_dict,\\\n",
    "                                             #3.5818, 3.95)\n",
    "\n",
    "low_sifted_var_star_dict = low_sifting_data_dicts(var_star_dict, 3.5818, 3.95)\n",
    "\n",
    "high_sifted_var_star_dict = high_sifting_data_dicts(var_star_dict, 3.5818, 3.95)\n"
   ]
  },
  {
   "cell_type": "code",
   "execution_count": 10,
   "metadata": {},
   "outputs": [
    {
     "name": "stdout",
     "output_type": "stream",
     "text": [
      "2457\n",
      "2458\n",
      "2455\n",
      "2456\n"
     ]
    }
   ],
   "source": [
    "print(len(high_sifted_quasar_star_dict['STAR_LABELS']))\n",
    "print(len(high_sifted_quasar_star_dict['QUASAR_LABELS']))\n",
    "\n",
    "print(len(low_sifted_var_star_dict['STAR_LABELS']))\n",
    "print(len(low_sifted_var_star_dict['QUASAR_LABELS']))"
   ]
  },
  {
   "cell_type": "code",
   "execution_count": 11,
   "metadata": {},
   "outputs": [],
   "source": [
    "high_bal_sifted_qstar_dict = balancing_data(high_sifted_quasar_star_dict)\n",
    "\n",
    "#low_bal_sifted_qstar_dict = balancing_data(low_sifted_quasar_star_dict)\n",
    "\n",
    "low_bal_sifted_varstar_dict = balancing_data(low_sifted_var_star_dict)\n",
    "\n",
    "#high_bal_sifted_varstar_dict = balancing_data(high_sfited_var_star_dict)"
   ]
  },
  {
   "cell_type": "code",
   "execution_count": 12,
   "metadata": {},
   "outputs": [
    {
     "data": {
      "text/plain": [
       "2457"
      ]
     },
     "execution_count": 12,
     "metadata": {},
     "output_type": "execute_result"
    }
   ],
   "source": [
    "len(high_bal_sifted_qstar_dict['QUASAR_NOISE'])"
   ]
  },
  {
   "cell_type": "code",
   "execution_count": 13,
   "metadata": {},
   "outputs": [],
   "source": [
    "#print(len(high_bal_sfited_qstar_dict['LABELS']))"
   ]
  },
  {
   "cell_type": "code",
   "execution_count": 14,
   "metadata": {},
   "outputs": [],
   "source": [
    "# q_labels = low_bal_sifted_varstar_dict['QUASAR_LABELS']\n",
    "# s_labels = low_bal_sifted_varstar_dict['STAR_LABELS']\n",
    "\n",
    "# q_noise = low_bal_sifted_varstar_dict['QUASAR_NOISE']\n",
    "# s_noise = low_bal_sifted_varstar_dict['STAR_NOISE']"
   ]
  },
  {
   "cell_type": "code",
   "execution_count": 15,
   "metadata": {},
   "outputs": [],
   "source": [
    "# high_bal_sifted_qstar_dict['QUASAR_LABELS']"
   ]
  },
  {
   "cell_type": "code",
   "execution_count": 16,
   "metadata": {},
   "outputs": [],
   "source": [
    "# print(len(q_labels))\n",
    "# print(len(s_labels))"
   ]
  },
  {
   "cell_type": "code",
   "execution_count": 17,
   "metadata": {},
   "outputs": [],
   "source": [
    "#type(high_bal_sifted_qstar_dict)"
   ]
  },
  {
   "cell_type": "code",
   "execution_count": 18,
   "metadata": {},
   "outputs": [
    {
     "name": "stdout",
     "output_type": "stream",
     "text": [
      "2455\n",
      "2456\n"
     ]
    }
   ],
   "source": [
    "\n",
    "#low_bal_sifted_qstar_dict = balancing_data(low_sifted_quasar_star_dict)\n",
    "\n",
    "print(len(low_sifted_var_star_dict['STAR_FLUX'][:5903]))\n",
    "print(len(low_sifted_var_star_dict['QUASAR_FLUX'][:5903]))"
   ]
  },
  {
   "cell_type": "code",
   "execution_count": null,
   "metadata": {},
   "outputs": [],
   "source": []
  },
  {
   "cell_type": "code",
   "execution_count": 19,
   "metadata": {},
   "outputs": [],
   "source": [
    "#low_randomized_quasar_star = randomizing_data(low_bal_sifted_qstar_dict, 5903)\n",
    "\n",
    "#high_randomized_quasar_star = randomizing_data(high_sifted_quasar_star_dict, 5903)\n",
    "high_randomized_quasar_star = randomizing_data(high_sifted_quasar_star_dict, 2455)\n",
    "\n",
    "low_randomized_var_star = randomizing_data(low_sifted_var_star_dict, 2455)\n"
   ]
  },
  {
   "cell_type": "code",
   "execution_count": 20,
   "metadata": {},
   "outputs": [],
   "source": [
    "var_star_permutation = low_randomized_var_star['PERMUTATION']\n",
    "save_as_pickled_object(var_star_permutation, \"/Users/matt/Desktop/DESI_Research/DESI_ML/var_CNN/Dictionaries/permutation/var_star_permutation\" )\n"
   ]
  },
  {
   "cell_type": "code",
   "execution_count": 21,
   "metadata": {},
   "outputs": [],
   "source": [
    "##### len(randomized_data['WAVE'][0])"
   ]
  },
  {
   "cell_type": "code",
   "execution_count": 22,
   "metadata": {},
   "outputs": [],
   "source": [
    "#randomized_var_star['LABELS'].count(0.)\n",
    "\n",
    "# unique, counts = np.unique(randomized_quasar_star['LABELS'], return_counts=True)\n",
    "# dict(zip(unique, counts))"
   ]
  },
  {
   "cell_type": "code",
   "execution_count": 23,
   "metadata": {},
   "outputs": [],
   "source": [
    "#low_normalized_quasar_star = normalizing_data(low_randomized_quasar_star)\n",
    "\n",
    "high_normalized_quasar_star = normalizing_data(high_randomized_quasar_star)\n",
    "\n",
    "low_normalized_var_star = normalizing_data(low_randomized_var_star)"
   ]
  },
  {
   "cell_type": "code",
   "execution_count": 24,
   "metadata": {},
   "outputs": [
    {
     "name": "stdout",
     "output_type": "stream",
     "text": [
      "4910\n",
      "4910\n"
     ]
    }
   ],
   "source": [
    "print(len(high_normalized_quasar_star['LABELS']))\n",
    "#print(len(low_normalized_quasar_star['LABELS']))\n",
    "print(len(low_normalized_var_star['LABELS']))\n",
    "\n"
   ]
  },
  {
   "cell_type": "code",
   "execution_count": 25,
   "metadata": {},
   "outputs": [
    {
     "name": "stdout",
     "output_type": "stream",
     "text": [
      "4600\n",
      "4600\n",
      "0.0\n"
     ]
    }
   ],
   "source": [
    "#plt.plot(high_normalized_quasar_star['WAVE'][1], high_normalized_quasar_star['FLUX'][1] )\n",
    "\n",
    "print(len(high_normalized_quasar_star['WAVE'][1]))\n",
    "print(len(high_normalized_quasar_star['FLUX'][1]))\n",
    "print(high_normalized_quasar_star['LABELS'][1])"
   ]
  },
  {
   "cell_type": "code",
   "execution_count": 26,
   "metadata": {},
   "outputs": [
    {
     "data": {
      "image/png": "[encoded data removed]",
      "text/plain": [
       "<Figure size 432x288 with 1 Axes>"
      ]
     },
     "metadata": {
      "needs_background": "light"
     },
     "output_type": "display_data"
    }
   ],
   "source": [
    "a,b,c = plt.hist(low_normalized_var_star['LABELS'], bins = 50)"
   ]
  },
  {
   "cell_type": "code",
   "execution_count": 27,
   "metadata": {},
   "outputs": [],
   "source": [
    "#a,b,c = plt.hist(low_normalized_quasar_star['LABELS'], bins = 50)"
   ]
  },
  {
   "cell_type": "code",
   "execution_count": 28,
   "metadata": {},
   "outputs": [
    {
     "data": {
      "image/png": "[encoded data removed]",
      "text/plain": [
       "<Figure size 432x288 with 1 Axes>"
      ]
     },
     "metadata": {
      "needs_background": "light"
     },
     "output_type": "display_data"
    }
   ],
   "source": [
    "a,b,c = plt.hist(high_normalized_quasar_star['LABELS'], bins = 50)"
   ]
  },
  {
   "cell_type": "code",
   "execution_count": 29,
   "metadata": {},
   "outputs": [],
   "source": [
    "#low_quasar_star_image_data = creating_image_dims(low_normalized_quasar_star)\n",
    "\n",
    "high_quasar_star_image_data = creating_image_dims(high_normalized_quasar_star)\n",
    "\n",
    "\n",
    "low_var_star_image_data = creating_image_dims(low_normalized_var_star)"
   ]
  },
  {
   "cell_type": "code",
   "execution_count": 30,
   "metadata": {},
   "outputs": [
    {
     "data": {
      "text/plain": [
       "dict_keys(['FLUX', 'LABELS', 'WAVE', 'REDSHIFT', 'NOISE'])"
      ]
     },
     "execution_count": 30,
     "metadata": {},
     "output_type": "execute_result"
    }
   ],
   "source": [
    "low_var_star_image_data.keys()"
   ]
  },
  {
   "cell_type": "code",
   "execution_count": 31,
   "metadata": {},
   "outputs": [
    {
     "data": {
      "text/plain": [
       "[<matplotlib.lines.Line2D at 0x12c0dc4a8>]"
      ]
     },
     "execution_count": 31,
     "metadata": {},
     "output_type": "execute_result"
    },
    {
     "data": {
      "image/png": "[encoded data removed]",
      "text/plain": [
       "<Figure size 432x288 with 1 Axes>"
      ]
     },
     "metadata": {
      "needs_background": "light"
     },
     "output_type": "display_data"
    }
   ],
   "source": [
    "plt.plot(low_var_star_image_data['WAVE'][0], low_var_star_image_data['FLUX'][0])"
   ]
  },
  {
   "cell_type": "code",
   "execution_count": 32,
   "metadata": {},
   "outputs": [],
   "source": [
    "# wave = var_star_image_data['WAVE']\n",
    "# flux = var_star_image_data['FLUX']\n",
    "# label = var_star_image_data['LABELS']\n",
    "# z = var_star_image_data['REDSHIFT']\n",
    "\n",
    "# # 1 is star, 0 is quasar\n",
    "\n",
    "# #plt.plot(wave[17], flux[17], label = \"It is a \"+str(label[17])+\" with a redshift of \"+str(z[17]))\n",
    "# plt.plot(10**wave[7000], flux[7000], label = \"It is a \"+str(label[7000])+\" with a redshift of \"+str(z[7000]))  \n",
    "# plt.legend()"
   ]
  },
  {
   "cell_type": "code",
   "execution_count": 33,
   "metadata": {},
   "outputs": [],
   "source": [
    "#low_quasar_star_input_data = creating_input_tensor(11806, 1, 3681 , 1,\\\n",
    "                                   #low_randomized_quasar_star)\n",
    "\n",
    "high_quasar_star_input_data = creating_input_tensor(4910, 1, 3681 , 1,\\\n",
    "                                   high_quasar_star_image_data)\n",
    "\n",
    "\n",
    "low_var_star_input_data = creating_input_tensor(4910, 1, 3681 , 1,\\\n",
    "                                   low_var_star_image_data)"
   ]
  },
  {
   "cell_type": "code",
   "execution_count": 34,
   "metadata": {},
   "outputs": [
    {
     "data": {
      "image/png": "[encoded data removed]",
      "text/plain": [
       "<Figure size 432x288 with 1 Axes>"
      ]
     },
     "metadata": {
      "needs_background": "light"
     },
     "output_type": "display_data"
    }
   ],
   "source": [
    "a,b,c = plt.hist(np.asarray(low_var_star_input_data['LABELS']), bins = 50)"
   ]
  },
  {
   "cell_type": "code",
   "execution_count": 35,
   "metadata": {},
   "outputs": [
    {
     "data": {
      "text/plain": [
       "[<matplotlib.lines.Line2D at 0x12b988f28>]"
      ]
     },
     "execution_count": 35,
     "metadata": {},
     "output_type": "execute_result"
    },
    {
     "data": {
      "image/png": "[encoded data removed]",
      "text/plain": [
       "<Figure size 432x288 with 1 Axes>"
      ]
     },
     "metadata": {
      "needs_background": "light"
     },
     "output_type": "display_data"
    }
   ],
   "source": [
    "plt.plot(low_var_star_input_data['WAVE'][0], low_var_star_input_data['FLUX'][0], label = low_var_star_input_data['LABELS'][0])"
   ]
  },
  {
   "cell_type": "code",
   "execution_count": 36,
   "metadata": {},
   "outputs": [
    {
     "data": {
      "image/png": "[encoded data removed]",
      "text/plain": [
       "<Figure size 432x288 with 1 Axes>"
      ]
     },
     "metadata": {
      "needs_background": "light"
     },
     "output_type": "display_data"
    }
   ],
   "source": [
    "a,b,c = plt.hist(np.asarray(high_quasar_star_input_data['LABELS']), bins = 50)"
   ]
  },
  {
   "cell_type": "code",
   "execution_count": 37,
   "metadata": {},
   "outputs": [
    {
     "data": {
      "text/plain": [
       "(4910, 1, 3681, 1)"
      ]
     },
     "execution_count": 37,
     "metadata": {},
     "output_type": "execute_result"
    }
   ],
   "source": [
    "np.shape(high_quasar_star_input_data['IMAGES'])\n"
   ]
  },
  {
   "cell_type": "code",
   "execution_count": 38,
   "metadata": {},
   "outputs": [
    {
     "data": {
      "text/plain": [
       "(4910, 1, 3681, 1)"
      ]
     },
     "execution_count": 38,
     "metadata": {},
     "output_type": "execute_result"
    }
   ],
   "source": [
    "np.shape(low_var_star_input_data['IMAGES'])\n"
   ]
  },
  {
   "cell_type": "code",
   "execution_count": 39,
   "metadata": {},
   "outputs": [],
   "source": [
    "save_as_pickled_object(low_var_star_input_data, \"/Users/matt/Desktop/DESI_Research/DESI_ML/var_CNN/Dictionaries/corrected_preprocessed_joined_obj_dict/var_star_preprocessed_data_low\" )\n",
    "\n",
    "save_as_pickled_object(high_quasar_star_input_data, \"/Users/matt/Desktop/DESI_Research/DESI_ML/var_CNN/Dictionaries/corrected_preprocessed_joined_obj_dict/quasar_star_preprocessed_data_high\")\n",
    "\n",
    "# save_data_to_disk('quasar_star_preprocessed_data_low', low_quasar_star_input_data)\n"
   ]
  },
  {
   "cell_type": "code",
   "execution_count": 40,
   "metadata": {},
   "outputs": [
    {
     "name": "stdout",
     "output_type": "stream",
     "text": [
      "1.0\n"
     ]
    },
    {
     "data": {
      "image/png": "[encoded data removed]",
      "text/plain": [
       "<Figure size 432x288 with 1 Axes>"
      ]
     },
     "metadata": {
      "needs_background": "light"
     },
     "output_type": "display_data"
    }
   ],
   "source": [
    "plt.plot(low_var_star_input_data['WAVE'][4174], low_var_star_input_data['FLUX'][4174])\n",
    "print(low_var_star_input_data['LABELS'][4174])"
   ]
  },
  {
   "cell_type": "code",
   "execution_count": null,
   "metadata": {},
   "outputs": [],
   "source": []
  },
  {
   "cell_type": "code",
   "execution_count": null,
   "metadata": {},
   "outputs": [],
   "source": []
  },
  {
   "cell_type": "code",
   "execution_count": null,
   "metadata": {},
   "outputs": [],
   "source": []
  }
 ],
 "metadata": {
  "kernelspec": {
   "display_name": "Python 3",
   "language": "python",
   "name": "python3"
  },
  "language_info": {
   "codemirror_mode": {
    "name": "ipython",
    "version": 3
   },
   "file_extension": ".py",
   "mimetype": "text/x-python",
   "name": "python",
   "nbconvert_exporter": "python",
   "pygments_lexer": "ipython3",
   "version": "3.6.7"
  }
 },
 "nbformat": 4,
 "nbformat_minor": 2
}
