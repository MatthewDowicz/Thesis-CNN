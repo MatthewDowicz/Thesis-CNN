{
 "cells": [
  {
   "cell_type": "code",
   "execution_count": 1,
   "metadata": {},
   "outputs": [],
   "source": [
    "import numpy as np\n",
    "import matplotlib.pyplot as plt\n",
    "from astropy.io import fits\n",
    "from astropy.table import Table\n",
    "import numpy as np\n",
    "import seaborn as sns\n",
    "import os\n",
    "import shutil\n",
    "import pickle\n",
    "import re\n",
    "import time\n",
    "import sys\n",
    "import pdb\n",
    "import pandas as pd\n",
    "from scipy.stats import poisson\n",
    "from scipy.stats import norm\n",
    "\n",
    "sns.set()"
   ]
  },
  {
   "cell_type": "code",
   "execution_count": 2,
   "metadata": {},
   "outputs": [],
   "source": [
    "def perfect_SN(data_dict):\n",
    "    \n",
    "    high_noise = []\n",
    "    high_flux = []\n",
    "    high_wave = []\n",
    "    high_ivar = []\n",
    "    high_redshift = []\n",
    "    high_class = []\n",
    "    \n",
    "    \n",
    "    for i in range(len(data_dict['CLASS'])):\n",
    "        \n",
    "        if data_dict['NOISE'][i] >= 20.:\n",
    "            \n",
    "            high_noise.append(data_dict['NOISE'][i])\n",
    "            high_flux.append(data_dict['FLUX'][i])\n",
    "            high_wave.append(data_dict['WAVE'][i])\n",
    "            high_ivar.append(data_dict['IVAR'][i])\n",
    "            high_redshift.append(data_dict['REDSHIFT'][i])\n",
    "            high_class.append(data_dict['CLASS'][i])\n",
    "            \n",
    "        else:\n",
    "            pass\n",
    "        \n",
    "    \n",
    "    highSN_dict = {'NOISE': high_noise, 'FLUX': high_flux, 'WAVE': high_wave, 'IVAR': high_ivar,\\\n",
    "                   'REDSHIFT': high_redshift, 'CLASS': high_class}\n",
    "    \n",
    "    return highSN_dict \n",
    "\n",
    "\n",
    "\n",
    "def noise_model(data_dict, seed, override_val):\n",
    "    \n",
    "    ivar = data_dict['IVAR']\n",
    "    flux = data_dict['FLUX']\n",
    "    noise = data_dict['NOISE']\n",
    "    \n",
    "    noisy_flux = []\n",
    "    deviate = []\n",
    "    new_noise = []\n",
    "    \n",
    "    for i in range(len(ivar)):\n",
    "        \n",
    "        var = (1/ivar[i])\n",
    "        new_var = np.nan_to_num(var, posinf=0, neginf=0, nan=0)\n",
    "        new_std = new_var ** 0.5\n",
    "        \n",
    "        if noise[i] <= 32:\n",
    "            \n",
    "            gaussian_deviate = norm.rvs(size = len(ivar[i]), scale = 8*new_std, loc = 0, random_state = seed)\n",
    "        \n",
    "            flux_w_noise = flux[i] + gaussian_deviate\n",
    "        \n",
    "            deviate.append(gaussian_deviate)\n",
    "            noisy_flux.append(flux_w_noise)\n",
    "            \n",
    "        elif noise[i] > 32:\n",
    "            \n",
    "            gaussian_deviate = norm.rvs(size = len(ivar[i]), scale = 16*new_std, loc = 0, random_state = seed)\n",
    "        \n",
    "            flux_w_noise = flux[i] + gaussian_deviate\n",
    "        \n",
    "            deviate.append(gaussian_deviate)\n",
    "            noisy_flux.append(flux_w_noise)\n",
    "            \n",
    "        \n",
    "        \n",
    "    new_dict = {'VAR': new_var, 'IVAR': data_dict['IVAR'], 'CLASS': data_dict['CLASS'], 'WAVE': data_dict['WAVE'],\\\n",
    "               'REDSHIFT': data_dict['REDSHIFT'], 'FLUX': noisy_flux, 'DEVIATE': deviate, 'NOISE': data_dict['NOISE']}\n",
    "            \n",
    "        \n",
    "    return new_dict\n",
    "\n",
    "\n",
    "\n",
    "def merg_dict(dict1, dict2, dict3, dict4, dict5, dict6, dict7, dict8, dict9, dict10, dict11, dict12, dict13, dict14,\\\n",
    "             dict15, dict16, dict17, dict18, dict19, dict20, dict21, dict22, dict23, dict24, dict25):\n",
    "    \"\"\"This code merges dictionaries together that all have the same keys and assigns them to a new dictionary\"\"\"\n",
    "    \n",
    "    dict_list = [dict1, dict2, dict3, dict4, dict5, dict6, dict7, dict8,  dict9, dict10, dict11, dict12, dict13,\\\n",
    "                 dict14, dict15, dict16, dict17, dict18, dict19, dict20, dict21, dict22, dict23, dict24, dict25]\n",
    "    merged_dict = {}\n",
    "    for k in dict1.keys():\n",
    "        merged_dict[k] = np.concatenate(list(merged_dict[k] for merged_dict in dict_list))\n",
    "        \n",
    "    return merged_dict\n",
    "\n",
    "\n",
    "\n",
    "def calc_model_noise(merg_dict):\n",
    "    \"\"\"\n",
    "    Code calculates the changed noise via the noise model\n",
    "    \"\"\"\n",
    "        \n",
    "    labels = merg_dict['CLASS']\n",
    "    new_noise = []\n",
    "    \n",
    "    for i in range(len(labels)):\n",
    "    \n",
    "        if labels[i] == 'QSO':\n",
    "        \n",
    "            new_noise.append(np.mean(merg_dict['FLUX'][i])\\\n",
    "                     /(np.std(merg_dict['FLUX'][i])))      \n",
    "            \n",
    "    merg_dict['FAKE_NOISE'] = new_noise\n",
    "    \n",
    "    \n",
    "    return merg_dict\n",
    "\n",
    "def balancing_noise(calc_merg_dict, var_dict, added_val):\n",
    "    \"\"\"\n",
    "    Code to balance the noise distributions between the noise model data and the variable quasar data\n",
    "    \"\"\"\n",
    "    \n",
    "    var_noise = np.asarray(var_dict['NOISE'])\n",
    "    var_labels = np.asarray(var_dict['CLASS'])\n",
    "    arr_indx = np.where(var_labels == 'QSO')\n",
    "    quasar_noise = var_noise[arr_indx]\n",
    "    \n",
    "    indx0 = np.where((quasar_noise >= 0.0) & (quasar_noise < 0.2))\n",
    "    indx1 = np.where((quasar_noise >= 0.2) & (quasar_noise < 0.4))\n",
    "    indx2 = np.where((quasar_noise >= 0.4) & (quasar_noise < 0.6))\n",
    "    indx3 = np.where((quasar_noise >= 0.6) & (quasar_noise < 0.8))\n",
    "    indx4 = np.where((quasar_noise >= 0.8) & (quasar_noise < 1.0))\n",
    "    indx5 = np.where((quasar_noise >= 1.0) & (quasar_noise < 1.2))\n",
    "    indx6 = np.where((quasar_noise >= 1.2) & (quasar_noise < 1.4))\n",
    "    indx7 = np.where((quasar_noise >= 1.4) & (quasar_noise < 1.6))\n",
    "    indx8 = np.where((quasar_noise >= 1.6) & (quasar_noise < 1.8))\n",
    "    indx9 = np.where((quasar_noise >= 1.8) & (quasar_noise <= 2.0))\n",
    "\n",
    "    qso_noise0 = quasar_noise[indx0]\n",
    "    qso_noise1 = quasar_noise[indx1]\n",
    "    qso_noise2 = quasar_noise[indx2]\n",
    "    qso_noise3 = quasar_noise[indx3]\n",
    "    qso_noise4 = quasar_noise[indx4]\n",
    "    qso_noise5 = quasar_noise[indx5]\n",
    "    qso_noise6 = quasar_noise[indx6]\n",
    "    qso_noise7 = quasar_noise[indx7]\n",
    "    qso_noise8 = quasar_noise[indx8]\n",
    "    qso_noise9 = quasar_noise[indx9]\n",
    "    \n",
    "    new_noise = np.asarray(calc_merg_dict['FAKE_NOISE'])\n",
    "    new_norm_noise = np.asarray(calc_merg_dict['NOISE'])\n",
    "    new_wave = np.asarray(calc_merg_dict['WAVE'])\n",
    "    new_redshift = np.asarray(calc_merg_dict['REDSHIFT'])\n",
    "    new_flux = np.asarray(calc_merg_dict['FLUX'])\n",
    "    new_class = np.asarray(calc_merg_dict['CLASS'])\n",
    "\n",
    "    fake_indx0 = np.where((new_noise >= 0.0) & (new_noise < 0.2))\n",
    "    fake_indx1 = np.where((new_noise >= 0.2) & (new_noise < 0.4))\n",
    "    fake_indx2 = np.where((new_noise >= 0.4) & (new_noise < 0.6))\n",
    "    fake_indx3 = np.where((new_noise >= 0.6) & (new_noise < 0.8))\n",
    "    fake_indx4 = np.where((new_noise >= 0.8) & (new_noise < 1.0))\n",
    "    fake_indx5 = np.where((new_noise >= 1.0) & (new_noise < 1.2))\n",
    "    fake_indx6 = np.where((new_noise >= 1.2) & (new_noise < 1.4))\n",
    "    fake_indx7 = np.where((new_noise >= 1.4) & (new_noise < 1.6))\n",
    "    fake_indx8 = np.where((new_noise >= 1.6) & (new_noise < 1.8))\n",
    "    fake_indx9 = np.where((new_noise >= 1.8) & (new_noise <= 2.0))\n",
    "    \n",
    "    new_noise0 = new_noise[fake_indx0]\n",
    "    new_noise1 = new_noise[fake_indx1]\n",
    "    new_noise2 = new_noise[fake_indx2]\n",
    "    new_noise3 = new_noise[fake_indx3]\n",
    "    new_noise4 = new_noise[fake_indx4]\n",
    "    new_noise5 = new_noise[fake_indx5]\n",
    "    new_noise6 = new_noise[fake_indx6]\n",
    "    new_noise7 = new_noise[fake_indx7]\n",
    "    new_noise8 = new_noise[fake_indx8]\n",
    "    new_noise9 = new_noise[fake_indx9]\n",
    "    \n",
    "    new_norm_noise0 = new_norm_noise[fake_indx0]\n",
    "    new_norm_noise1 = new_norm_noise[fake_indx1]\n",
    "    new_norm_noise2 = new_norm_noise[fake_indx2]\n",
    "    new_norm_noise3 = new_norm_noise[fake_indx3]\n",
    "    new_norm_noise4 = new_norm_noise[fake_indx4]\n",
    "    new_norm_noise5 = new_norm_noise[fake_indx5]\n",
    "    new_norm_noise6 = new_norm_noise[fake_indx6]\n",
    "    new_norm_noise7 = new_norm_noise[fake_indx7]\n",
    "    new_norm_noise8 = new_norm_noise[fake_indx8]\n",
    "    new_norm_noise9 = new_norm_noise[fake_indx9]\n",
    "    \n",
    "    new_wave0 = new_wave[fake_indx0]\n",
    "    new_wave1 = new_wave[fake_indx1]\n",
    "    new_wave2 = new_wave[fake_indx2]\n",
    "    new_wave3 = new_wave[fake_indx3]\n",
    "    new_wave4 = new_wave[fake_indx4]\n",
    "    new_wave5 = new_wave[fake_indx5]\n",
    "    new_wave6 = new_wave[fake_indx6]\n",
    "    new_wave7 = new_wave[fake_indx7]\n",
    "    new_wave8 = new_wave[fake_indx8]\n",
    "    new_wave9 = new_wave[fake_indx9]\n",
    "    \n",
    "    new_redshift0 = new_redshift[fake_indx0]\n",
    "    new_redshift1 = new_redshift[fake_indx1]\n",
    "    new_redshift2 = new_redshift[fake_indx2]\n",
    "    new_redshift3 = new_redshift[fake_indx3]\n",
    "    new_redshift4 = new_redshift[fake_indx4]\n",
    "    new_redshift5 = new_redshift[fake_indx5]\n",
    "    new_redshift6 = new_redshift[fake_indx6]\n",
    "    new_redshift7 = new_redshift[fake_indx7]\n",
    "    new_redshift8 = new_redshift[fake_indx8]\n",
    "    new_redshift9 = new_redshift[fake_indx9]\n",
    "    \n",
    "    new_flux0 = new_flux[fake_indx0]\n",
    "    new_flux1 = new_flux[fake_indx1]\n",
    "    new_flux2 = new_flux[fake_indx2]\n",
    "    new_flux3 = new_flux[fake_indx3]\n",
    "    new_flux4 = new_flux[fake_indx4]\n",
    "    new_flux5 = new_flux[fake_indx5]\n",
    "    new_flux6 = new_flux[fake_indx6]\n",
    "    new_flux7 = new_flux[fake_indx7]\n",
    "    new_flux8 = new_flux[fake_indx8]\n",
    "    new_flux9 = new_flux[fake_indx9] \n",
    "    \n",
    "    new_class0 = new_class[fake_indx0]\n",
    "    new_class1 = new_class[fake_indx1]\n",
    "    new_class2 = new_class[fake_indx2]\n",
    "    new_class3 = new_class[fake_indx3]\n",
    "    new_class4 = new_class[fake_indx4]\n",
    "    new_class5 = new_class[fake_indx5]\n",
    "    new_class6 = new_class[fake_indx6]\n",
    "    new_class7 = new_class[fake_indx7]\n",
    "    new_class8 = new_class[fake_indx8]\n",
    "    new_class9 = new_class[fake_indx9]\n",
    "    \n",
    "    noise_cut = []\n",
    "    wave_cut = []\n",
    "    flux_cut = []\n",
    "    class_cut = []\n",
    "    redshift_cut = []\n",
    "    fake_noise_cut = []\n",
    "    \n",
    "    if (len(qso_noise0)) < (len(new_noise0)):\n",
    "        # \n",
    "        cut_noise0 = new_norm_noise0[:len(qso_noise0) + added_val]\n",
    "        noise_cut.append(cut_noise0)\n",
    "        \n",
    "        cut_wave0 = new_wave0[:len(qso_noise0) + added_val]\n",
    "        wave_cut.append(cut_wave0)\n",
    "        \n",
    "        cut_flux0 = new_flux0[:len(qso_noise0) + added_val]\n",
    "        flux_cut.append(cut_flux0)\n",
    "        \n",
    "        cut_class0 = new_class0[:len(qso_noise0) + added_val]\n",
    "        class_cut.append(cut_class0)\n",
    "        \n",
    "        cut_redshift0 = new_redshift0[:len(qso_noise0) + added_val]\n",
    "        redshift_cut.append(cut_redshift0)\n",
    "        \n",
    "        cut_fake_noise0 = new_noise0[:len(qso_noise0) + added_val]\n",
    "        fake_noise_cut.append(cut_fake_noise0)\n",
    "        \n",
    "    if (len(qso_noise1)) < (len(new_noise1)):\n",
    "        \n",
    "        cut_noise1 = new_norm_noise1[:len(qso_noise1) + added_val]\n",
    "        noise_cut.append(cut_noise1)\n",
    "        \n",
    "        cut_wave1 = new_wave1[:len(qso_noise1) + added_val]\n",
    "        wave_cut.append(cut_wave1)\n",
    "        \n",
    "        cut_flux1 = new_flux1[:len(qso_noise1) + added_val]\n",
    "        flux_cut.append(cut_flux1)\n",
    "        \n",
    "        cut_class1 = new_class1[:len(qso_noise1) + added_val]\n",
    "        class_cut.append(cut_class1)\n",
    "        \n",
    "        cut_redshift1 = new_redshift1[:len(qso_noise1) + added_val]\n",
    "        redshift_cut.append(cut_redshift1)\n",
    "        \n",
    "        cut_fake_noise1 = new_noise1[:len(qso_noise1) + added_val]\n",
    "        fake_noise_cut.append(cut_fake_noise1)\n",
    "        \n",
    "    if (len(qso_noise2)) < (len(new_noise2)):\n",
    "        \n",
    "        cut_noise2 = new_norm_noise2[:len(qso_noise2) + added_val]\n",
    "        noise_cut.append(cut_noise2)\n",
    "        \n",
    "        cut_wave2 = new_wave2[:len(qso_noise2) + added_val]\n",
    "        wave_cut.append(cut_wave2)\n",
    "        \n",
    "        cut_flux2 = new_flux2[:len(qso_noise2) + added_val]\n",
    "        flux_cut.append(cut_flux2)\n",
    "        \n",
    "        cut_class2 = new_class2[:len(qso_noise2) + added_val]\n",
    "        class_cut.append(cut_class2)\n",
    "        \n",
    "        cut_redshift2 = new_redshift2[:len(qso_noise2) + added_val]\n",
    "        redshift_cut.append(cut_redshift2)\n",
    "        \n",
    "        cut_fake_noise2 = new_noise2[:len(qso_noise2) + added_val]\n",
    "        fake_noise_cut.append(cut_fake_noise2)\n",
    "        \n",
    "    if (len(qso_noise3)) < (len(new_noise3)):\n",
    "        \n",
    "        cut_noise3 = new_norm_noise3[:len(qso_noise3) + added_val]\n",
    "        noise_cut.append(cut_noise3)\n",
    "        \n",
    "        cut_wave3 = new_wave3[:len(qso_noise3) + added_val]\n",
    "        wave_cut.append(cut_wave3)\n",
    "        \n",
    "        cut_flux3 = new_flux3[:len(qso_noise3) + added_val]\n",
    "        flux_cut.append(cut_flux3)\n",
    "        \n",
    "        cut_class3 = new_class3[:len(qso_noise3) + added_val]\n",
    "        class_cut.append(cut_class3)\n",
    "        \n",
    "        cut_redshift3 = new_redshift3[:len(qso_noise3) + added_val]\n",
    "        redshift_cut.append(cut_redshift3)\n",
    "        \n",
    "        cut_fake_noise3 = new_noise3[:len(qso_noise3) + added_val]\n",
    "        fake_noise_cut.append(cut_fake_noise3)\n",
    "        \n",
    "    if (len(qso_noise4)) < (len(new_noise4)):\n",
    "        \n",
    "        cut_noise4 = new_norm_noise4[:len(qso_noise4) + added_val]\n",
    "        noise_cut.append(cut_noise4)\n",
    "        \n",
    "        cut_wave4 = new_wave4[:len(qso_noise4) + added_val]\n",
    "        wave_cut.append(cut_wave4)\n",
    "        \n",
    "        cut_flux4 = new_flux4[:len(qso_noise4) + added_val]\n",
    "        flux_cut.append(cut_flux4)\n",
    "        \n",
    "        cut_class4 = new_class4[:len(qso_noise4) + added_val]\n",
    "        class_cut.append(cut_class4)\n",
    "        \n",
    "        cut_redshift4 = new_redshift4[:len(qso_noise4) + added_val]\n",
    "        redshift_cut.append(cut_redshift4)\n",
    "        \n",
    "        cut_fake_noise4 = new_noise4[:len(qso_noise4) + added_val]\n",
    "        fake_noise_cut.append(cut_fake_noise4)\n",
    "    \n",
    "        \n",
    "    if (len(qso_noise5)) < (len(new_noise5)):\n",
    "        \n",
    "        cut_noise5 = new_norm_noise5[:len(qso_noise5) + added_val]\n",
    "        noise_cut.append(cut_noise5)\n",
    "        \n",
    "        cut_wave5 = new_wave5[:len(qso_noise5) + added_val]\n",
    "        wave_cut.append(cut_wave5)\n",
    "        \n",
    "        cut_flux5 = new_flux5[:len(qso_noise5) + added_val]\n",
    "        flux_cut.append(cut_flux5)\n",
    "        \n",
    "        cut_class5 = new_class5[:len(qso_noise5) + added_val]\n",
    "        class_cut.append(cut_class5)\n",
    "        \n",
    "        cut_redshift5 = new_redshift5[:len(qso_noise5) + added_val]\n",
    "        redshift_cut.append(cut_redshift5)\n",
    "        \n",
    "        cut_fake_noise5 = new_noise5[:len(qso_noise5) + added_val]\n",
    "        fake_noise_cut.append(cut_fake_noise5)\n",
    "           \n",
    "    if (len(qso_noise6)) < (len(new_noise6)):\n",
    "        \n",
    "        cut_noise6 = new_norm_noise6[:len(qso_noise6) + added_val]\n",
    "        noise_cut.append(cut_noise6)\n",
    "        \n",
    "        cut_wave6 = new_wave6[:len(qso_noise6) + added_val]\n",
    "        wave_cut.append(cut_wave6)\n",
    "        \n",
    "        cut_flux6 = new_flux6[:len(qso_noise6) + added_val]\n",
    "        flux_cut.append(cut_flux6)\n",
    "        \n",
    "        cut_class6 = new_class6[:len(qso_noise6) + added_val]\n",
    "        class_cut.append(cut_class6)\n",
    "        \n",
    "        cut_redshift6 = new_redshift6[:len(qso_noise6) + added_val]\n",
    "        redshift_cut.append(cut_redshift6)\n",
    "        \n",
    "        cut_fake_noise6 = new_noise6[:len(qso_noise6) + added_val]\n",
    "        fake_noise_cut.append(cut_fake_noise6)\n",
    "        \n",
    "    if (len(qso_noise7)) < (len(new_noise7)):\n",
    "        \n",
    "        cut_noise7 = new_norm_noise7[:len(qso_noise7) + added_val]\n",
    "        noise_cut.append(cut_noise7)\n",
    "        \n",
    "        cut_wave7 = new_wave7[:len(qso_noise7) + added_val]\n",
    "        wave_cut.append(cut_wave7)\n",
    "        \n",
    "        cut_flux7 = new_flux7[:len(qso_noise7) + added_val]\n",
    "        flux_cut.append(cut_flux7)\n",
    "        \n",
    "        cut_class7 = new_class7[:len(qso_noise7) + added_val]\n",
    "        class_cut.append(cut_class7)\n",
    "        \n",
    "        cut_redshift7 = new_redshift7[:len(qso_noise7) + added_val]\n",
    "        redshift_cut.append(cut_redshift7)\n",
    "        \n",
    "        cut_fake_noise7 = new_noise7[:len(qso_noise7) + added_val]\n",
    "        fake_noise_cut.append(cut_fake_noise7)\n",
    "\n",
    "    if (len(qso_noise8)) < (len(new_noise8)):\n",
    "        \n",
    "        cut_noise8 = new_norm_noise8[:len(qso_noise8) + added_val]\n",
    "        noise_cut.append(cut_noise8)\n",
    "        \n",
    "        cut_wave8 = new_wave8[:len(qso_noise8) + added_val]\n",
    "        wave_cut.append(cut_wave8)\n",
    "        \n",
    "        cut_flux8 = new_flux8[:len(qso_noise8) + added_val]\n",
    "        flux_cut.append(cut_flux8)\n",
    "        \n",
    "        cut_class8 = new_class8[:len(qso_noise8) + added_val]\n",
    "        class_cut.append(cut_class8)\n",
    "        \n",
    "        cut_redshift8 = new_redshift8[:len(qso_noise8) + added_val]\n",
    "        redshift_cut.append(cut_redshift8)\n",
    "        \n",
    "        cut_fake_noise8 = new_noise8[:len(qso_noise8) + added_val]\n",
    "        fake_noise_cut.append(cut_fake_noise8)\n",
    "\n",
    "    if (len(qso_noise9)) < (len(new_noise9)):\n",
    "        \n",
    "        cut_noise9 = new_norm_noise9[:len(qso_noise9) + added_val]\n",
    "        noise_cut.append(cut_noise9)\n",
    "        \n",
    "        cut_wave9 = new_wave9[:len(qso_noise9) + added_val]\n",
    "        wave_cut.append(cut_wave9)\n",
    "        \n",
    "        cut_flux9 = new_flux9[:len(qso_noise9) + added_val]\n",
    "        flux_cut.append(cut_flux9)\n",
    "        \n",
    "        cut_class9 = new_class9[:len(qso_noise9) + added_val]\n",
    "        class_cut.append(cut_class9)\n",
    "        \n",
    "        cut_redshift9 = new_redshift9[:len(qso_noise9) + added_val]\n",
    "        redshift_cut.append(cut_redshift9)\n",
    "        \n",
    "        cut_fake_noise9 = new_noise9[:len(qso_noise9) + added_val]\n",
    "        fake_noise_cut.append(cut_fake_noise9)\n",
    "\n",
    "\n",
    "    noise = np.concatenate([np.array(i) for i in noise_cut])\n",
    "    wave = np.concatenate([np.array(i) for i in wave_cut])\n",
    "    flux = np.concatenate([np.array(i) for i in flux_cut])\n",
    "    classifier = np.concatenate([np.array(i) for i in class_cut])\n",
    "    redshift = np.concatenate([np.array(i) for i in redshift_cut])\n",
    "    fake_noise = np.concatenate([np.array(i) for i in fake_noise_cut])\n",
    "    \n",
    "    \n",
    "    noise_cut_dict = {'NOISE': noise, 'WAVE': wave,\\\n",
    "                      'FLUX': flux, 'CLASS': classifier,\\\n",
    "                      'REDSHIFT': redshift, 'FAKE_NOISE': fake_noise}\n",
    "\n",
    "    \n",
    "    return noise_cut_dict\n",
    "\n",
    "\n",
    "    \n",
    "    \n",
    "def save_as_pickled_object(obj, filepath):\n",
    "    \"\"\"\n",
    "    This is a defensive way to write pickle.write, allowing for very large files on all platforms\n",
    "    \"\"\"\n",
    "    max_bytes = 2**31 - 1\n",
    "    bytes_out = pickle.dumps(obj)\n",
    "    n_bytes = sys.getsizeof(bytes_out)\n",
    "    with open(filepath, 'wb') as f_out:\n",
    "        for idx in range(0, n_bytes, max_bytes):\n",
    "            f_out.write(bytes_out[idx:idx+max_bytes])"
   ]
  },
  {
   "cell_type": "code",
   "execution_count": 3,
   "metadata": {},
   "outputs": [
    {
     "data": {
      "text/plain": [
       "dict_keys(['HIGH', 'LOW'])"
      ]
     },
     "execution_count": 3,
     "metadata": {},
     "output_type": "execute_result"
    }
   ],
   "source": [
    "high_dict = pd.read_pickle(\"/Users/matt/Desktop/DESI_Research/DESI_ML/var_CNN/Dictionaries/object_dict/high_SN_quasar_dict\")\n",
    "\n",
    "var_star_dict = pd.read_pickle(\"/Users/matt/Desktop/DESI_Research/DESI_ML/var_CNN/Dictionaries/joined_obj_dicts/varstar_dict\")\n",
    "\n",
    "star_dict = pd.read_pickle(\"/Users/matt/Desktop/DESI_Research/DESI_ML/var_CNN/Dictionaries/object_dict/star_dict\")\n",
    "\n",
    "\n",
    "var_star_dict.keys()\n"
   ]
  },
  {
   "cell_type": "code",
   "execution_count": 4,
   "metadata": {
    "scrolled": true
   },
   "outputs": [
    {
     "data": {
      "text/plain": [
       "dict_keys(['FLUX', 'CLASS', 'NOISE', 'WAVE', 'REDSHIFT', 'PLATE', 'MJD', 'FIBER', 'PSFMAG', 'R', 'G', 'EBOSS_TARGET1', 'RA', 'DEC', 'IVAR'])"
      ]
     },
     "execution_count": 4,
     "metadata": {},
     "output_type": "execute_result"
    }
   ],
   "source": [
    "high_dict.keys()"
   ]
  },
  {
   "cell_type": "code",
   "execution_count": 5,
   "metadata": {},
   "outputs": [
    {
     "data": {
      "text/plain": [
       "dict_keys(['FLUX', 'CLASS', 'NOISE', 'WAVE', 'REDSHIFT', 'PLATE', 'MJD', 'FIBER', 'PSFMAG', 'R', 'G', 'RA', 'DEC', 'IVAR'])"
      ]
     },
     "execution_count": 5,
     "metadata": {},
     "output_type": "execute_result"
    }
   ],
   "source": [
    "star_dict.keys()"
   ]
  },
  {
   "cell_type": "code",
   "execution_count": 6,
   "metadata": {},
   "outputs": [],
   "source": [
    "perfectSN_dict = perfect_SN(high_dict)\n",
    "ivar = np.asarray(perfectSN_dict['IVAR'])\n",
    "flux = np.asarray(perfectSN_dict['FLUX'])\n",
    "labels = np.asarray(perfectSN_dict['CLASS'])\n",
    "wave = np.asarray(perfectSN_dict['WAVE'])\n",
    "redshift = np.asarray(perfectSN_dict['REDSHIFT'])\n",
    "\n",
    "\n",
    "#star_perfSN_dict = perfect_SN(star_dict)\n",
    "#star_ivar = np.asarray(perfectSN_dict['IVAR'])\n",
    "# star_flux = np.asarray(perfectSN_dict['FLUX'])\n",
    "# star_labels = np.asarray(perfectSN_dict['CLASS'])\n",
    "# star_wave = np.asarray(perfectSN_dict['WAVE'])\n",
    "# star_redshift = np.asarray(perfectSN_dict['REDSHIFT'])"
   ]
  },
  {
   "cell_type": "code",
   "execution_count": 7,
   "metadata": {},
   "outputs": [
    {
     "data": {
      "text/plain": [
       "Text(0, 0.5, 'I dont know the units')"
      ]
     },
     "execution_count": 7,
     "metadata": {},
     "output_type": "execute_result"
    },
    {
     "data": {
      "image/png": "[encoded data removed]",
      "text/plain": [
       "<Figure size 432x288 with 1 Axes>"
      ]
     },
     "metadata": {
      "needs_background": "light"
     },
     "output_type": "display_data"
    }
   ],
   "source": [
    "plt.plot(10**perfectSN_dict['WAVE'][364], perfectSN_dict['FLUX'][364])\n",
    "plt.title('Spectrum of a Quasar at z = 3.05')\n",
    "plt.xlabel('Wavelength $(\\AA)$')\n",
    "plt.ylabel('I dont know the units')\n"
   ]
  },
  {
   "cell_type": "code",
   "execution_count": 8,
   "metadata": {},
   "outputs": [
    {
     "data": {
      "text/plain": [
       "Text(0, 0.5, 'I dont know the units')"
      ]
     },
     "execution_count": 8,
     "metadata": {},
     "output_type": "execute_result"
    },
    {
     "data": {
      "image/png": "[encoded data removed]",
      "text/plain": [
       "<Figure size 432x288 with 1 Axes>"
      ]
     },
     "metadata": {
      "needs_background": "light"
     },
     "output_type": "display_data"
    }
   ],
   "source": [
    "plt.plot(10**perfectSN_dict['WAVE'][649], perfectSN_dict['FLUX'][649])\n",
    "plt.title('Spectrum of a Quasar at z = 2.45')\n",
    "plt.xlabel('Wavelength $(\\AA)$')\n",
    "plt.ylabel('I dont know the units')"
   ]
  },
  {
   "cell_type": "code",
   "execution_count": 9,
   "metadata": {},
   "outputs": [
    {
     "data": {
      "text/plain": [
       "dict_keys(['NOISE', 'FLUX', 'WAVE', 'IVAR', 'REDSHIFT', 'CLASS'])"
      ]
     },
     "execution_count": 9,
     "metadata": {},
     "output_type": "execute_result"
    }
   ],
   "source": [
    "perfectSN_dict.keys()"
   ]
  },
  {
   "cell_type": "code",
   "execution_count": 10,
   "metadata": {
    "scrolled": true
   },
   "outputs": [
    {
     "name": "stderr",
     "output_type": "stream",
     "text": [
      "/Users/matt/anaconda3/envs/ML/lib/python3.6/site-packages/ipykernel_launcher.py:45: RuntimeWarning: divide by zero encountered in true_divide\n"
     ]
    }
   ],
   "source": [
    "x0 = noise_model(perfectSN_dict, 0, 0.0)\n",
    "x1 = noise_model(perfectSN_dict, 1, 0.0)\n",
    "x2 = noise_model(perfectSN_dict, 2, 0.0)\n",
    "x3 = noise_model(perfectSN_dict, 3, 0.0)\n",
    "x4 = noise_model(perfectSN_dict, 4, 0.0)\n",
    "x5 = noise_model(perfectSN_dict, 5, 0.0)\n",
    "x6 = noise_model(perfectSN_dict, 6, 0.0)\n",
    "x7 = noise_model(perfectSN_dict, 7, 0.0)\n",
    "x8 = noise_model(perfectSN_dict, 8, 0.0)\n",
    "x9 = noise_model(perfectSN_dict, 9, 0.0)\n",
    "x10 = noise_model(perfectSN_dict, 10, 0.0)\n",
    "x11 = noise_model(perfectSN_dict, 11, 0.0)\n",
    "x12 = noise_model(perfectSN_dict, 12, 0.0)\n",
    "x13 = noise_model(perfectSN_dict, 13, 0.0)\n",
    "x14 = noise_model(perfectSN_dict, 14, 0.0)\n",
    "x15 = noise_model(perfectSN_dict, 15, 0.0)\n",
    "x16 = noise_model(perfectSN_dict, 16, 0.0)\n",
    "x17 = noise_model(perfectSN_dict, 17, 0.0)\n",
    "x18 = noise_model(perfectSN_dict, 18, 0.0)\n",
    "x19 = noise_model(perfectSN_dict, 19, 0.0)\n",
    "x20 = noise_model(perfectSN_dict, 20, 0.0)\n",
    "x21 = noise_model(perfectSN_dict, 21, 0.0)\n",
    "x22 = noise_model(perfectSN_dict, 22, 0.0)\n",
    "x23 = noise_model(perfectSN_dict, 23, 0.0)\n",
    "x24 = noise_model(perfectSN_dict, 24, 0.0)"
   ]
  },
  {
   "cell_type": "code",
   "execution_count": 11,
   "metadata": {},
   "outputs": [],
   "source": [
    "scaled_var = x0['VAR']\n",
    "std = scaled_var ** 0.5\n",
    "noise = x0['NOISE']\n",
    "wave = x0['WAVE']\n",
    "flux = x0['FLUX']\n",
    "deviate = x0['DEVIATE']"
   ]
  },
  {
   "cell_type": "code",
   "execution_count": 12,
   "metadata": {
    "scrolled": true
   },
   "outputs": [
    {
     "name": "stdout",
     "output_type": "stream",
     "text": [
      "[20.012075]\n"
     ]
    },
    {
     "data": {
      "text/plain": [
       "Text(0.5, 1.0, 'Variance ')"
      ]
     },
     "execution_count": 12,
     "metadata": {},
     "output_type": "execute_result"
    },
    {
     "data": {
      "image/png": "[encoded data removed]",
      "text/plain": [
       "<Figure size 432x288 with 1 Axes>"
      ]
     },
     "metadata": {
      "needs_background": "light"
     },
     "output_type": "display_data"
    }
   ],
   "source": [
    "print((noise[856]))\n",
    "keepidx, = np.where((wave[856] > 3.5818) & (wave[856] < 3.95))\n",
    "\n",
    "plt.plot(10**wave[856][keepidx], flux[856][keepidx])\n",
    "plt.plot(10**wave[856][keepidx], flux[856][keepidx] - deviate[856][keepidx])\n",
    "plt.title('Variance ')"
   ]
  },
  {
   "cell_type": "markdown",
   "metadata": {},
   "source": [
    "variance, scaled variance, original spectrum, scaled spectrum, std vs "
   ]
  },
  {
   "cell_type": "code",
   "execution_count": 13,
   "metadata": {},
   "outputs": [],
   "source": [
    "fake_dict = merg_dict(x0, x1, x2, x3, x4, x5, x6, x7, x8, x9, x10, x11, x12, x13, x14, x15, x16, x17, x18, x19, x20,\\\n",
    "                     x21, x22, x23, x24)"
   ]
  },
  {
   "cell_type": "code",
   "execution_count": 14,
   "metadata": {},
   "outputs": [],
   "source": [
    "upd_fake = calc_model_noise(fake_dict)"
   ]
  },
  {
   "cell_type": "code",
   "execution_count": 15,
   "metadata": {},
   "outputs": [],
   "source": [
    "bal_fake = balancing_noise(upd_fake, var_star_dict['LOW'], 35)"
   ]
  },
  {
   "cell_type": "code",
   "execution_count": 16,
   "metadata": {},
   "outputs": [],
   "source": [
    "new_noise = np.asarray(bal_fake['FAKE_NOISE'])\n",
    "new_norm_noise = np.asarray(bal_fake['NOISE'])\n",
    "new_wave = np.asarray(bal_fake['WAVE'])\n",
    "new_redshift = np.asarray(bal_fake['REDSHIFT'])\n",
    "new_flux = np.asarray(bal_fake['FLUX'])\n",
    "new_class = np.asarray(bal_fake['CLASS'])\n",
    "\n",
    "redshift_indx0 = np.where((new_redshift >= 2.45) & (new_redshift < 2.50))\n",
    "redshift_indx1 = np.where((new_redshift >= 2.50) & (new_redshift < 2.55))\n",
    "redshift_indx2 = np.where((new_redshift >= 2.55) & (new_redshift < 2.60))\n",
    "redshift_indx3 = np.where((new_redshift >= 2.60) & (new_redshift < 2.65))\n",
    "redshift_indx4 = np.where((new_redshift >= 2.65) & (new_redshift < 2.7))\n",
    "redshift_indx5 = np.where((new_redshift >= 2.7) & (new_redshift < 2.75))\n",
    "redshift_indx6 = np.where((new_redshift >= 2.75) & (new_redshift < 2.8))\n",
    "redshift_indx7 = np.where((new_redshift >= 2.8) & (new_redshift < 2.85))\n",
    "redshift_indx8 = np.where((new_redshift >= 2.85) & (new_redshift < 2.9))\n",
    "redshift_indx9 = np.where((new_redshift >= 2.9) & (new_redshift < 2.95))\n",
    "redshift_indx10 = np.where((new_redshift >= 2.95) & (new_redshift < 3.0))\n",
    "redshift_indx11 = np.where((new_redshift >= 3.0) & (new_redshift <= 3.05))\n",
    "\n",
    "\n",
    "new_indx = np.concatenate((redshift_indx0[0][:280], redshift_indx1[0][:230], redshift_indx2[0][:250],\\\n",
    "                           redshift_indx3[0][:250],\\\n",
    "                         redshift_indx4[0], redshift_indx5[0], redshift_indx6[0], redshift_indx7[0][:205],redshift_indx8[0],\n",
    "                          redshift_indx9[0],redshift_indx10[0],  redshift_indx11[0]))"
   ]
  },
  {
   "cell_type": "code",
   "execution_count": 17,
   "metadata": {},
   "outputs": [],
   "source": [
    "cut_fake = {'FAKE_NOISE': new_noise[new_indx], 'NOISE': new_norm_noise[new_indx], 'WAVE': new_wave[new_indx],\\\n",
    "            'REDSHIFT': new_redshift[new_indx], 'FLUX': new_flux[new_indx], 'CLASS': new_class[new_indx]}"
   ]
  },
  {
   "cell_type": "code",
   "execution_count": 18,
   "metadata": {},
   "outputs": [],
   "source": [
    "save_as_pickled_object(cut_fake, \"/Users/matt/Desktop/DESI_Research/DESI_ML/var_CNN/Dictionaries/object_dict/fake_dict\")\n"
   ]
  },
  {
   "cell_type": "code",
   "execution_count": 19,
   "metadata": {},
   "outputs": [
    {
     "name": "stdout",
     "output_type": "stream",
     "text": [
      "2449\n",
      "2459\n"
     ]
    }
   ],
   "source": [
    "class_labels = np.asarray(var_star_dict['LOW']['CLASS'])\n",
    "arr_indx = np.where(class_labels == 'QSO')\n",
    "quasar_noise = np.asarray(var_star_dict['LOW']['NOISE'])\n",
    "quasar_redshift = np.asarray(var_star_dict['LOW']['REDSHIFT'])\n",
    "\n",
    "print(len(cut_fake['FAKE_NOISE']))\n",
    "print(len(quasar_noise[arr_indx]))"
   ]
  },
  {
   "cell_type": "code",
   "execution_count": 20,
   "metadata": {},
   "outputs": [
    {
     "data": {
      "text/plain": [
       "(0, 400)"
      ]
     },
     "execution_count": 20,
     "metadata": {},
     "output_type": "execute_result"
    },
    {
     "data": {
      "image/png": "[encoded data removed]",
      "text/plain": [
       "<Figure size 1296x288 with 2 Axes>"
      ]
     },
     "metadata": {
      "needs_background": "light"
     },
     "output_type": "display_data"
    }
   ],
   "source": [
    "bin_list = [0, .2, .4, .6, .8, 1.0, 1.2, 1.4, 1.6, 1.8, 2.]\n",
    "\n",
    "fig, (ax1, ax2) = plt.subplots(1, 2, sharex=True, figsize=(18, 4))\n",
    "ax1.hist(quasar_noise[arr_indx], bins = bin_list);\n",
    "ax1.set_title('Low SN Variable QSO Noise Distribution', fontsize=18);\n",
    "ax1.set_xlabel('Noise')\n",
    "ax1.set_ylabel('Number per bin')\n",
    "ax1.set_ylim(0,400)\n",
    "\n",
    "ax2.hist(np.asarray(cut_fake['FAKE_NOISE']), bins = bin_list)\n",
    "ax2.set_title('Fake low SN Noise Model Noise Distribution', fontsize=18);\n",
    "ax2.set_xlabel('Noise')\n",
    "ax2.set_ylabel('Number per bin')\n",
    "ax2.set_ylim(0,400)"
   ]
  },
  {
   "cell_type": "code",
   "execution_count": 21,
   "metadata": {},
   "outputs": [
    {
     "data": {
      "text/plain": [
       "(0, 400)"
      ]
     },
     "execution_count": 21,
     "metadata": {},
     "output_type": "execute_result"
    },
    {
     "data": {
      "image/png": "[encoded data removed]",
      "text/plain": [
       "<Figure size 1296x288 with 2 Axes>"
      ]
     },
     "metadata": {
      "needs_background": "light"
     },
     "output_type": "display_data"
    }
   ],
   "source": [
    "fig, (ax1, ax2) = plt.subplots(1, 2, sharex=True, figsize=(18, 4))\n",
    "ax1.hist(quasar_redshift[arr_indx], bins = 12);\n",
    "ax1.set_title('Low SN Variable QSO Redshift Distribution', fontsize=18);\n",
    "ax1.set_xlabel('Noise')\n",
    "ax1.set_ylabel('Number per bin')\n",
    "ax1.set_ylim(0,400)\n",
    "#ax1.set_xlim(2.7,3.05)\n",
    "\n",
    "ax2.hist(np.asarray(cut_fake['REDSHIFT']), bins = 12)\n",
    "ax2.set_title('Fake low SN Noise Model Redshift Distribution', fontsize=18);\n",
    "ax2.set_xlabel('Noise')\n",
    "ax2.set_ylabel('Number per bin')\n",
    "ax2.set_ylim(0,400)\n",
    "#ax2.set_xlim(2.7,3.05)"
   ]
  },
  {
   "cell_type": "markdown",
   "metadata": {},
   "source": [
    "# Star Data"
   ]
  },
  {
   "cell_type": "code",
   "execution_count": 22,
   "metadata": {},
   "outputs": [],
   "source": [
    "def calc_star_model_noise(merg_dict):\n",
    "    \"\"\"\n",
    "    Code calculates the changed noise via the noise model\n",
    "    \"\"\"\n",
    "        \n",
    "    labels = merg_dict['CLASS']\n",
    "    new_noise = []\n",
    "    \n",
    "    for i in range(len(labels)):\n",
    "    \n",
    "        if labels[i] == 'STAR':\n",
    "        \n",
    "            new_noise.append(np.mean(merg_dict['FLUX'][i])\\\n",
    "                     /(np.std(merg_dict['FLUX'][i])))      \n",
    "            \n",
    "    merg_dict['FAKE_NOISE'] = new_noise\n",
    "    \n",
    "    \n",
    "    return merg_dict\n",
    "\n",
    "def star_merg_dict(dict1, dict2,dict3,dict4):\n",
    "    \"\"\"This code merges dictionaries together that all have the same keys and assigns them to a new dictionary\"\"\"\n",
    "    \n",
    "    dict_list = [dict1, dict2, dict3, dict4]\n",
    "    merged_dict = {}\n",
    "    for k in dict1.keys():\n",
    "        merged_dict[k] = np.concatenate(list(merged_dict[k] for merged_dict in dict_list))\n",
    "        \n",
    "    return merged_dict"
   ]
  },
  {
   "cell_type": "code",
   "execution_count": 23,
   "metadata": {},
   "outputs": [
    {
     "name": "stdout",
     "output_type": "stream",
     "text": [
      "dict_keys(['NOISE', 'FLUX', 'WAVE', 'IVAR', 'REDSHIFT', 'CLASS'])\n",
      "8483\n"
     ]
    }
   ],
   "source": [
    "star_perf_dict = perfect_SN(star_dict)\n",
    "\n",
    "print(star_perf_dict.keys())\n",
    "print(len(star_perf_dict['NOISE']))"
   ]
  },
  {
   "cell_type": "code",
   "execution_count": 24,
   "metadata": {
    "scrolled": true
   },
   "outputs": [
    {
     "name": "stderr",
     "output_type": "stream",
     "text": [
      "/Users/matt/anaconda3/envs/ML/lib/python3.6/site-packages/ipykernel_launcher.py:45: RuntimeWarning: divide by zero encountered in true_divide\n"
     ]
    }
   ],
   "source": [
    "star_noise_model0 = noise_model(star_perf_dict, 0, 0.0)\n",
    "star_noise_model1 = noise_model(star_perf_dict, 1, 0.0)\n",
    "star_noise_model2 = noise_model(star_perf_dict, 2, 0.0)\n",
    "star_noise_model3 = noise_model(star_perf_dict, 3, 0.0)\n"
   ]
  },
  {
   "cell_type": "code",
   "execution_count": 25,
   "metadata": {},
   "outputs": [],
   "source": [
    "star_merg = star_merg_dict(star_noise_model0, star_noise_model1, star_noise_model2, star_noise_model3)"
   ]
  },
  {
   "cell_type": "code",
   "execution_count": 26,
   "metadata": {},
   "outputs": [],
   "source": [
    "upd_star = calc_star_model_noise(star_merg)"
   ]
  },
  {
   "cell_type": "code",
   "execution_count": 27,
   "metadata": {},
   "outputs": [],
   "source": [
    "star_bal = balancing_noise(upd_star, var_star_dict['LOW'], 0 )"
   ]
  },
  {
   "cell_type": "code",
   "execution_count": 28,
   "metadata": {},
   "outputs": [],
   "source": [
    "save_as_pickled_object(star_bal, \"/Users/matt/Desktop/DESI_Research/DESI_ML/var_CNN/Dictionaries/object_dict/fake_star_dict\")\n"
   ]
  },
  {
   "cell_type": "code",
   "execution_count": 29,
   "metadata": {},
   "outputs": [
    {
     "name": "stdout",
     "output_type": "stream",
     "text": [
      "2459\n"
     ]
    }
   ],
   "source": [
    "print(len(star_bal['FAKE_NOISE']))"
   ]
  },
  {
   "cell_type": "code",
   "execution_count": 30,
   "metadata": {},
   "outputs": [],
   "source": [
    "class_labels = np.asarray(var_star_dict['LOW']['CLASS'])\n",
    "arr_indx = np.where(class_labels == 'QSO')\n",
    "quasar_noise = np.asarray(var_star_dict['LOW']['NOISE'])\n",
    "quasar_redshift = np.asarray(var_star_dict['LOW']['REDSHIFT'])\n",
    "\n",
    "indx0 = np.where((quasar_redshift >= 2.45) & (quasar_redshift < 2.50))\n",
    "indx1 = np.where((quasar_redshift >= 2.50) & (quasar_redshift < 2.55))\n",
    "indx2 = np.where((quasar_redshift >= 2.55) & (quasar_redshift < 2.60))\n",
    "indx3 = np.where((quasar_redshift >= 2.60) & (quasar_redshift < 2.65))\n",
    "indx4 = np.where((quasar_redshift >= 2.65) & (quasar_redshift < 2.7))\n",
    "indx5 = np.where((quasar_redshift >= 2.7) & (quasar_redshift < 2.75))\n",
    "indx6 = np.where((quasar_redshift >= 2.75) & (quasar_redshift < 2.8))\n",
    "indx7 = np.where((quasar_redshift >= 2.8) & (quasar_redshift < 2.85))\n",
    "indx8 = np.where((quasar_redshift >= 2.85) & (quasar_redshift < 2.9))\n",
    "indx9 = np.where((quasar_redshift >= 2.9) & (quasar_redshift < 2.95))\n",
    "indx10 = np.where((quasar_redshift >= 2.95) & (quasar_redshift < 3.0))\n",
    "indx11 = np.where((quasar_redshift >= 3.0) & (quasar_redshift <= 3.05))"
   ]
  },
  {
   "cell_type": "code",
   "execution_count": 31,
   "metadata": {
    "scrolled": true
   },
   "outputs": [
    {
     "data": {
      "text/plain": [
       "(0, 320)"
      ]
     },
     "execution_count": 31,
     "metadata": {},
     "output_type": "execute_result"
    },
    {
     "data": {
      "image/png": "[encoded data removed]",
      "text/plain": [
       "<Figure size 1296x288 with 2 Axes>"
      ]
     },
     "metadata": {
      "needs_background": "light"
     },
     "output_type": "display_data"
    }
   ],
   "source": [
    "fig, (ax1, ax2) = plt.subplots(1, 2, sharex=True, figsize=(18, 4))\n",
    "ax1.hist(quasar_redshift[arr_indx], bins = 12);\n",
    "ax1.set_title('Low SN Variable QSO Redshift Distribution', fontsize=18);\n",
    "ax1.set_xlabel('Noise')\n",
    "ax1.set_ylabel('Number per bin')\n",
    "ax1.set_ylim(0,320)\n",
    "\n",
    "ax2.hist(np.asarray(star_bal['REDSHIFT']), bins = 12)\n",
    "ax2.set_title('Fake low SN Noise Model Redshift Distribution STAR', fontsize=18);\n",
    "ax2.set_xlabel('Noise')\n",
    "ax2.set_ylabel('Number per bin')\n",
    "ax2.set_ylim(0,320)"
   ]
  },
  {
   "cell_type": "code",
   "execution_count": 32,
   "metadata": {},
   "outputs": [
    {
     "data": {
      "text/plain": [
       "(0, 400)"
      ]
     },
     "execution_count": 32,
     "metadata": {},
     "output_type": "execute_result"
    },
    {
     "data": {
      "image/png": "[encoded data removed]",
      "text/plain": [
       "<Figure size 1296x288 with 2 Axes>"
      ]
     },
     "metadata": {
      "needs_background": "light"
     },
     "output_type": "display_data"
    }
   ],
   "source": [
    "bin_list = [0, .2, .4, .6, .8, 1.0, 1.2, 1.4, 1.6, 1.8, 2.]\n",
    "\n",
    "fig, (ax1, ax2) = plt.subplots(1, 2, sharex=True, figsize=(18, 4))\n",
    "ax1.hist(quasar_noise[arr_indx], bins = bin_list);\n",
    "ax1.set_title('Low SN Variable QSO Noise Distribution', fontsize=18);\n",
    "ax1.set_xlabel('Noise')\n",
    "ax1.set_ylabel('Number per bin')\n",
    "ax1.set_ylim(0,400)\n",
    "\n",
    "ax2.hist(np.asarray(star_bal['FAKE_NOISE']), bins = bin_list)\n",
    "ax2.set_title('Fake low SN Noise Model Noise Distribution STAR', fontsize=18);\n",
    "ax2.set_xlabel('Noise')\n",
    "ax2.set_ylabel('Number per bin')\n",
    "ax2.set_ylim(0,400)"
   ]
  },
  {
   "cell_type": "code",
   "execution_count": 33,
   "metadata": {},
   "outputs": [
    {
     "name": "stdout",
     "output_type": "stream",
     "text": [
      "2459\n",
      "2449\n"
     ]
    }
   ],
   "source": [
    "print(len(quasar_noise[arr_indx]))\n",
    "print(len(new_noise[new_indx]))"
   ]
  },
  {
   "cell_type": "code",
   "execution_count": 34,
   "metadata": {},
   "outputs": [],
   "source": [
    "noise_indx0 = np.where((new_noise >= 0.0) & (new_noise < 0.2))\n",
    "noise_indx1 = np.where((new_noise >= 0.2) & (new_noise < 0.4))\n",
    "noise_indx2 = np.where((new_noise >= 0.4) & (new_noise < 0.6))\n",
    "noise_indx3 = np.where((new_noise >= 0.6) & (new_noise < 0.8))\n",
    "noise_indx4 = np.where((new_noise >= 0.8) & (new_noise < 1.0))\n",
    "noise_indx5 = np.where((new_noise >= 1.0) & (new_noise < 1.2))\n",
    "noise_indx6 = np.where((new_noise >= 1.2) & (new_noise < 1.4))\n",
    "noise_indx7 = np.where((new_noise >= 1.4) & (new_noise < 1.6))\n",
    "noise_indx8 = np.where((new_noise >= 1.6) & (new_noise < 1.8))\n",
    "noise_indx9 = np.where((new_noise >= 1.8) & (new_noise <= 2.0))"
   ]
  },
  {
   "cell_type": "code",
   "execution_count": 35,
   "metadata": {},
   "outputs": [],
   "source": [
    "#redshift_bal_fake = balancing_fake_redshift(bal_fake, var_star_dict, 0)"
   ]
  },
  {
   "cell_type": "code",
   "execution_count": 36,
   "metadata": {},
   "outputs": [],
   "source": [
    "#redshift_bal_fake.keys()"
   ]
  },
  {
   "cell_type": "code",
   "execution_count": 37,
   "metadata": {},
   "outputs": [],
   "source": [
    "# class_labels = np.asarray(var_star_dict['LOW']['CLASS'])\n",
    "# quasar_noise = np.asarray(var_star_dict['LOW']['NOISE'])\n",
    "# quasar_redshift = np.asarray(var_star_dict['LOW']['REDSHIFT'])\n",
    "\n",
    "# arr_indx = np.where(class_labels == 'QSO')\n",
    "\n",
    "\n",
    "\n",
    "# fig, (ax1, ax2) = plt.subplots(1, 2, sharex=True, figsize=(18, 4))\n",
    "# ax1.hist(quasar_redshift[arr_indx], bins = 10);\n",
    "# ax1.set_title('Low SN Variable QSO Redshift Distribution', fontsize=18);\n",
    "# ax1.set_xlabel('Noise')\n",
    "# ax1.set_ylabel('Number per bin')\n",
    "# ax1.set_ylim(0,400)\n",
    "\n",
    "# ax2.hist(redshift_bal_fake['REDSHIFT'], bins = 10)\n",
    "# ax2.set_title('Fake low SN Noise Model Redshift Distribution', fontsize=18);\n",
    "# ax2.set_xlabel('Noise')\n",
    "# ax2.set_ylabel('Number per bin')\n",
    "# ax2.set_ylim(0,400)"
   ]
  },
  {
   "cell_type": "code",
   "execution_count": 38,
   "metadata": {},
   "outputs": [],
   "source": [
    "# class_labels = np.asarray(var_star_dict['LOW']['CLASS'])\n",
    "# quasar_noise = np.asarray(var_star_dict['LOW']['NOISE'])\n",
    "# arr_indx = np.asarray(np.where(class_labels == 'QSO'))\n",
    "# quasar_redshift = np.asarray(var_star_dict['LOW']['REDSHIFT'])\n",
    "\n",
    "# bin_list = [0, .2, .4, .6, .8, 1.0, 1.2, 1.4, 1.6, 1.8, 2.]\n",
    "\n",
    "\n",
    "# fig, (ax1, ax2) = plt.subplots(1, 2, sharex=True, figsize=(18, 4))\n",
    "# ax1.hist(quasar_noise[arr_indx], bins = bin_list);\n",
    "# ax1.set_title('Low SN Variable QSO Noise Distribution', fontsize=18);\n",
    "# ax1.set_xlabel('Noise')\n",
    "# ax1.set_ylabel('Number per bin')\n",
    "# ax1.set_ylim(0,450)\n",
    "\n",
    "# ax2.hist(np.asarray(bal_fake['FAKE_NOISE']), bins = bin_list)\n",
    "# ax2.set_title('Fake low SN Noise Model Noise Distribution', fontsize=18);\n",
    "# ax2.set_xlabel('Noise')\n",
    "# ax2.set_ylabel('Number per bin')\n",
    "# ax2.set_ylim(0,450)"
   ]
  },
  {
   "cell_type": "code",
   "execution_count": null,
   "metadata": {},
   "outputs": [],
   "source": []
  },
  {
   "cell_type": "code",
   "execution_count": null,
   "metadata": {},
   "outputs": [],
   "source": []
  }
 ],
 "metadata": {
  "kernelspec": {
   "display_name": "Python 3",
   "language": "python",
   "name": "python3"
  },
  "language_info": {
   "codemirror_mode": {
    "name": "ipython",
    "version": 3
   },
   "file_extension": ".py",
   "mimetype": "text/x-python",
   "name": "python",
   "nbconvert_exporter": "python",
   "pygments_lexer": "ipython3",
   "version": "3.6.7"
  }
 },
 "nbformat": 4,
 "nbformat_minor": 2
}
