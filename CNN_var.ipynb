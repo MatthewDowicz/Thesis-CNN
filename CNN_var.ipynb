{
 "cells": [
  {
   "cell_type": "code",
   "execution_count": 1,
   "metadata": {},
   "outputs": [
    {
     "name": "stderr",
     "output_type": "stream",
     "text": [
      "Using TensorFlow backend.\n",
      "/Users/matt/anaconda3/envs/ML/lib/python3.6/site-packages/tensorflow/python/framework/dtypes.py:526: FutureWarning: Passing (type, 1) or '1type' as a synonym of type is deprecated; in a future version of numpy, it will be understood as (type, (1,)) / '(1,)type'.\n",
      "  _np_qint8 = np.dtype([(\"qint8\", np.int8, 1)])\n",
      "/Users/matt/anaconda3/envs/ML/lib/python3.6/site-packages/tensorflow/python/framework/dtypes.py:527: FutureWarning: Passing (type, 1) or '1type' as a synonym of type is deprecated; in a future version of numpy, it will be understood as (type, (1,)) / '(1,)type'.\n",
      "  _np_quint8 = np.dtype([(\"quint8\", np.uint8, 1)])\n",
      "/Users/matt/anaconda3/envs/ML/lib/python3.6/site-packages/tensorflow/python/framework/dtypes.py:528: FutureWarning: Passing (type, 1) or '1type' as a synonym of type is deprecated; in a future version of numpy, it will be understood as (type, (1,)) / '(1,)type'.\n",
      "  _np_qint16 = np.dtype([(\"qint16\", np.int16, 1)])\n",
      "/Users/matt/anaconda3/envs/ML/lib/python3.6/site-packages/tensorflow/python/framework/dtypes.py:529: FutureWarning: Passing (type, 1) or '1type' as a synonym of type is deprecated; in a future version of numpy, it will be understood as (type, (1,)) / '(1,)type'.\n",
      "  _np_quint16 = np.dtype([(\"quint16\", np.uint16, 1)])\n",
      "/Users/matt/anaconda3/envs/ML/lib/python3.6/site-packages/tensorflow/python/framework/dtypes.py:530: FutureWarning: Passing (type, 1) or '1type' as a synonym of type is deprecated; in a future version of numpy, it will be understood as (type, (1,)) / '(1,)type'.\n",
      "  _np_qint32 = np.dtype([(\"qint32\", np.int32, 1)])\n",
      "/Users/matt/anaconda3/envs/ML/lib/python3.6/site-packages/tensorflow/python/framework/dtypes.py:535: FutureWarning: Passing (type, 1) or '1type' as a synonym of type is deprecated; in a future version of numpy, it will be understood as (type, (1,)) / '(1,)type'.\n",
      "  np_resource = np.dtype([(\"resource\", np.ubyte, 1)])\n"
     ]
    }
   ],
   "source": [
    "from __future__ import absolute_import, division, print_function, unicode_literals\n",
    "import keras\n",
    "from keras import regularizers\n",
    "import numpy as np\n",
    "import matplotlib.pyplot as plt\n",
    "from astropy.io import fits\n",
    "from astropy.table import Table\n",
    "import numpy as np\n",
    "import seaborn as sns\n",
    "import os\n",
    "import re\n",
    "import time\n",
    "import pickle\n",
    "import pandas as pd\n",
    "import sklearn\n",
    "from sklearn.metrics import roc_curve\n",
    "from sklearn.metrics import auc\n",
    "\n",
    "sns.set()"
   ]
  },
  {
   "cell_type": "markdown",
   "metadata": {},
   "source": [
    "## Train low SN variable Quasars & test on low"
   ]
  },
  {
   "cell_type": "code",
   "execution_count": 2,
   "metadata": {},
   "outputs": [],
   "source": [
    "def reading_in_data(filename):\n",
    "    \n",
    "    filename = str(filename)\n",
    "\n",
    "    infile = open(filename,'rb')\n",
    "    new_dict = pickle.load(infile)\n",
    "    infile.close()\n",
    "    \n",
    "    return new_dict\n",
    "\n",
    "def creating_datasets(data_dict):\n",
    "    \n",
    "    train_images = data_dict['IMAGES'][:8265, :, :, :]\n",
    "    train_labels = data_dict['LABELS'][:8265]\n",
    "\n",
    "    val_images = data_dict['IMAGES'][8265:10035, :, :, :]\n",
    "    val_labels = data_dict['LABELS'][8265:10035]\n",
    "\n",
    "    test_images = data_dict['IMAGES'][10035:11806, :, :, :]\n",
    "    test_labels = data_dict['LABELS'][10035:11806]\n",
    "    \n",
    "    data = {'TRAIN_IMG': train_images, 'TRAIN_LABELS': train_labels, 'VAL_IMAGES': val_images,\\\n",
    "            'VAL_LABELS': val_labels, 'TEST_IMG': test_images, 'TEST_LABELS': train_labels}\n"
   ]
  },
  {
   "cell_type": "code",
   "execution_count": 3,
   "metadata": {},
   "outputs": [],
   "source": [
    "input_data_var = \\\n",
    "pd.read_pickle(\"/Users/matt/Desktop/DESI_Research/DESI_ML/var_CNN/Dictionaries/corrected_preprocessed_joined_obj_dict/var_star_preprocessed_data_low\")\n",
    "\n",
    "\n"
   ]
  },
  {
   "cell_type": "code",
   "execution_count": 4,
   "metadata": {},
   "outputs": [
    {
     "data": {
      "text/plain": [
       "4910"
      ]
     },
     "execution_count": 4,
     "metadata": {},
     "output_type": "execute_result"
    }
   ],
   "source": [
    "len(input_data_var['LABELS'])"
   ]
  },
  {
   "cell_type": "code",
   "execution_count": 5,
   "metadata": {},
   "outputs": [],
   "source": [
    "#input_data_var = reading_in_data(\"var_star_preprocessed_data_low\")"
   ]
  },
  {
   "cell_type": "code",
   "execution_count": 6,
   "metadata": {},
   "outputs": [
    {
     "data": {
      "image/png": "[encoded data removed]",
      "text/plain": [
       "<Figure size 432x288 with 1 Axes>"
      ]
     },
     "metadata": {
      "needs_background": "light"
     },
     "output_type": "display_data"
    }
   ],
   "source": [
    "a,b,c = plt.hist(input_data_var['NOISE'], bins= 12)"
   ]
  },
  {
   "cell_type": "code",
   "execution_count": 7,
   "metadata": {},
   "outputs": [],
   "source": [
    "# plt.plot(input_data_var['WAVE'][10000], input_data_var['FLUX'][10000], label = input_data_var['LABELS'][10000])\n",
    "# plt.legend()"
   ]
  },
  {
   "cell_type": "code",
   "execution_count": 8,
   "metadata": {},
   "outputs": [],
   "source": [
    "# train_images = input_data_var['IMAGES'][:1181, :, :, :]\n",
    "# print(np.shape(train_images))\n",
    "# train_labels = input_data_var['LABELS'][:1181]\n",
    "# print(np.shape(train_labels))\n",
    "\n",
    "# val_images = input_data_var['IMAGES'][1181:2362, :, :, :]\n",
    "# print(np.shape(val_images))\n",
    "# val_labels = input_data_var['LABELS'][1181:2362]\n",
    "# print(np.shape(val_labels))\n",
    "\n",
    "# test_images = input_data_var['IMAGES'][2362:, :, :, :]\n",
    "# print(np.shape(test_images))\n",
    "# test_labels = input_data_var['LABELS'][2362:]\n",
    "# print(np.shape(test_labels))"
   ]
  },
  {
   "cell_type": "markdown",
   "metadata": {},
   "source": [
    "### The code below is for a 70/15/15 split"
   ]
  },
  {
   "cell_type": "code",
   "execution_count": 9,
   "metadata": {},
   "outputs": [
    {
     "name": "stdout",
     "output_type": "stream",
     "text": [
      "(3438, 1, 3681, 1)\n",
      "(3438,)\n",
      "(736, 1, 3681, 1)\n",
      "(736,)\n",
      "(736, 1, 3681, 1)\n",
      "(736,)\n"
     ]
    }
   ],
   "source": [
    "train_images = input_data_var['IMAGES'][:3438, :, :, :]\n",
    "print(np.shape(train_images))\n",
    "train_labels = input_data_var['LABELS'][:3438]\n",
    "print(np.shape(train_labels))\n",
    "\n",
    "val_images = input_data_var['IMAGES'][3438:4174, :, :, :]\n",
    "print(np.shape(val_images))\n",
    "val_labels = input_data_var['LABELS'][3438:4174]\n",
    "print(np.shape(val_labels))\n",
    "\n",
    "test_images = input_data_var['IMAGES'][4174:4910, :, :, :]\n",
    "print(np.shape(test_images))\n",
    "test_labels = input_data_var['LABELS'][4174:4910]\n",
    "print(np.shape(test_labels))"
   ]
  },
  {
   "cell_type": "code",
   "execution_count": 10,
   "metadata": {},
   "outputs": [
    {
     "data": {
      "text/plain": [
       "Text(0.5, 1.0, 'stars are 1 & qsos are 0')"
      ]
     },
     "execution_count": 10,
     "metadata": {},
     "output_type": "execute_result"
    },
    {
     "data": {
      "image/png": "[encoded data removed]",
      "text/plain": [
       "<Figure size 432x288 with 1 Axes>"
      ]
     },
     "metadata": {
      "needs_background": "light"
     },
     "output_type": "display_data"
    }
   ],
   "source": [
    "a,b,c = plt.hist(train_labels, bins=50)\n",
    "plt.title('stars are 1 & qsos are 0')"
   ]
  },
  {
   "cell_type": "code",
   "execution_count": 11,
   "metadata": {},
   "outputs": [
    {
     "data": {
      "text/plain": [
       "Text(0.5, 1.0, 'stars are 1 & qsos are 0')"
      ]
     },
     "execution_count": 11,
     "metadata": {},
     "output_type": "execute_result"
    },
    {
     "data": {
      "image/png": "[encoded data removed]",
      "text/plain": [
       "<Figure size 432x288 with 1 Axes>"
      ]
     },
     "metadata": {
      "needs_background": "light"
     },
     "output_type": "display_data"
    }
   ],
   "source": [
    "a,b,c = plt.hist(val_labels, bins=50)\n",
    "plt.title('stars are 1 & qsos are 0')"
   ]
  },
  {
   "cell_type": "code",
   "execution_count": 12,
   "metadata": {},
   "outputs": [
    {
     "data": {
      "text/plain": [
       "Text(0.5, 1.0, 'stars are 1 & qsos are 0')"
      ]
     },
     "execution_count": 12,
     "metadata": {},
     "output_type": "execute_result"
    },
    {
     "data": {
      "image/png": "[encoded data removed]",
      "text/plain": [
       "<Figure size 432x288 with 1 Axes>"
      ]
     },
     "metadata": {
      "needs_background": "light"
     },
     "output_type": "display_data"
    }
   ],
   "source": [
    "a,b,c = plt.hist(test_labels, bins=50)\n",
    "plt.title('stars are 1 & qsos are 0')"
   ]
  },
  {
   "cell_type": "code",
   "execution_count": 13,
   "metadata": {},
   "outputs": [
    {
     "data": {
      "text/plain": [
       "{0.0: 1749, 1.0: 1689}"
      ]
     },
     "execution_count": 13,
     "metadata": {},
     "output_type": "execute_result"
    }
   ],
   "source": [
    "unique, counts = np.unique(train_labels, return_counts=True)\n",
    "dict(zip(unique, counts))"
   ]
  },
  {
   "cell_type": "code",
   "execution_count": 14,
   "metadata": {},
   "outputs": [
    {
     "data": {
      "text/plain": [
       "{0.0: 361, 1.0: 375}"
      ]
     },
     "execution_count": 14,
     "metadata": {},
     "output_type": "execute_result"
    }
   ],
   "source": [
    "unique, counts = np.unique(val_labels, return_counts=True)\n",
    "dict(zip(unique, counts))"
   ]
  },
  {
   "cell_type": "code",
   "execution_count": 15,
   "metadata": {},
   "outputs": [
    {
     "data": {
      "text/plain": [
       "{0.0: 345, 1.0: 391}"
      ]
     },
     "execution_count": 15,
     "metadata": {},
     "output_type": "execute_result"
    }
   ],
   "source": [
    "unique, counts = np.unique(test_labels, return_counts=True)\n",
    "dict(zip(unique, counts))"
   ]
  },
  {
   "cell_type": "code",
   "execution_count": 16,
   "metadata": {},
   "outputs": [],
   "source": [
    "# stars = []\n",
    "\n",
    "# quasars = []\n",
    "\n",
    "# for i in range(len(train_labels)):\n",
    "    \n",
    "#     if train_labels[i] == 1:\n",
    "#         stars.append(train_labels[i])\n",
    "        \n",
    "#     elif train_labels[i] == 0.:\n",
    "#         quasars.append(train_labels[i])\n",
    "        \n",
    "# print('# of QSOS =', len(quasars))\n",
    "# print('# of stars =', len(stars))"
   ]
  },
  {
   "cell_type": "code",
   "execution_count": 17,
   "metadata": {},
   "outputs": [
    {
     "name": "stdout",
     "output_type": "stream",
     "text": [
      "WARNING:tensorflow:From /Users/matt/anaconda3/envs/ML/lib/python3.6/site-packages/tensorflow/python/framework/op_def_library.py:263: colocate_with (from tensorflow.python.framework.ops) is deprecated and will be removed in a future version.\n",
      "Instructions for updating:\n",
      "Colocations handled automatically by placer.\n",
      "_________________________________________________________________\n",
      "Layer (type)                 Output Shape              Param #   \n",
      "=================================================================\n",
      "conv2d_1 (Conv2D)            (None, 1, 3670, 12)       156       \n",
      "_________________________________________________________________\n",
      "max_pooling2d_1 (MaxPooling2 (None, 1, 917, 12)        0         \n",
      "_________________________________________________________________\n",
      "conv2d_2 (Conv2D)            (None, 1, 912, 18)        1314      \n",
      "_________________________________________________________________\n",
      "max_pooling2d_2 (MaxPooling2 (None, 1, 228, 18)        0         \n",
      "_________________________________________________________________\n",
      "conv2d_3 (Conv2D)            (None, 1, 223, 24)        2616      \n",
      "_________________________________________________________________\n",
      "max_pooling2d_3 (MaxPooling2 (None, 1, 55, 24)         0         \n",
      "_________________________________________________________________\n",
      "flatten_1 (Flatten)          (None, 1320)              0         \n",
      "_________________________________________________________________\n",
      "dense_1 (Dense)              (None, 256)               338176    \n",
      "_________________________________________________________________\n",
      "dense_2 (Dense)              (None, 1)                 257       \n",
      "=================================================================\n",
      "Total params: 342,519\n",
      "Trainable params: 342,519\n",
      "Non-trainable params: 0\n",
      "_________________________________________________________________\n"
     ]
    }
   ],
   "source": [
    "model = keras.Sequential()\n",
    "model.add(keras.layers.Conv2D(12, (1, 12), activation='relu', input_shape=(1, 3681, 1), data_format='channels_last'))\n",
    "model.add(keras.layers.MaxPooling2D( (1, 4)))\n",
    "\n",
    "model.add(keras.layers.Conv2D(18, (1, 6), activation='relu', data_format='channels_last'))\n",
    "model.add(keras.layers.MaxPooling2D((1, 4)))\n",
    "\n",
    "model.add(keras.layers.Conv2D(24, (1, 6), activation='relu', data_format='channels_last'))\n",
    "model.add(keras.layers.MaxPooling2D((1, 4)))\n",
    "\n",
    "model.add(keras.layers.Flatten())\n",
    "model.add(keras.layers.Dense(units = 256, activation = 'relu'))\n",
    "model.add(keras.layers.Dense(units = 1, activation = 'sigmoid'))\n",
    "\n",
    "\n",
    "opt = keras.optimizers.SGD(lr = 5e-3, momentum = 0.25, decay = 1e-5)\n",
    "model.compile(loss='binary_crossentropy', optimizer = opt  , metrics = ['accuracy'])\n",
    "\n",
    "model.summary()"
   ]
  },
  {
   "cell_type": "code",
   "execution_count": 18,
   "metadata": {
    "scrolled": true
   },
   "outputs": [
    {
     "name": "stdout",
     "output_type": "stream",
     "text": [
      "WARNING:tensorflow:From /Users/matt/anaconda3/envs/ML/lib/python3.6/site-packages/tensorflow/python/ops/math_ops.py:3066: to_int32 (from tensorflow.python.ops.math_ops) is deprecated and will be removed in a future version.\n",
      "Instructions for updating:\n",
      "Use tf.cast instead.\n",
      "Train on 3438 samples, validate on 736 samples\n",
      "Epoch 1/80\n",
      "3438/3438 [==============================] - 4s 1ms/step - loss: 0.6940 - acc: 0.4869 - val_loss: 0.6932 - val_acc: 0.5136\n",
      "Epoch 2/80\n",
      "3438/3438 [==============================] - 4s 1ms/step - loss: 0.6929 - acc: 0.5189 - val_loss: 0.6927 - val_acc: 0.5163\n",
      "Epoch 3/80\n",
      "3438/3438 [==============================] - 4s 1ms/step - loss: 0.6923 - acc: 0.5294 - val_loss: 0.6922 - val_acc: 0.4986\n",
      "Epoch 4/80\n",
      "3438/3438 [==============================] - 5s 1ms/step - loss: 0.6917 - acc: 0.5372 - val_loss: 0.6919 - val_acc: 0.4918\n",
      "Epoch 5/80\n",
      "3438/3438 [==============================] - 5s 1ms/step - loss: 0.6913 - acc: 0.5084 - val_loss: 0.6914 - val_acc: 0.4905\n",
      "Epoch 6/80\n",
      "3438/3438 [==============================] - 4s 1ms/step - loss: 0.6908 - acc: 0.5084 - val_loss: 0.6910 - val_acc: 0.4905\n",
      "Epoch 7/80\n",
      "3438/3438 [==============================] - 5s 1ms/step - loss: 0.6903 - acc: 0.5247 - val_loss: 0.6906 - val_acc: 0.4905\n",
      "Epoch 8/80\n",
      "3438/3438 [==============================] - 4s 1ms/step - loss: 0.6898 - acc: 0.5311 - val_loss: 0.6903 - val_acc: 0.4905\n",
      "Epoch 9/80\n",
      "3438/3438 [==============================] - 4s 1ms/step - loss: 0.6894 - acc: 0.5087 - val_loss: 0.6896 - val_acc: 0.4905\n",
      "Epoch 10/80\n",
      "3438/3438 [==============================] - 4s 1ms/step - loss: 0.6889 - acc: 0.5314 - val_loss: 0.6893 - val_acc: 0.4905\n",
      "Epoch 11/80\n",
      "3438/3438 [==============================] - 4s 1ms/step - loss: 0.6883 - acc: 0.5291 - val_loss: 0.6887 - val_acc: 0.4905\n",
      "Epoch 12/80\n",
      "3438/3438 [==============================] - 4s 1ms/step - loss: 0.6877 - acc: 0.5224 - val_loss: 0.6880 - val_acc: 0.5149\n",
      "Epoch 13/80\n",
      "3438/3438 [==============================] - 4s 1ms/step - loss: 0.6871 - acc: 0.5294 - val_loss: 0.6872 - val_acc: 0.5720\n",
      "Epoch 14/80\n",
      "3438/3438 [==============================] - 4s 1ms/step - loss: 0.6864 - acc: 0.5503 - val_loss: 0.6864 - val_acc: 0.5571\n",
      "Epoch 15/80\n",
      "3438/3438 [==============================] - 4s 1ms/step - loss: 0.6854 - acc: 0.5814 - val_loss: 0.6860 - val_acc: 0.5000\n",
      "Epoch 16/80\n",
      "3438/3438 [==============================] - 4s 1ms/step - loss: 0.6845 - acc: 0.5704 - val_loss: 0.6846 - val_acc: 0.5476\n",
      "Epoch 17/80\n",
      "3438/3438 [==============================] - 5s 1ms/step - loss: 0.6834 - acc: 0.5713 - val_loss: 0.6832 - val_acc: 0.5856\n",
      "Epoch 18/80\n",
      "3438/3438 [==============================] - 5s 2ms/step - loss: 0.6820 - acc: 0.5969 - val_loss: 0.6819 - val_acc: 0.5707\n",
      "Epoch 19/80\n",
      "3438/3438 [==============================] - 6s 2ms/step - loss: 0.6804 - acc: 0.6094 - val_loss: 0.6801 - val_acc: 0.5978\n",
      "Epoch 20/80\n",
      "3438/3438 [==============================] - 5s 1ms/step - loss: 0.6784 - acc: 0.6332 - val_loss: 0.6780 - val_acc: 0.6101\n",
      "Epoch 21/80\n",
      "3438/3438 [==============================] - 5s 1ms/step - loss: 0.6760 - acc: 0.6588 - val_loss: 0.6758 - val_acc: 0.5815\n",
      "Epoch 22/80\n",
      "3438/3438 [==============================] - 5s 1ms/step - loss: 0.6729 - acc: 0.6792 - val_loss: 0.6718 - val_acc: 0.7310\n",
      "Epoch 23/80\n",
      "3438/3438 [==============================] - 5s 1ms/step - loss: 0.6686 - acc: 0.7307 - val_loss: 0.6679 - val_acc: 0.6440\n",
      "Epoch 24/80\n",
      "3438/3438 [==============================] - 5s 1ms/step - loss: 0.6635 - acc: 0.7469 - val_loss: 0.6608 - val_acc: 0.8438\n",
      "Epoch 25/80\n",
      "3438/3438 [==============================] - 5s 1ms/step - loss: 0.6559 - acc: 0.7961 - val_loss: 0.6518 - val_acc: 0.8723\n",
      "Epoch 26/80\n",
      "3438/3438 [==============================] - 5s 1ms/step - loss: 0.6450 - acc: 0.8287 - val_loss: 0.6398 - val_acc: 0.7717\n",
      "Epoch 27/80\n",
      "3438/3438 [==============================] - 5s 1ms/step - loss: 0.6280 - acc: 0.8281 - val_loss: 0.6203 - val_acc: 0.7500\n",
      "Epoch 28/80\n",
      "3438/3438 [==============================] - 5s 1ms/step - loss: 0.6032 - acc: 0.8476 - val_loss: 0.5872 - val_acc: 0.8682\n",
      "Epoch 29/80\n",
      "3438/3438 [==============================] - 5s 1ms/step - loss: 0.5640 - acc: 0.8601 - val_loss: 0.5421 - val_acc: 0.8302\n",
      "Epoch 30/80\n",
      "3438/3438 [==============================] - 5s 1ms/step - loss: 0.5099 - acc: 0.8613 - val_loss: 0.4831 - val_acc: 0.8791\n",
      "Epoch 31/80\n",
      "3438/3438 [==============================] - 6s 2ms/step - loss: 0.4477 - acc: 0.8831 - val_loss: 0.4248 - val_acc: 0.8818\n",
      "Epoch 32/80\n",
      "3438/3438 [==============================] - 7s 2ms/step - loss: 0.3912 - acc: 0.8941 - val_loss: 0.3824 - val_acc: 0.8777\n",
      "Epoch 33/80\n",
      "3438/3438 [==============================] - 6s 2ms/step - loss: 0.3412 - acc: 0.9092 - val_loss: 0.3332 - val_acc: 0.9144\n",
      "Epoch 34/80\n",
      "3438/3438 [==============================] - 7s 2ms/step - loss: 0.2995 - acc: 0.9180 - val_loss: 0.3228 - val_acc: 0.8899\n",
      "Epoch 35/80\n",
      "3438/3438 [==============================] - 7s 2ms/step - loss: 0.2666 - acc: 0.9252 - val_loss: 0.2656 - val_acc: 0.9334\n",
      "Epoch 36/80\n",
      "3438/3438 [==============================] - 6s 2ms/step - loss: 0.2380 - acc: 0.9348 - val_loss: 0.2426 - val_acc: 0.9361\n",
      "Epoch 37/80\n",
      "3438/3438 [==============================] - 5s 2ms/step - loss: 0.2178 - acc: 0.9415 - val_loss: 0.2221 - val_acc: 0.9524\n",
      "Epoch 38/80\n",
      "3438/3438 [==============================] - 6s 2ms/step - loss: 0.2004 - acc: 0.9442 - val_loss: 0.2079 - val_acc: 0.9565\n",
      "Epoch 39/80\n",
      "3438/3438 [==============================] - 7s 2ms/step - loss: 0.1869 - acc: 0.9488 - val_loss: 0.1971 - val_acc: 0.9524\n",
      "Epoch 40/80\n",
      "3438/3438 [==============================] - 6s 2ms/step - loss: 0.1750 - acc: 0.9482 - val_loss: 0.1841 - val_acc: 0.9592\n",
      "Epoch 41/80\n",
      "3438/3438 [==============================] - 5s 1ms/step - loss: 0.1637 - acc: 0.9532 - val_loss: 0.1771 - val_acc: 0.9552\n",
      "Epoch 42/80\n",
      "3438/3438 [==============================] - 5s 1ms/step - loss: 0.1527 - acc: 0.9578 - val_loss: 0.1649 - val_acc: 0.9606\n",
      "Epoch 43/80\n",
      "3438/3438 [==============================] - 4s 1ms/step - loss: 0.1451 - acc: 0.9590 - val_loss: 0.1574 - val_acc: 0.9606\n",
      "Epoch 44/80\n",
      "3438/3438 [==============================] - 4s 1ms/step - loss: 0.1362 - acc: 0.9599 - val_loss: 0.1515 - val_acc: 0.9633\n",
      "Epoch 45/80\n",
      "3438/3438 [==============================] - 4s 1ms/step - loss: 0.1319 - acc: 0.9593 - val_loss: 0.1538 - val_acc: 0.9552\n",
      "Epoch 46/80\n",
      "3438/3438 [==============================] - 5s 1ms/step - loss: 0.1242 - acc: 0.9639 - val_loss: 0.1402 - val_acc: 0.9674\n",
      "Epoch 47/80\n",
      "3438/3438 [==============================] - 5s 1ms/step - loss: 0.1213 - acc: 0.9642 - val_loss: 0.1332 - val_acc: 0.9688\n",
      "Epoch 48/80\n",
      "3438/3438 [==============================] - 4s 1ms/step - loss: 0.1142 - acc: 0.9695 - val_loss: 0.1349 - val_acc: 0.9592\n",
      "Epoch 49/80\n",
      "3438/3438 [==============================] - 4s 1ms/step - loss: 0.1095 - acc: 0.9695 - val_loss: 0.1237 - val_acc: 0.9688\n",
      "Epoch 50/80\n",
      "3438/3438 [==============================] - 4s 1ms/step - loss: 0.1064 - acc: 0.9695 - val_loss: 0.1208 - val_acc: 0.9674\n",
      "Epoch 51/80\n",
      "3438/3438 [==============================] - 4s 1ms/step - loss: 0.1018 - acc: 0.9703 - val_loss: 0.1620 - val_acc: 0.9470\n",
      "Epoch 52/80\n",
      "3438/3438 [==============================] - 4s 1ms/step - loss: 0.0974 - acc: 0.9709 - val_loss: 0.1144 - val_acc: 0.9647\n",
      "Epoch 53/80\n",
      "3438/3438 [==============================] - 4s 1ms/step - loss: 0.0954 - acc: 0.9706 - val_loss: 0.1106 - val_acc: 0.9647\n",
      "Epoch 54/80\n",
      "3438/3438 [==============================] - 4s 1ms/step - loss: 0.0951 - acc: 0.9721 - val_loss: 0.1113 - val_acc: 0.9660\n",
      "Epoch 55/80\n",
      "3438/3438 [==============================] - 4s 1ms/step - loss: 0.0898 - acc: 0.9735 - val_loss: 0.1151 - val_acc: 0.9674\n",
      "Epoch 56/80\n",
      "3438/3438 [==============================] - 4s 1ms/step - loss: 0.0894 - acc: 0.9727 - val_loss: 0.1029 - val_acc: 0.9674\n",
      "Epoch 57/80\n",
      "3438/3438 [==============================] - 4s 1ms/step - loss: 0.0868 - acc: 0.9715 - val_loss: 0.0960 - val_acc: 0.9742\n",
      "Epoch 58/80\n",
      "3438/3438 [==============================] - 4s 1ms/step - loss: 0.0841 - acc: 0.9759 - val_loss: 0.1022 - val_acc: 0.9688\n",
      "Epoch 59/80\n"
     ]
    },
    {
     "name": "stdout",
     "output_type": "stream",
     "text": [
      "3438/3438 [==============================] - 4s 1ms/step - loss: 0.0793 - acc: 0.9785 - val_loss: 0.1202 - val_acc: 0.9606\n",
      "Epoch 60/80\n",
      "3438/3438 [==============================] - 4s 1ms/step - loss: 0.0770 - acc: 0.9776 - val_loss: 0.0905 - val_acc: 0.9728\n",
      "Epoch 61/80\n",
      "3438/3438 [==============================] - 4s 1ms/step - loss: 0.0770 - acc: 0.9767 - val_loss: 0.0876 - val_acc: 0.9755\n",
      "Epoch 62/80\n",
      "3438/3438 [==============================] - 4s 1ms/step - loss: 0.0712 - acc: 0.9791 - val_loss: 0.0869 - val_acc: 0.9742\n",
      "Epoch 63/80\n",
      "3438/3438 [==============================] - 4s 1ms/step - loss: 0.0701 - acc: 0.9782 - val_loss: 0.0841 - val_acc: 0.9742\n",
      "Epoch 64/80\n",
      "3438/3438 [==============================] - 4s 1ms/step - loss: 0.0715 - acc: 0.9773 - val_loss: 0.1131 - val_acc: 0.9647\n",
      "Epoch 65/80\n",
      "3438/3438 [==============================] - 4s 1ms/step - loss: 0.0661 - acc: 0.9791 - val_loss: 0.0888 - val_acc: 0.9701\n",
      "Epoch 66/80\n",
      "3438/3438 [==============================] - 4s 1ms/step - loss: 0.0696 - acc: 0.9776 - val_loss: 0.0919 - val_acc: 0.9715\n",
      "Epoch 67/80\n",
      "3438/3438 [==============================] - 4s 1ms/step - loss: 0.0666 - acc: 0.9788 - val_loss: 0.0789 - val_acc: 0.9742\n",
      "Epoch 68/80\n",
      "3438/3438 [==============================] - 4s 1ms/step - loss: 0.0637 - acc: 0.9773 - val_loss: 0.0838 - val_acc: 0.9755\n",
      "Epoch 69/80\n",
      "3438/3438 [==============================] - 4s 1ms/step - loss: 0.0606 - acc: 0.9823 - val_loss: 0.0927 - val_acc: 0.9688\n",
      "Epoch 70/80\n",
      "3438/3438 [==============================] - 4s 1ms/step - loss: 0.0644 - acc: 0.9799 - val_loss: 0.0739 - val_acc: 0.9783\n",
      "Epoch 71/80\n",
      "3438/3438 [==============================] - 4s 1ms/step - loss: 0.0646 - acc: 0.9799 - val_loss: 0.1455 - val_acc: 0.9592\n",
      "Epoch 72/80\n",
      "3438/3438 [==============================] - 4s 1ms/step - loss: 0.0623 - acc: 0.9779 - val_loss: 0.1629 - val_acc: 0.9565\n",
      "Epoch 73/80\n",
      "3438/3438 [==============================] - 4s 1ms/step - loss: 0.0574 - acc: 0.9796 - val_loss: 0.1180 - val_acc: 0.9606\n",
      "Epoch 74/80\n",
      "3438/3438 [==============================] - 4s 1ms/step - loss: 0.0540 - acc: 0.9825 - val_loss: 0.0725 - val_acc: 0.9796\n",
      "Epoch 75/80\n",
      "3438/3438 [==============================] - 4s 1ms/step - loss: 0.0582 - acc: 0.9817 - val_loss: 0.1166 - val_acc: 0.9633\n",
      "Epoch 76/80\n",
      "3438/3438 [==============================] - 4s 1ms/step - loss: 0.0561 - acc: 0.9843 - val_loss: 0.0692 - val_acc: 0.9796\n",
      "Epoch 77/80\n",
      "3438/3438 [==============================] - 4s 1ms/step - loss: 0.0543 - acc: 0.9828 - val_loss: 0.1242 - val_acc: 0.9620\n",
      "Epoch 78/80\n",
      "3438/3438 [==============================] - 4s 1ms/step - loss: 0.0559 - acc: 0.9796 - val_loss: 0.0790 - val_acc: 0.9769\n",
      "Epoch 79/80\n",
      "3438/3438 [==============================] - 4s 1ms/step - loss: 0.0626 - acc: 0.9799 - val_loss: 0.0739 - val_acc: 0.9810\n",
      "Epoch 80/80\n",
      "3438/3438 [==============================] - 4s 1ms/step - loss: 0.0537 - acc: 0.9825 - val_loss: 0.0819 - val_acc: 0.9674\n"
     ]
    }
   ],
   "source": [
    "history = model.fit(train_images,\n",
    "train_labels,\n",
    "epochs= 80,\n",
    "batch_size= 32,\n",
    "validation_data=(val_images, val_labels))"
   ]
  },
  {
   "cell_type": "code",
   "execution_count": 28,
   "metadata": {},
   "outputs": [
    {
     "name": "stdout",
     "output_type": "stream",
     "text": [
      "736/736 [==============================] - 0s 659us/step\n",
      "Test loss = 0.08318113786694796\n",
      "Test accuracy = 0.9714673913043478\n"
     ]
    },
    {
     "data": {
      "image/png": "[encoded data removed]",
      "text/plain": [
       "<Figure size 432x288 with 1 Axes>"
      ]
     },
     "metadata": {
      "needs_background": "light"
     },
     "output_type": "display_data"
    }
   ],
   "source": [
    "test_loss, test_acc = model.evaluate(test_images, test_labels)\n",
    "\n",
    "print('Test loss = ' +str(test_loss))\n",
    "print('Test accuracy = ' +str(test_acc))\n",
    "\n",
    "y_pred_keras = model.predict(test_images).ravel()\n",
    "fpr_keras, tpr_keras, thresholds_keras = roc_curve(test_labels, y_pred_keras)\n",
    "\n",
    "auc_keras = auc(fpr_keras, tpr_keras)\n",
    "\n",
    "\n",
    "plt.figure(1)\n",
    "plt.plot([0, 1], [0, 1], 'k--')\n",
    "plt.plot(fpr_keras, tpr_keras, label='Keras (area = {:.3f})'.format(auc_keras))\n",
    "plt.xlabel('False positive rate')\n",
    "plt.ylabel('True positive rate')\n",
    "plt.title('ROC curve of the Test Set of the Variability Trained CNN')\n",
    "plt.legend(loc='best')\n",
    "plt.show()"
   ]
  },
  {
   "cell_type": "code",
   "execution_count": 27,
   "metadata": {
    "scrolled": false
   },
   "outputs": [
    {
     "data": {
      "image/png": "[encoded data removed]",
      "text/plain": [
       "<Figure size 432x288 with 1 Axes>"
      ]
     },
     "metadata": {
      "needs_background": "light"
     },
     "output_type": "display_data"
    },
    {
     "data": {
      "image/png": "[encoded data removed]",
      "text/plain": [
       "<Figure size 432x288 with 1 Axes>"
      ]
     },
     "metadata": {
      "needs_background": "light"
     },
     "output_type": "display_data"
    }
   ],
   "source": [
    "acc = history.history['acc']\n",
    "val_acc = history.history['val_acc']\n",
    "loss = history.history['loss']\n",
    "val_loss = history.history['val_loss']\n",
    "\n",
    "epochs = range(1, len(acc) + 1)\n",
    "\n",
    "\n",
    "plt.plot(epochs, acc, 'bo', label='Training acc')\n",
    "plt.plot(epochs, val_acc, 'b', label='Validation acc')\n",
    "plt.xlabel('Epochs')\n",
    "plt.ylabel('Accuracy')\n",
    "plt.title('Training and validation accuracy for Variable Low S/N ')\n",
    "plt.legend()\n",
    "\n",
    "plt.figure()\n",
    "plt.plot(epochs, loss, 'bo', label='Training loss')\n",
    "plt.plot(epochs, val_loss, 'b', label='Validation loss')\n",
    "plt.title('Training and validation loss for Variable Low S/N')\n",
    "plt.xlabel('Epochs')\n",
    "plt.ylabel('Loss')\n",
    "plt.legend()\n",
    "plt.show()\n"
   ]
  },
  {
   "cell_type": "code",
   "execution_count": 21,
   "metadata": {},
   "outputs": [],
   "source": [
    "model.save('low_var_trained_CNN.h5')\n"
   ]
  },
  {
   "cell_type": "markdown",
   "metadata": {},
   "source": [
    "## Train high SN Quasars & test on low"
   ]
  },
  {
   "cell_type": "code",
   "execution_count": 22,
   "metadata": {},
   "outputs": [],
   "source": [
    "# input_data_quasar_high = reading_in_data(\"quasar_star_preprocessed_data_high\")\n",
    "\n",
    "# input_data_quasar_low = reading_in_data(\"quasar_star_preprocessed_data\")"
   ]
  },
  {
   "cell_type": "code",
   "execution_count": 23,
   "metadata": {},
   "outputs": [],
   "source": [
    "# train_images = input_data_quasar_high['IMAGES'][:8265, :, :, :]\n",
    "# print(np.shape(train_images))\n",
    "# train_labels = input_data_quasar_high['LABELS'][:8265]\n",
    "# print(np.shape(train_labels))\n",
    "\n",
    "# val_images = input_data_quasar_high['IMAGES'][8265:10035, :, :, :]\n",
    "# print(np.shape(val_images))\n",
    "# val_labels = input_data_quasar_high['LABELS'][8265:10035]\n",
    "# print(np.shape(val_labels))\n",
    "\n",
    "# test_images = input_data_quasar_low['IMAGES'][10035:11806, :, :, :]\n",
    "# print(np.shape(test_images))\n",
    "# test_labels = input_data_quasar_low['LABELS'][10035:11806]\n",
    "# print(np.shape(test_labels))"
   ]
  },
  {
   "cell_type": "code",
   "execution_count": 24,
   "metadata": {},
   "outputs": [],
   "source": [
    "# model = keras.Sequential()\n",
    "# model.add(keras.layers.Conv2D(12, (1, 12), activation='relu', input_shape=(1, 3681, 1), data_format='channels_last'))\n",
    "# model.add(keras.layers.MaxPooling2D( (1, 4)))\n",
    "\n",
    "# model.add(keras.layers.Conv2D(18, (1, 6), activation='relu', data_format='channels_last'))\n",
    "# model.add(keras.layers.MaxPooling2D((1, 4)))\n",
    "\n",
    "# model.add(keras.layers.Conv2D(24, (1, 6), activation='relu', data_format='channels_last'))\n",
    "# model.add(keras.layers.MaxPooling2D((1, 4)))\n",
    "\n",
    "# model.add(keras.layers.Flatten())\n",
    "# model.add(keras.layers.Dense(units = 256, activation = 'relu'))\n",
    "# model.add(keras.layers.Dense(units = 1, activation = 'sigmoid'))\n",
    "\n",
    "\n",
    "# opt = keras.optimizers.SGD(lr = 5e-3, momentum = 0.25, decay = 1e-5)\n",
    "# model.compile(loss='binary_crossentropy', optimizer = opt  , metrics = ['accuracy'])\n",
    "\n",
    "# model.summary()"
   ]
  },
  {
   "cell_type": "code",
   "execution_count": 25,
   "metadata": {},
   "outputs": [],
   "source": [
    "# history = model.fit(train_images,\n",
    "# train_labels,\n",
    "# epochs= 15,\n",
    "# batch_size= 64,\n",
    "# validation_data=(val_images, val_labels))"
   ]
  },
  {
   "cell_type": "code",
   "execution_count": 26,
   "metadata": {},
   "outputs": [],
   "source": [
    "# test_loss, test_acc = model.evaluate(test_images, test_labels)\n",
    "\n",
    "# print('Test loss = ' +str(test_loss))\n",
    "# print('Test accuracy = ' +str(test_acc))"
   ]
  },
  {
   "cell_type": "code",
   "execution_count": null,
   "metadata": {},
   "outputs": [],
   "source": []
  }
 ],
 "metadata": {
  "kernelspec": {
   "display_name": "Python 3",
   "language": "python",
   "name": "python3"
  },
  "language_info": {
   "codemirror_mode": {
    "name": "ipython",
    "version": 3
   },
   "file_extension": ".py",
   "mimetype": "text/x-python",
   "name": "python",
   "nbconvert_exporter": "python",
   "pygments_lexer": "ipython3",
   "version": "3.6.7"
  }
 },
 "nbformat": 4,
 "nbformat_minor": 2
}
