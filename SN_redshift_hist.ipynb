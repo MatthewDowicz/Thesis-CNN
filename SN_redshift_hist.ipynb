{
 "cells": [
  {
   "cell_type": "code",
   "execution_count": 1,
   "metadata": {},
   "outputs": [],
   "source": [
    "import numpy as np\n",
    "import matplotlib.pyplot as plt\n",
    "from astropy.io import fits\n",
    "from astropy.table import Table\n",
    "import numpy as np\n",
    "import seaborn as sns\n",
    "import os\n",
    "import shutil\n",
    "import pickle\n",
    "import re\n",
    "import time\n",
    "import sys\n",
    "import pdb\n",
    "import pandas as pd\n",
    "\n",
    "\n",
    "sns.set()"
   ]
  },
  {
   "cell_type": "code",
   "execution_count": 2,
   "metadata": {},
   "outputs": [],
   "source": [
    "def creating_SN_data(data_dict):\n",
    "    \n",
    "    high_noise = []\n",
    "    high_flux = []\n",
    "    high_wave = []\n",
    "    high_class = []\n",
    "    high_redshift = []\n",
    "    high_eboss_tgt = []\n",
    "    \n",
    "    low_noise = []\n",
    "    low_flux = []\n",
    "    low_wave = []\n",
    "    low_class = []\n",
    "    low_redshift = []\n",
    "    low_eboss_tgt = []\n",
    "    \n",
    "    for i in range(len(data_dict['CLASS'])):\n",
    "        \n",
    "        if data_dict['NOISE'][i]  > 2.:\n",
    "            \n",
    "            high_noise.append(data_dict['NOISE'][i])\n",
    "            high_flux.append(data_dict['FLUX'][i])\n",
    "            high_wave.append(data_dict['WAVE'][i])\n",
    "            high_class.append(data_dict['CLASS'][i])\n",
    "            high_redshift.append(data_dict['REDSHIFT'][i])\n",
    "            #high_eboss_tgt.append(data_dict['EBOSS_TARGET1'][i])\n",
    "            \n",
    "        elif data_dict['NOISE'][i] <= 2.:\n",
    "            \n",
    "            low_noise.append(data_dict['NOISE'][i])\n",
    "            low_flux.append(data_dict['FLUX'][i])\n",
    "            low_wave.append(data_dict['WAVE'][i])\n",
    "            low_class.append(data_dict['CLASS'][i])\n",
    "            low_redshift.append(data_dict['REDSHIFT'][i])\n",
    "            #low_eboss_tgt.append(data_dict['EBOSS_TARGET1'][i])\n",
    "            \n",
    "    \n",
    "    high_SN_dict = {'NOISE': high_noise, 'FLUX': high_flux, 'WAVE': high_wave, 'CLASS': high_class,\\\n",
    "                   'REDSHIFT': high_redshift, 'EBOSS_TARGET1': high_eboss_tgt}\n",
    "    \n",
    "    low_SN_dict = {'NOISE': low_noise, 'FLUX': low_flux, 'WAVE': low_wave, 'CLASS': low_class,\\\n",
    "                  'REDSHIFT': low_redshift, 'EBOSS_TARGET1': low_eboss_tgt}\n",
    "    \n",
    "    SN_dict = {'HIGH': high_SN_dict, 'LOW': low_SN_dict}\n",
    "    \n",
    "    return SN_dict"
   ]
  },
  {
   "cell_type": "code",
   "execution_count": 3,
   "metadata": {},
   "outputs": [],
   "source": [
    "star_dict = pd.read_pickle(\"/Users/matt/Desktop/DESI_Research/DESI_ML/var_CNN/Dictionaries/object_dict/star_dict\")\n",
    "quasar_dict = pd.read_pickle(\"/Users/matt/Desktop/DESI_Research/DESI_ML/var_CNN/Dictionaries/object_dict/quasar_dict\")\n",
    "var_dict = pd.read_pickle(\"/Users/matt/Desktop/DESI_Research/DESI_ML/var_CNN/Dictionaries/object_dict/varqso_dict\")\n",
    "high_quasar_dict = pd.read_pickle(\"/Users/matt/Desktop/DESI_Research/DESI_ML/var_CNN/Dictionaries/object_dict/high_SN_quasar_dict\")"
   ]
  },
  {
   "cell_type": "code",
   "execution_count": 4,
   "metadata": {},
   "outputs": [],
   "source": [
    "noise_star = np.asarray(star_dict['NOISE'])\n",
    "redshift_star = np.asarray(star_dict['REDSHIFT'])\n",
    "\n",
    "noise_quasar = np.asarray(quasar_dict['NOISE'])\n",
    "redshift_quasar = np.asarray(quasar_dict['REDSHIFT'])\n",
    "\n",
    "noise_varqso = np.asarray(var_dict['NOISE'])\n",
    "redshift_varqso = np.asarray(var_dict['REDSHIFT'])\n",
    "\n",
    "high_noise_quasar = np.asarray(high_quasar_dict['NOISE'])\n",
    "high_redshift_quasar = np.asarray(high_quasar_dict['REDSHIFT'])"
   ]
  },
  {
   "cell_type": "markdown",
   "metadata": {},
   "source": [
    "## Star Data Analysis:"
   ]
  },
  {
   "cell_type": "code",
   "execution_count": 5,
   "metadata": {},
   "outputs": [
    {
     "name": "stdout",
     "output_type": "stream",
     "text": [
      "Total number of stars = 71101\n"
     ]
    }
   ],
   "source": [
    "print('Total number of stars =', len(star_dict['CLASS']))"
   ]
  },
  {
   "cell_type": "code",
   "execution_count": 6,
   "metadata": {},
   "outputs": [
    {
     "data": {
      "text/plain": [
       "Text(0, 0.5, 'Frequency')"
      ]
     },
     "execution_count": 6,
     "metadata": {},
     "output_type": "execute_result"
    },
    {
     "data": {
      "image/png": "[encoded data removed]",
      "text/plain": [
       "<Figure size 432x288 with 1 Axes>"
      ]
     },
     "metadata": {
      "needs_background": "light"
     },
     "output_type": "display_data"
    }
   ],
   "source": [
    "a,b,c = plt.hist(noise_star,bins = 50)\n",
    "plt.xlim(0,30)\n",
    "plt.title('SN histogram for Stars')\n",
    "plt.xlabel('S/N Value')\n",
    "plt.ylabel('Frequency')"
   ]
  },
  {
   "cell_type": "code",
   "execution_count": 7,
   "metadata": {
    "scrolled": true
   },
   "outputs": [
    {
     "data": {
      "text/plain": [
       "Text(0, 0.5, 'Frequency')"
      ]
     },
     "execution_count": 7,
     "metadata": {},
     "output_type": "execute_result"
    },
    {
     "data": {
      "image/png": "[encoded data removed]",
      "text/plain": [
       "<Figure size 432x288 with 1 Axes>"
      ]
     },
     "metadata": {
      "needs_background": "light"
     },
     "output_type": "display_data"
    }
   ],
   "source": [
    "a,b,c = plt.hist(redshift_star, bins = 50)\n",
    "plt.title('Redshift histogram for Stars')\n",
    "plt.xlabel('Redshift Value')\n",
    "plt.ylabel('Frequency')"
   ]
  },
  {
   "cell_type": "code",
   "execution_count": 8,
   "metadata": {},
   "outputs": [],
   "source": [
    "star_highSN = []\n",
    "star_lowSN = []\n",
    "        \n",
    "for i in range(len(noise_star)):\n",
    "    \n",
    "    if noise_star[i] >= 12:\n",
    "        star_highSN.append(noise_star[i])\n",
    "        \n",
    "    elif noise_star[i] <= 2.:\n",
    "        star_lowSN.append(noise_star[i])"
   ]
  },
  {
   "cell_type": "code",
   "execution_count": 9,
   "metadata": {},
   "outputs": [
    {
     "name": "stdout",
     "output_type": "stream",
     "text": [
      "Number of low SN stars = 6063\n",
      "Number of high SN stars = 21092\n"
     ]
    }
   ],
   "source": [
    "print('Number of low SN stars =', len(star_lowSN))\n",
    "print('Number of high SN stars =', len(star_highSN))"
   ]
  },
  {
   "cell_type": "code",
   "execution_count": 10,
   "metadata": {},
   "outputs": [
    {
     "name": "stdout",
     "output_type": "stream",
     "text": [
      "Number of low SN stars = 446\n",
      "Number of high SN stars = 21092\n"
     ]
    }
   ],
   "source": [
    "star_highSN = []\n",
    "star_lowSN = []\n",
    "        \n",
    "for i in range(len(noise_star)):\n",
    "    \n",
    "    if noise_star[i] >= 12:\n",
    "        star_highSN.append(noise_star[i])\n",
    "        \n",
    "    elif noise_star[i] <= 1.:\n",
    "        star_lowSN.append(noise_star[i])\n",
    "        \n",
    "print('Number of low SN stars =', len(star_lowSN))\n",
    "print('Number of high SN stars =', len(star_highSN))"
   ]
  },
  {
   "cell_type": "markdown",
   "metadata": {},
   "source": [
    "## Quasar Data Analysis:"
   ]
  },
  {
   "cell_type": "code",
   "execution_count": 11,
   "metadata": {},
   "outputs": [
    {
     "name": "stdout",
     "output_type": "stream",
     "text": [
      "Total number of quasars = 73086\n"
     ]
    }
   ],
   "source": [
    "print('Total number of quasars =',len(quasar_dict['CLASS']))"
   ]
  },
  {
   "cell_type": "code",
   "execution_count": 12,
   "metadata": {},
   "outputs": [
    {
     "data": {
      "text/plain": [
       "Text(0, 0.5, 'Frequency')"
      ]
     },
     "execution_count": 12,
     "metadata": {},
     "output_type": "execute_result"
    },
    {
     "data": {
      "image/png": "[encoded data removed]",
      "text/plain": [
       "<Figure size 432x288 with 1 Axes>"
      ]
     },
     "metadata": {
      "needs_background": "light"
     },
     "output_type": "display_data"
    }
   ],
   "source": [
    "a,b,c = plt.hist(noise_quasar,bins = 100)\n",
    "plt.xlim(0,30)\n",
    "plt.title('SN histogram for Quasars')\n",
    "plt.xlabel('S/N Value')\n",
    "plt.ylabel('Frequency')"
   ]
  },
  {
   "cell_type": "code",
   "execution_count": 13,
   "metadata": {},
   "outputs": [
    {
     "data": {
      "text/plain": [
       "Text(0, 0.5, 'Frequency')"
      ]
     },
     "execution_count": 13,
     "metadata": {},
     "output_type": "execute_result"
    },
    {
     "data": {
      "image/png": "[encoded data removed]",
      "text/plain": [
       "<Figure size 432x288 with 1 Axes>"
      ]
     },
     "metadata": {
      "needs_background": "light"
     },
     "output_type": "display_data"
    }
   ],
   "source": [
    "a,b,c = plt.hist(redshift_quasar, bins = 50)\n",
    "plt.title('Redshift histogram for Quasars')\n",
    "plt.xlabel('Redshift Value')\n",
    "plt.ylabel('Frequency')"
   ]
  },
  {
   "cell_type": "code",
   "execution_count": 14,
   "metadata": {},
   "outputs": [
    {
     "data": {
      "text/plain": [
       "Text(0.5, 1.0, 'SN vs Redshift for QSOs')"
      ]
     },
     "execution_count": 14,
     "metadata": {},
     "output_type": "execute_result"
    },
    {
     "data": {
      "image/png": "[encoded data removed]",
      "text/plain": [
       "<Figure size 432x288 with 1 Axes>"
      ]
     },
     "metadata": {
      "needs_background": "light"
     },
     "output_type": "display_data"
    }
   ],
   "source": [
    "redshift_qso = np.asarray(redshift_quasar[:,0])\n",
    "noise_qso = np.asarray(noise_quasar[:,0])\n",
    "\n",
    "plt.hist2d(redshift_qso, noise_qso,range=[[2.5,3.], [0,30]], bins = 50 ) \n",
    "plt.xlabel('Redshift from 2.45 < z < 3.05')\n",
    "plt.ylabel('SN ')\n",
    "plt.title('SN vs Redshift for QSOs')"
   ]
  },
  {
   "cell_type": "code",
   "execution_count": 15,
   "metadata": {},
   "outputs": [
    {
     "data": {
      "text/plain": [
       "numpy.ndarray"
      ]
     },
     "execution_count": 15,
     "metadata": {},
     "output_type": "execute_result"
    }
   ],
   "source": [
    "type(redshift_qso)"
   ]
  },
  {
   "cell_type": "code",
   "execution_count": 16,
   "metadata": {},
   "outputs": [],
   "source": [
    "quasar_highSN = []\n",
    "quasar_lowSN = []\n",
    "        \n",
    "for i in range(len(noise_quasar)):\n",
    "    \n",
    "    if noise_quasar[i] >= 12:\n",
    "        quasar_highSN.append(noise_quasar[i])\n",
    "        \n",
    "    elif noise_quasar[i] <= 2.:\n",
    "        quasar_lowSN.append(noise_quasar[i])"
   ]
  },
  {
   "cell_type": "code",
   "execution_count": 17,
   "metadata": {},
   "outputs": [
    {
     "name": "stdout",
     "output_type": "stream",
     "text": [
      "Number of low SN quasars = 23400\n",
      "Number of high SN quasars = 4149\n"
     ]
    }
   ],
   "source": [
    "print('Number of low SN quasars =', len(quasar_lowSN))\n",
    "print('Number of high SN quasars =', len(quasar_highSN))"
   ]
  },
  {
   "cell_type": "code",
   "execution_count": 18,
   "metadata": {},
   "outputs": [
    {
     "name": "stdout",
     "output_type": "stream",
     "text": [
      "Number of low SN quasars = 8486\n",
      "Number of high SN quasars = 4149\n"
     ]
    }
   ],
   "source": [
    "quasar_highSN = []\n",
    "quasar_lowSN = []\n",
    "        \n",
    "for i in range(len(noise_quasar)):\n",
    "    \n",
    "    if noise_quasar[i] >= 12:\n",
    "        quasar_highSN.append(noise_quasar[i])\n",
    "        \n",
    "    elif noise_quasar[i] <= 1.:\n",
    "        quasar_lowSN.append(noise_quasar[i])\n",
    "        \n",
    "print('Number of low SN quasars =', len(quasar_lowSN))\n",
    "print('Number of high SN quasars =', len(quasar_highSN))"
   ]
  },
  {
   "cell_type": "markdown",
   "metadata": {},
   "source": [
    "## High SN Quasar Data"
   ]
  },
  {
   "cell_type": "code",
   "execution_count": 19,
   "metadata": {},
   "outputs": [],
   "source": [
    "high_noise = high_quasar_dict['NOISE']\n",
    "high_wave = high_quasar_dict['WAVE']\n",
    "high_redshift = high_quasar_dict['REDSHIFT']"
   ]
  },
  {
   "cell_type": "code",
   "execution_count": 20,
   "metadata": {},
   "outputs": [
    {
     "name": "stdout",
     "output_type": "stream",
     "text": [
      "5923\n"
     ]
    }
   ],
   "source": [
    "print(len(high_noise))"
   ]
  },
  {
   "cell_type": "code",
   "execution_count": 21,
   "metadata": {},
   "outputs": [
    {
     "data": {
      "text/plain": [
       "Text(0, 0.5, 'Frequency')"
      ]
     },
     "execution_count": 21,
     "metadata": {},
     "output_type": "execute_result"
    },
    {
     "data": {
      "image/png": "[encoded data removed]",
      "text/plain": [
       "<Figure size 432x288 with 1 Axes>"
      ]
     },
     "metadata": {
      "needs_background": "light"
     },
     "output_type": "display_data"
    }
   ],
   "source": [
    "a,b,c = plt.hist(np.asarray(high_noise), bins = 50)\n",
    "plt.title('High SN histogram for Quasars SN')\n",
    "plt.xlabel('S/N Value')\n",
    "plt.ylabel('Frequency')"
   ]
  },
  {
   "cell_type": "code",
   "execution_count": 22,
   "metadata": {},
   "outputs": [
    {
     "data": {
      "text/plain": [
       "Text(0, 0.5, 'Frequency')"
      ]
     },
     "execution_count": 22,
     "metadata": {},
     "output_type": "execute_result"
    },
    {
     "data": {
      "image/png": "[encoded data removed]",
      "text/plain": [
       "<Figure size 432x288 with 1 Axes>"
      ]
     },
     "metadata": {
      "needs_background": "light"
     },
     "output_type": "display_data"
    }
   ],
   "source": [
    "a,b,c = plt.hist(np.asarray(high_redshift), bins = 50)\n",
    "plt.title('High SN histogram for Quasars redshift')\n",
    "plt.xlabel('Redshift Value')\n",
    "plt.ylabel('Frequency')"
   ]
  },
  {
   "cell_type": "code",
   "execution_count": 23,
   "metadata": {},
   "outputs": [],
   "source": [
    "high_noise = np.array(high_noise)\n",
    "high_redshift = np.array(high_redshift)\n",
    "\n",
    "high_noise = high_noise[:,0]\n",
    "high_redshift = high_redshift[:,0]"
   ]
  },
  {
   "cell_type": "code",
   "execution_count": 24,
   "metadata": {},
   "outputs": [
    {
     "data": {
      "text/plain": [
       "Text(0.5, 1.0, 'SN vs Redshift for QSOs')"
      ]
     },
     "execution_count": 24,
     "metadata": {},
     "output_type": "execute_result"
    },
    {
     "data": {
      "image/png": "[encoded data removed]",
      "text/plain": [
       "<Figure size 432x288 with 1 Axes>"
      ]
     },
     "metadata": {
      "needs_background": "light"
     },
     "output_type": "display_data"
    }
   ],
   "source": [
    "plt.hist2d(high_redshift, high_noise,range=[[2.45,3.05], [12,30]], bins = 50 ) \n",
    "plt.xlabel('Redshift from 2.45 < z < 3.05')\n",
    "plt.ylabel('SN ')\n",
    "plt.title('SN vs Redshift for QSOs')"
   ]
  },
  {
   "cell_type": "code",
   "execution_count": 25,
   "metadata": {},
   "outputs": [],
   "source": [
    "highSN = []\n",
    "highZ = []\n",
    "\n",
    "lowSN = []\n",
    "lowZ = []\n",
    "        \n",
    "for i in range(len(high_noise)):\n",
    "    \n",
    "    if high_noise[i] >= 12:\n",
    "        highSN.append(high_noise[i])\n",
    "        highZ.append(high_redshift[i])\n",
    "        \n",
    "    elif high_noise[i] <= 2.:\n",
    "        lowSN.append(noise_quasar[i])\n",
    "        lowZ.append(high_redshift[i])"
   ]
  },
  {
   "cell_type": "code",
   "execution_count": null,
   "metadata": {},
   "outputs": [],
   "source": []
  },
  {
   "cell_type": "code",
   "execution_count": null,
   "metadata": {},
   "outputs": [],
   "source": []
  },
  {
   "cell_type": "code",
   "execution_count": 26,
   "metadata": {},
   "outputs": [
    {
     "name": "stdout",
     "output_type": "stream",
     "text": [
      "Number of low SN quasars = 0\n",
      "Number of high SN quasars = 5923\n"
     ]
    }
   ],
   "source": [
    "print('Number of low SN quasars =', len(lowSN))\n",
    "print('Number of high SN quasars =', len(highSN))"
   ]
  },
  {
   "cell_type": "code",
   "execution_count": 27,
   "metadata": {},
   "outputs": [
    {
     "name": "stdout",
     "output_type": "stream",
     "text": [
      "Number of low SN quasars = 0\n",
      "Number of high SN quasars = 5923\n"
     ]
    }
   ],
   "source": [
    "highSN = []\n",
    "highZ = []\n",
    "\n",
    "lowSN = []\n",
    "lowZ = []\n",
    "        \n",
    "for i in range(len(high_noise)):\n",
    "    \n",
    "    if high_noise[i] >= 12:\n",
    "        highSN.append(high_noise[i])\n",
    "        highZ.append(high_redshift[i])\n",
    "        \n",
    "    elif high_noise[i] <= 1.:\n",
    "        lowSN.append(noise_quasar[i])\n",
    "        lowZ.append(high_redshift[i])\n",
    "        \n",
    "        \n",
    "print('Number of low SN quasars =', len(lowSN))\n",
    "print('Number of high SN quasars =', len(highSN))"
   ]
  },
  {
   "cell_type": "code",
   "execution_count": 28,
   "metadata": {},
   "outputs": [],
   "source": [
    "# a,b,c = plt.hist(np.asarray(quasar_highSN),bins = 50)\n",
    "# plt.title('High SN histogram for Quasars')\n",
    "# plt.xlabel('S/N Value')\n",
    "# plt.ylabel('Frequency')"
   ]
  },
  {
   "cell_type": "code",
   "execution_count": 29,
   "metadata": {},
   "outputs": [],
   "source": [
    "# a,b,c = plt.hist(np.asarray(quasar_high_Z), bins = 50)\n",
    "# plt.title('Redshift histogram for High SN Quasars')\n",
    "# plt.xlabel('Redshift Value')\n",
    "# plt.ylabel('Frequency')"
   ]
  },
  {
   "cell_type": "markdown",
   "metadata": {},
   "source": [
    "## Variable Quasar Data Analysis:"
   ]
  },
  {
   "cell_type": "code",
   "execution_count": 30,
   "metadata": {},
   "outputs": [],
   "source": [
    "variable_SN_dict = creating_SN_data(var_dict)"
   ]
  },
  {
   "cell_type": "code",
   "execution_count": 31,
   "metadata": {},
   "outputs": [],
   "source": [
    "high_var = variable_SN_dict['HIGH']"
   ]
  },
  {
   "cell_type": "code",
   "execution_count": 32,
   "metadata": {},
   "outputs": [
    {
     "name": "stdout",
     "output_type": "stream",
     "text": [
      "Total number of quasars = 5914\n"
     ]
    }
   ],
   "source": [
    "print('Total number of quasars =',len(var_dict['CLASS']))"
   ]
  },
  {
   "cell_type": "code",
   "execution_count": 33,
   "metadata": {},
   "outputs": [
    {
     "data": {
      "text/plain": [
       "Text(0, 0.5, 'Frequency')"
      ]
     },
     "execution_count": 33,
     "metadata": {},
     "output_type": "execute_result"
    },
    {
     "data": {
      "image/png": "[encoded data removed]",
      "text/plain": [
       "<Figure size 432x288 with 1 Axes>"
      ]
     },
     "metadata": {
      "needs_background": "light"
     },
     "output_type": "display_data"
    }
   ],
   "source": [
    "a,b,c = plt.hist(noise_varqso,bins = 100)\n",
    "plt.xlim(0,2)\n",
    "plt.title('SN histogram for Variable Quasars')\n",
    "plt.xlabel('S/N Value')\n",
    "plt.ylabel('Frequency')"
   ]
  },
  {
   "cell_type": "code",
   "execution_count": 57,
   "metadata": {},
   "outputs": [
    {
     "data": {
      "text/plain": [
       "Text(0, 0.5, 'Frequency')"
      ]
     },
     "execution_count": 57,
     "metadata": {},
     "output_type": "execute_result"
    },
    {
     "data": {
      "image/png": "[encoded data removed]",
      "text/plain": [
       "<Figure size 432x288 with 1 Axes>"
      ]
     },
     "metadata": {
      "needs_background": "light"
     },
     "output_type": "display_data"
    }
   ],
   "source": [
    "a,b,c = plt.hist(redshift_varqso, bins = 20)\n",
    "plt.title('Redshift histogram for Variable Quasars')\n",
    "plt.xlabel('Redshift Value')\n",
    "plt.ylabel('Frequency')\n",
    "#plt.ylim(0,300)"
   ]
  },
  {
   "cell_type": "code",
   "execution_count": 56,
   "metadata": {},
   "outputs": [
    {
     "data": {
      "text/plain": [
       "Text(0, 0.5, 'Frequency')"
      ]
     },
     "execution_count": 56,
     "metadata": {},
     "output_type": "execute_result"
    },
    {
     "data": {
      "image/png": "[encoded data removed]",
      "text/plain": [
       "<Figure size 432x288 with 1 Axes>"
      ]
     },
     "metadata": {
      "needs_background": "light"
     },
     "output_type": "display_data"
    }
   ],
   "source": [
    "a,b,c = plt.hist(np.asarray(high_redshift), bins = 20)\n",
    "plt.title('High SN histogram for Quasars redshift')\n",
    "plt.xlabel('Redshift Value')\n",
    "plt.ylabel('Frequency')\n",
    "#plt.ylim(0,300)"
   ]
  },
  {
   "cell_type": "code",
   "execution_count": 35,
   "metadata": {},
   "outputs": [
    {
     "data": {
      "text/plain": [
       "Text(0.5, 1.0, 'SN vs Redshift for Variable QSOs')"
      ]
     },
     "execution_count": 35,
     "metadata": {},
     "output_type": "execute_result"
    },
    {
     "data": {
      "image/png": "[encoded data removed]",
      "text/plain": [
       "<Figure size 432x288 with 1 Axes>"
      ]
     },
     "metadata": {
      "needs_background": "light"
     },
     "output_type": "display_data"
    }
   ],
   "source": [
    "redshift_var = np.asarray(redshift_varqso[:,0])\n",
    "noise_var = np.asarray(noise_varqso[:,0])\n",
    "\n",
    "plt.hist2d(redshift_var, noise_var, range=[[2.45,3.05], [0,2]], bins = 50 )\n",
    "plt.xlabel('Redshift from 2.45 < z < 3.05')\n",
    "plt.ylabel('SN ')\n",
    "plt.title('SN vs Redshift for Variable QSOs')"
   ]
  },
  {
   "cell_type": "markdown",
   "metadata": {},
   "source": [
    "## Low SN Variable Quasars"
   ]
  },
  {
   "cell_type": "code",
   "execution_count": 36,
   "metadata": {},
   "outputs": [],
   "source": [
    "inrange_varqsos = []\n",
    "\n",
    "for i in range(len(redshift_varqso)):\n",
    "    \n",
    "    if (redshift_varqso[i] >= 2.45) & (redshift_varqso[i] <= 3.05):\n",
    "        \n",
    "        inrange_varqsos.append(redshift_varqso[i])\n",
    "        \n",
    "    else:\n",
    "        pass"
   ]
  },
  {
   "cell_type": "code",
   "execution_count": 37,
   "metadata": {},
   "outputs": [
    {
     "name": "stdout",
     "output_type": "stream",
     "text": [
      "Number of variable quasars in redshift range = 5914\n"
     ]
    }
   ],
   "source": [
    "print('Number of variable quasars in redshift range =',\\\n",
    "      len(inrange_varqsos))"
   ]
  },
  {
   "cell_type": "code",
   "execution_count": 38,
   "metadata": {},
   "outputs": [],
   "source": [
    "varqso_highSN = []\n",
    "varqso_lowSN = []\n",
    "        \n",
    "for i in range(len(noise_varqso)):\n",
    "    \n",
    "    if noise_varqso[i] <= 2.:\n",
    "        varqso_lowSN.append(noise_varqso[i])\n",
    "        \n",
    "        \n",
    "    elif noise_varqso[i] >= 12.:\n",
    "        varqso_highSN.append(noise_varqso[i])"
   ]
  },
  {
   "cell_type": "code",
   "execution_count": 39,
   "metadata": {},
   "outputs": [
    {
     "name": "stdout",
     "output_type": "stream",
     "text": [
      "Number of low SN quasars = 2459\n",
      "Number of high SN quasars = 0\n"
     ]
    }
   ],
   "source": [
    "print('Number of low SN quasars =', len(varqso_lowSN))\n",
    "print('Number of high SN quasars =', len(varqso_highSN))"
   ]
  },
  {
   "cell_type": "code",
   "execution_count": 40,
   "metadata": {},
   "outputs": [
    {
     "name": "stdout",
     "output_type": "stream",
     "text": [
      "Number of low SN quasars = 620\n",
      "Number of high SN quasars = 0\n"
     ]
    }
   ],
   "source": [
    "varqso_highSN = []\n",
    "varqso_lowSN = []\n",
    "        \n",
    "for i in range(len(noise_varqso)):\n",
    "    \n",
    "    if noise_varqso[i] <= 1.:\n",
    "        varqso_lowSN.append(noise_varqso[i])\n",
    "        \n",
    "        \n",
    "    elif noise_varqso[i] >= 12.:\n",
    "        varqso_highSN.append(noise_varqso[i])\n",
    "        \n",
    "print('Number of low SN quasars =', len(varqso_lowSN))\n",
    "print('Number of high SN quasars =', len(varqso_highSN))"
   ]
  },
  {
   "cell_type": "code",
   "execution_count": null,
   "metadata": {},
   "outputs": [],
   "source": []
  }
 ],
 "metadata": {
  "kernelspec": {
   "display_name": "Python 3",
   "language": "python",
   "name": "python3"
  },
  "language_info": {
   "codemirror_mode": {
    "name": "ipython",
    "version": 3
   },
   "file_extension": ".py",
   "mimetype": "text/x-python",
   "name": "python",
   "nbconvert_exporter": "python",
   "pygments_lexer": "ipython3",
   "version": "3.6.7"
  }
 },
 "nbformat": 4,
 "nbformat_minor": 2
}
